{
 "cells": [
  {
   "cell_type": "code",
   "execution_count": 3,
   "metadata": {
    "collapsed": true
   },
   "outputs": [
    {
     "name": "stdout",
     "output_type": "stream",
     "text": [
      "Requirement already satisfied: fastbook in /opt/conda/lib/python3.7/site-packages (0.0.26)\n",
      "Requirement already satisfied: datasets in /opt/conda/lib/python3.7/site-packages (from fastbook) (2.2.2)\n",
      "Requirement already satisfied: fastai>=2.6 in /opt/conda/lib/python3.7/site-packages (from fastbook) (2.6.3)\n",
      "Requirement already satisfied: pip in /opt/conda/lib/python3.7/site-packages (from fastbook) (20.3.3)\n",
      "Requirement already satisfied: requests in /opt/conda/lib/python3.7/site-packages (from fastbook) (2.24.0)\n",
      "Requirement already satisfied: sentencepiece in /opt/conda/lib/python3.7/site-packages (from fastbook) (0.1.86)\n",
      "Requirement already satisfied: graphviz in /opt/conda/lib/python3.7/site-packages (from fastbook) (0.16)\n",
      "Requirement already satisfied: packaging in /opt/conda/lib/python3.7/site-packages (from fastbook) (20.9)\n",
      "Requirement already satisfied: transformers in /opt/conda/lib/python3.7/site-packages (from fastbook) (4.19.2)\n",
      "Requirement already satisfied: pandas in /opt/conda/lib/python3.7/site-packages (from fastbook) (1.2.2)\n",
      "Requirement already satisfied: fastprogress>=0.2.4 in /opt/conda/lib/python3.7/site-packages (from fastai>=2.6->fastbook) (1.0.0)\n",
      "Requirement already satisfied: torch<1.12,>=1.7.0 in /opt/conda/lib/python3.7/site-packages (from fastai>=2.6->fastbook) (1.7.1)\n",
      "Requirement already satisfied: pyyaml in /opt/conda/lib/python3.7/site-packages (from fastai>=2.6->fastbook) (5.3.1)\n",
      "Requirement already satisfied: fastcore<1.5,>=1.3.27 in /opt/conda/lib/python3.7/site-packages (from fastai>=2.6->fastbook) (1.4.3)\n",
      "Requirement already satisfied: matplotlib in /opt/conda/lib/python3.7/site-packages (from fastai>=2.6->fastbook) (3.3.4)\n",
      "Requirement already satisfied: scipy in /opt/conda/lib/python3.7/site-packages (from fastai>=2.6->fastbook) (1.6.0)\n",
      "Requirement already satisfied: spacy<4 in /opt/conda/lib/python3.7/site-packages (from fastai>=2.6->fastbook) (2.3.5)\n",
      "Requirement already satisfied: fastdownload<2,>=0.0.5 in /opt/conda/lib/python3.7/site-packages (from fastai>=2.6->fastbook) (0.0.6)\n",
      "Requirement already satisfied: pillow>6.0.0 in /opt/conda/lib/python3.7/site-packages (from fastai>=2.6->fastbook) (8.1.0)\n",
      "Requirement already satisfied: torchvision>=0.8.2 in /opt/conda/lib/python3.7/site-packages (from fastai>=2.6->fastbook) (0.8.2)\n",
      "Requirement already satisfied: scikit-learn in /opt/conda/lib/python3.7/site-packages (from fastai>=2.6->fastbook) (0.24.1)\n",
      "Requirement already satisfied: numpy in /opt/conda/lib/python3.7/site-packages (from fastprogress>=0.2.4->fastai>=2.6->fastbook) (1.19.2)\n",
      "Requirement already satisfied: cymem<2.1.0,>=2.0.2 in /opt/conda/lib/python3.7/site-packages (from spacy<4->fastai>=2.6->fastbook) (2.0.5)\n",
      "Requirement already satisfied: setuptools in /opt/conda/lib/python3.7/site-packages (from spacy<4->fastai>=2.6->fastbook) (51.1.2.post20210112)\n",
      "Requirement already satisfied: thinc<7.5.0,>=7.4.1 in /opt/conda/lib/python3.7/site-packages (from spacy<4->fastai>=2.6->fastbook) (7.4.5)\n",
      "Requirement already satisfied: srsly<1.1.0,>=1.0.2 in /opt/conda/lib/python3.7/site-packages (from spacy<4->fastai>=2.6->fastbook) (1.0.5)\n",
      "Requirement already satisfied: preshed<3.1.0,>=3.0.2 in /opt/conda/lib/python3.7/site-packages (from spacy<4->fastai>=2.6->fastbook) (3.0.5)\n",
      "Requirement already satisfied: catalogue<1.1.0,>=0.0.7 in /opt/conda/lib/python3.7/site-packages (from spacy<4->fastai>=2.6->fastbook) (1.0.0)\n",
      "Requirement already satisfied: blis<0.8.0,>=0.4.0 in /opt/conda/lib/python3.7/site-packages (from spacy<4->fastai>=2.6->fastbook) (0.7.4)\n",
      "Requirement already satisfied: wasabi<1.1.0,>=0.4.0 in /opt/conda/lib/python3.7/site-packages (from spacy<4->fastai>=2.6->fastbook) (0.8.2)\n",
      "Requirement already satisfied: plac<1.2.0,>=0.9.6 in /opt/conda/lib/python3.7/site-packages (from spacy<4->fastai>=2.6->fastbook) (1.1.3)\n",
      "Requirement already satisfied: murmurhash<1.1.0,>=0.28.0 in /opt/conda/lib/python3.7/site-packages (from spacy<4->fastai>=2.6->fastbook) (1.0.5)\n",
      "Requirement already satisfied: tqdm<5.0.0,>=4.38.0 in /opt/conda/lib/python3.7/site-packages (from spacy<4->fastai>=2.6->fastbook) (4.64.0)\n",
      "Requirement already satisfied: importlib-metadata>=0.20 in /opt/conda/lib/python3.7/site-packages (from catalogue<1.1.0,>=0.0.7->spacy<4->fastai>=2.6->fastbook) (3.4.0)\n",
      "Requirement already satisfied: zipp>=0.5 in /opt/conda/lib/python3.7/site-packages (from importlib-metadata>=0.20->catalogue<1.1.0,>=0.0.7->spacy<4->fastai>=2.6->fastbook) (3.4.0)\n",
      "Requirement already satisfied: typing-extensions>=3.6.4 in /opt/conda/lib/python3.7/site-packages (from importlib-metadata>=0.20->catalogue<1.1.0,>=0.0.7->spacy<4->fastai>=2.6->fastbook) (3.7.4.3)\n",
      "Requirement already satisfied: urllib3!=1.25.0,!=1.25.1,<1.26,>=1.21.1 in /opt/conda/lib/python3.7/site-packages (from requests->fastbook) (1.25.11)\n",
      "Requirement already satisfied: chardet<4,>=3.0.2 in /opt/conda/lib/python3.7/site-packages (from requests->fastbook) (3.0.4)\n",
      "Requirement already satisfied: certifi>=2017.4.17 in /opt/conda/lib/python3.7/site-packages (from requests->fastbook) (2020.12.5)\n",
      "Requirement already satisfied: idna<3,>=2.5 in /opt/conda/lib/python3.7/site-packages (from requests->fastbook) (2.10)\n",
      "Requirement already satisfied: fsspec[http]>=2021.05.0 in /opt/conda/lib/python3.7/site-packages (from datasets->fastbook) (2022.5.0)\n",
      "Requirement already satisfied: xxhash in /opt/conda/lib/python3.7/site-packages (from datasets->fastbook) (3.0.0)\n",
      "Requirement already satisfied: huggingface-hub<1.0.0,>=0.1.0 in /opt/conda/lib/python3.7/site-packages (from datasets->fastbook) (0.7.0)\n",
      "Requirement already satisfied: multiprocess in /opt/conda/lib/python3.7/site-packages (from datasets->fastbook) (0.70.12.2)\n",
      "Requirement already satisfied: responses<0.19 in /opt/conda/lib/python3.7/site-packages (from datasets->fastbook) (0.18.0)\n",
      "Requirement already satisfied: pyarrow>=6.0.0 in /opt/conda/lib/python3.7/site-packages (from datasets->fastbook) (8.0.0)\n",
      "Requirement already satisfied: dill<0.3.5 in /opt/conda/lib/python3.7/site-packages (from datasets->fastbook) (0.3.4)\n",
      "Requirement already satisfied: aiohttp in /opt/conda/lib/python3.7/site-packages (from datasets->fastbook) (3.8.1)\n",
      "Requirement already satisfied: filelock in /opt/conda/lib/python3.7/site-packages (from huggingface-hub<1.0.0,>=0.1.0->datasets->fastbook) (3.0.12)\n",
      "Requirement already satisfied: pyparsing>=2.0.2 in /opt/conda/lib/python3.7/site-packages (from packaging->fastbook) (2.4.7)\n",
      "Requirement already satisfied: asynctest==0.13.0 in /opt/conda/lib/python3.7/site-packages (from aiohttp->datasets->fastbook) (0.13.0)\n",
      "Requirement already satisfied: yarl<2.0,>=1.0 in /opt/conda/lib/python3.7/site-packages (from aiohttp->datasets->fastbook) (1.7.2)\n",
      "Requirement already satisfied: async-timeout<5.0,>=4.0.0a3 in /opt/conda/lib/python3.7/site-packages (from aiohttp->datasets->fastbook) (4.0.2)\n",
      "Requirement already satisfied: frozenlist>=1.1.1 in /opt/conda/lib/python3.7/site-packages (from aiohttp->datasets->fastbook) (1.3.0)\n",
      "Requirement already satisfied: charset-normalizer<3.0,>=2.0 in /opt/conda/lib/python3.7/site-packages (from aiohttp->datasets->fastbook) (2.0.12)\n",
      "Requirement already satisfied: attrs>=17.3.0 in /opt/conda/lib/python3.7/site-packages (from aiohttp->datasets->fastbook) (20.3.0)\n",
      "Requirement already satisfied: aiosignal>=1.1.2 in /opt/conda/lib/python3.7/site-packages (from aiohttp->datasets->fastbook) (1.2.0)\n",
      "Requirement already satisfied: multidict<7.0,>=4.5 in /opt/conda/lib/python3.7/site-packages (from aiohttp->datasets->fastbook) (6.0.2)\n",
      "Requirement already satisfied: cycler>=0.10 in /opt/conda/lib/python3.7/site-packages (from matplotlib->fastai>=2.6->fastbook) (0.10.0)\n",
      "Requirement already satisfied: python-dateutil>=2.1 in /opt/conda/lib/python3.7/site-packages (from matplotlib->fastai>=2.6->fastbook) (2.8.1)\n",
      "Requirement already satisfied: kiwisolver>=1.0.1 in /opt/conda/lib/python3.7/site-packages (from matplotlib->fastai>=2.6->fastbook) (1.3.1)\n",
      "Requirement already satisfied: six in /opt/conda/lib/python3.7/site-packages (from cycler>=0.10->matplotlib->fastai>=2.6->fastbook) (1.15.0)\n",
      "Requirement already satisfied: pytz>=2017.3 in /opt/conda/lib/python3.7/site-packages (from pandas->fastbook) (2020.5)\n"
     ]
    },
    {
     "name": "stdout",
     "output_type": "stream",
     "text": [
      "Requirement already satisfied: threadpoolctl>=2.0.0 in /opt/conda/lib/python3.7/site-packages (from scikit-learn->fastai>=2.6->fastbook) (2.1.0)\n",
      "Requirement already satisfied: joblib>=0.11 in /opt/conda/lib/python3.7/site-packages (from scikit-learn->fastai>=2.6->fastbook) (1.0.1)\n",
      "Requirement already satisfied: tokenizers!=0.11.3,<0.13,>=0.11.1 in /opt/conda/lib/python3.7/site-packages (from transformers->fastbook) (0.12.1)\n",
      "Requirement already satisfied: regex!=2019.12.17 in /opt/conda/lib/python3.7/site-packages (from transformers->fastbook) (2022.4.24)\n"
     ]
    }
   ],
   "source": [
    "#_hide\n",
    "! [ -e /content ] && pip install -Uqq fastbook\n",
    "! pip install  fastbook\n",
    "import fastbook\n",
    "fastbook.setup_book()"
   ]
  },
  {
   "cell_type": "code",
   "execution_count": 4,
   "metadata": {},
   "outputs": [],
   "source": [
    "#hide\n",
    "from fastbook import *"
   ]
  },
  {
   "cell_type": "raw",
   "metadata": {},
   "source": [
    "[[chapter_intro]]"
   ]
  },
  {
   "cell_type": "markdown",
   "metadata": {},
   "source": [
    "## The Software: PyTorch, fastai, and Jupyter"
   ]
  },
  {
   "cell_type": "markdown",
   "metadata": {},
   "source": [
    "## Your First Model"
   ]
  },
  {
   "cell_type": "code",
   "execution_count": 5,
   "metadata": {},
   "outputs": [
    {
     "name": "stdout",
     "output_type": "stream",
     "text": [
      "total 48\r\n",
      "drwx------ 1 root root 4096 May 30 01:30 \u001b[0m\u001b[01;34m.\u001b[0m/\r\n",
      "drwxr-xr-x 1 root root 4096 May 30 01:28 \u001b[01;34m..\u001b[0m/\r\n",
      "-rw-r--r-- 1 root root 3106 Apr  9  2018 .bashrc\r\n",
      "drwxr-xr-x 1 root root 4096 May 30 01:31 \u001b[01;34m.cache\u001b[0m/\r\n",
      "-rw-r--r-- 1 root root   25 May 30 00:30 .condarc\r\n",
      "drwxr-xr-x 3 root root 4096 May 30 01:30 \u001b[01;34m.config\u001b[0m/\r\n",
      "drwxr-xr-x 5 root root 4096 May 30 01:28 \u001b[01;34m.ipython\u001b[0m/\r\n",
      "drwxrwxr-x 3 1000 1000 4096 May 29 23:21 \u001b[01;34m.jupyter\u001b[0m/\r\n",
      "drwxr-xr-x 3 root root 4096 May 30 01:28 \u001b[01;34m.local\u001b[0m/\r\n",
      "-rw-r--r-- 1 root root  148 Aug 17  2015 .profile\r\n"
     ]
    }
   ],
   "source": [
    "ls -la /root"
   ]
  },
  {
   "cell_type": "code",
   "execution_count": 6,
   "metadata": {},
   "outputs": [
    {
     "data": {
      "text/html": [
       "\n",
       "    <div>\n",
       "        <style>\n",
       "            /* Turns off some styling */\n",
       "            progress {\n",
       "                /* gets rid of default border in Firefox and Opera. */\n",
       "                border: none;\n",
       "                /* Needs to be in here for Safari polyfill so background images work as expected. */\n",
       "                background-size: auto;\n",
       "            }\n",
       "            .progress-bar-interrupted, .progress-bar-interrupted::-webkit-progress-bar {\n",
       "                background: #F44336;\n",
       "            }\n",
       "        </style>\n",
       "      <progress value='811712512' class='' max='811706944' style='width:300px; height:20px; vertical-align: middle;'></progress>\n",
       "      100.00% [811712512/811706944 01:21<00:00]\n",
       "    </div>\n",
       "    "
      ],
      "text/plain": [
       "<IPython.core.display.HTML object>"
      ]
     },
     "metadata": {},
     "output_type": "display_data"
    }
   ],
   "source": [
    "#id first_training\n",
    "#caption Results from the first training\n",
    "# CLICK ME\n",
    "from fastai.vision.all import *\n",
    "path = untar_data(URLs.PETS)/'images'\n"
   ]
  },
  {
   "cell_type": "code",
   "execution_count": 20,
   "metadata": {
    "collapsed": true
   },
   "outputs": [
    {
     "name": "stdout",
     "output_type": "stream",
     "text": [
      "32\n",
      "0\n",
      "7393\n",
      "'/bb/pomeranian_106.jpg' -> '/root/.fastai/data/oxford-iiit-pet/images/pomeranian_106.jpg'\n",
      "'/bb/Persian_187.jpg' -> '/root/.fastai/data/oxford-iiit-pet/images/Persian_187.jpg'\n",
      "'/bb/samoyed_29.jpg' -> '/root/.fastai/data/oxford-iiit-pet/images/samoyed_29.jpg'\n",
      "'/bb/beagle_189.jpg' -> '/root/.fastai/data/oxford-iiit-pet/images/beagle_189.jpg'\n",
      "'/bb/Birman_143.jpg' -> '/root/.fastai/data/oxford-iiit-pet/images/Birman_143.jpg'\n",
      "'/bb/leonberger_66.jpg' -> '/root/.fastai/data/oxford-iiit-pet/images/leonberger_66.jpg'\n",
      "'/bb/english_setter_102.jpg' -> '/root/.fastai/data/oxford-iiit-pet/images/english_setter_102.jpg'\n",
      "'/bb/Russian_Blue_75.jpg' -> '/root/.fastai/data/oxford-iiit-pet/images/Russian_Blue_75.jpg'\n",
      "'/bb/Russian_Blue_87.jpg' -> '/root/.fastai/data/oxford-iiit-pet/images/Russian_Blue_87.jpg'\n",
      "'/bb/Maine_Coon_1.jpg' -> '/root/.fastai/data/oxford-iiit-pet/images/Maine_Coon_1.jpg'\n",
      "'/bb/shiba_inu_68.jpg' -> '/root/.fastai/data/oxford-iiit-pet/images/shiba_inu_68.jpg'\n",
      "'/bb/german_shorthaired_100.jpg' -> '/root/.fastai/data/oxford-iiit-pet/images/german_shorthaired_100.jpg'\n",
      "'/bb/basset_hound_132.jpg' -> '/root/.fastai/data/oxford-iiit-pet/images/basset_hound_132.jpg'\n",
      "'/bb/american_bulldog_52.jpg' -> '/root/.fastai/data/oxford-iiit-pet/images/american_bulldog_52.jpg'\n",
      "'/bb/boxer_61.jpg' -> '/root/.fastai/data/oxford-iiit-pet/images/boxer_61.jpg'\n",
      "'/bb/boxer_10.jpg' -> '/root/.fastai/data/oxford-iiit-pet/images/boxer_10.jpg'\n",
      "'/bb/great_pyrenees_73.jpg' -> '/root/.fastai/data/oxford-iiit-pet/images/great_pyrenees_73.jpg'\n",
      "'/bb/Persian_115.jpg' -> '/root/.fastai/data/oxford-iiit-pet/images/Persian_115.jpg'\n",
      "'/bb/basset_hound_197.jpg' -> '/root/.fastai/data/oxford-iiit-pet/images/basset_hound_197.jpg'\n",
      "'/bb/staffordshire_bull_terrier_131.jpg' -> '/root/.fastai/data/oxford-iiit-pet/images/staffordshire_bull_terrier_131.jpg'\n",
      "'/bb/english_cocker_spaniel_180.jpg' -> '/root/.fastai/data/oxford-iiit-pet/images/english_cocker_spaniel_180.jpg'\n",
      "'/bb/samoyed_6.jpg' -> '/root/.fastai/data/oxford-iiit-pet/images/samoyed_6.jpg'\n",
      "'/bb/British_Shorthair_196.jpg' -> '/root/.fastai/data/oxford-iiit-pet/images/British_Shorthair_196.jpg'\n",
      "'/bb/english_setter_2.jpg' -> '/root/.fastai/data/oxford-iiit-pet/images/english_setter_2.jpg'\n",
      "'/bb/german_shorthaired_92.jpg' -> '/root/.fastai/data/oxford-iiit-pet/images/german_shorthaired_92.jpg'\n",
      "'/bb/saint_bernard_187.jpg' -> '/root/.fastai/data/oxford-iiit-pet/images/saint_bernard_187.jpg'\n",
      "'/bb/boxer_62.jpg' -> '/root/.fastai/data/oxford-iiit-pet/images/boxer_62.jpg'\n",
      "'/bb/boxer_189.jpg' -> '/root/.fastai/data/oxford-iiit-pet/images/boxer_189.jpg'\n",
      "'/bb/leonberger_59.jpg' -> '/root/.fastai/data/oxford-iiit-pet/images/leonberger_59.jpg'\n",
      "'/bb/american_bulldog_14.jpg' -> '/root/.fastai/data/oxford-iiit-pet/images/american_bulldog_14.jpg'\n",
      "'/bb/american_pit_bull_terrier_148.jpg' -> '/root/.fastai/data/oxford-iiit-pet/images/american_pit_bull_terrier_148.jpg'\n",
      "'/bb/keeshond_1.jpg' -> '/root/.fastai/data/oxford-iiit-pet/images/keeshond_1.jpg'\n",
      "'/bb/havanese_2.jpg' -> '/root/.fastai/data/oxford-iiit-pet/images/havanese_2.jpg'\n",
      "'/bb/leonberger_133.jpg' -> '/root/.fastai/data/oxford-iiit-pet/images/leonberger_133.jpg'\n",
      "'/bb/havanese_30.jpg' -> '/root/.fastai/data/oxford-iiit-pet/images/havanese_30.jpg'\n",
      "'/bb/newfoundland_170.jpg' -> '/root/.fastai/data/oxford-iiit-pet/images/newfoundland_170.jpg'\n",
      "'/bb/samoyed_163.jpg' -> '/root/.fastai/data/oxford-iiit-pet/images/samoyed_163.jpg'\n",
      "'/bb/chihuahua_23.jpg' -> '/root/.fastai/data/oxford-iiit-pet/images/chihuahua_23.jpg'\n",
      "'/bb/scottish_terrier_196.jpg' -> '/root/.fastai/data/oxford-iiit-pet/images/scottish_terrier_196.jpg'\n",
      "'/bb/scottish_terrier_156.jpg' -> '/root/.fastai/data/oxford-iiit-pet/images/scottish_terrier_156.jpg'\n",
      "'/bb/chihuahua_108.jpg' -> '/root/.fastai/data/oxford-iiit-pet/images/chihuahua_108.jpg'\n",
      "'/bb/yorkshire_terrier_188.jpg' -> '/root/.fastai/data/oxford-iiit-pet/images/yorkshire_terrier_188.jpg'\n",
      "'/bb/havanese_146.jpg' -> '/root/.fastai/data/oxford-iiit-pet/images/havanese_146.jpg'\n",
      "'/bb/Bombay_188.jpg' -> '/root/.fastai/data/oxford-iiit-pet/images/Bombay_188.jpg'\n",
      "'/bb/scottish_terrier_164.jpg' -> '/root/.fastai/data/oxford-iiit-pet/images/scottish_terrier_164.jpg'\n",
      "'/bb/saint_bernard_118.jpg' -> '/root/.fastai/data/oxford-iiit-pet/images/saint_bernard_118.jpg'\n",
      "'/bb/beagle_90.jpg' -> '/root/.fastai/data/oxford-iiit-pet/images/beagle_90.jpg'\n",
      "'/bb/Birman_167.jpg' -> '/root/.fastai/data/oxford-iiit-pet/images/Birman_167.jpg'\n",
      "'/bb/Ragdoll_122.jpg' -> '/root/.fastai/data/oxford-iiit-pet/images/Ragdoll_122.jpg'\n",
      "'/bb/Bombay_152.jpg' -> '/root/.fastai/data/oxford-iiit-pet/images/Bombay_152.jpg'\n",
      "'/bb/samoyed_157.jpg' -> '/root/.fastai/data/oxford-iiit-pet/images/samoyed_157.jpg'\n",
      "'/bb/boxer_113.jpg' -> '/root/.fastai/data/oxford-iiit-pet/images/boxer_113.jpg'\n",
      "'/bb/samoyed_171.jpg' -> '/root/.fastai/data/oxford-iiit-pet/images/samoyed_171.jpg'\n",
      "'/bb/Egyptian_Mau_173.jpg' -> '/root/.fastai/data/oxford-iiit-pet/images/Egyptian_Mau_173.jpg'\n",
      "'/bb/Siamese_174.jpg' -> '/root/.fastai/data/oxford-iiit-pet/images/Siamese_174.jpg'\n",
      "'/bb/japanese_chin_197.jpg' -> '/root/.fastai/data/oxford-iiit-pet/images/japanese_chin_197.jpg'\n",
      "'/bb/Siamese_57.jpg' -> '/root/.fastai/data/oxford-iiit-pet/images/Siamese_57.jpg'\n",
      "'/bb/saint_bernard_53.jpg' -> '/root/.fastai/data/oxford-iiit-pet/images/saint_bernard_53.jpg'\n",
      "'/bb/pomeranian_179.jpg' -> '/root/.fastai/data/oxford-iiit-pet/images/pomeranian_179.jpg'\n",
      "'/bb/Maine_Coon_210.jpg' -> '/root/.fastai/data/oxford-iiit-pet/images/Maine_Coon_210.jpg'\n",
      "'/bb/staffordshire_bull_terrier_70.jpg' -> '/root/.fastai/data/oxford-iiit-pet/images/staffordshire_bull_terrier_70.jpg'\n",
      "'/bb/japanese_chin_142.jpg' -> '/root/.fastai/data/oxford-iiit-pet/images/japanese_chin_142.jpg'\n",
      "'/bb/leonberger_14.jpg' -> '/root/.fastai/data/oxford-iiit-pet/images/leonberger_14.jpg'\n",
      "'/bb/samoyed_117.jpg' -> '/root/.fastai/data/oxford-iiit-pet/images/samoyed_117.jpg'\n",
      "'/bb/saint_bernard_168.jpg' -> '/root/.fastai/data/oxford-iiit-pet/images/saint_bernard_168.jpg'\n",
      "'/bb/Abyssinian_191.jpg' -> '/root/.fastai/data/oxford-iiit-pet/images/Abyssinian_191.jpg'\n",
      "'/bb/staffordshire_bull_terrier_35.jpg' -> '/root/.fastai/data/oxford-iiit-pet/images/staffordshire_bull_terrier_35.jpg'\n",
      "'/bb/British_Shorthair_205.jpg' -> '/root/.fastai/data/oxford-iiit-pet/images/British_Shorthair_205.jpg'\n",
      "'/bb/samoyed_70.jpg' -> '/root/.fastai/data/oxford-iiit-pet/images/samoyed_70.jpg'\n",
      "'/bb/yorkshire_terrier_68.jpg' -> '/root/.fastai/data/oxford-iiit-pet/images/yorkshire_terrier_68.jpg'\n",
      "'/bb/german_shorthaired_166.jpg' -> '/root/.fastai/data/oxford-iiit-pet/images/german_shorthaired_166.jpg'\n",
      "'/bb/Russian_Blue_206.jpg' -> '/root/.fastai/data/oxford-iiit-pet/images/Russian_Blue_206.jpg'\n",
      "'/bb/wheaten_terrier_88.jpg' -> '/root/.fastai/data/oxford-iiit-pet/images/wheaten_terrier_88.jpg'\n",
      "'/bb/great_pyrenees_176.jpg' -> '/root/.fastai/data/oxford-iiit-pet/images/great_pyrenees_176.jpg'\n",
      "'/bb/Siamese_172.jpg' -> '/root/.fastai/data/oxford-iiit-pet/images/Siamese_172.jpg'\n",
      "'/bb/Egyptian_Mau_207.jpg' -> '/root/.fastai/data/oxford-iiit-pet/images/Egyptian_Mau_207.jpg'\n",
      "'/bb/Ragdoll_96.jpg' -> '/root/.fastai/data/oxford-iiit-pet/images/Ragdoll_96.jpg'\n",
      "'/bb/wheaten_terrier_165.jpg' -> '/root/.fastai/data/oxford-iiit-pet/images/wheaten_terrier_165.jpg'\n",
      "'/bb/german_shorthaired_181.jpg' -> '/root/.fastai/data/oxford-iiit-pet/images/german_shorthaired_181.jpg'\n",
      "'/bb/wheaten_terrier_1.jpg' -> '/root/.fastai/data/oxford-iiit-pet/images/wheaten_terrier_1.jpg'\n",
      "'/bb/Bengal_80.jpg' -> '/root/.fastai/data/oxford-iiit-pet/images/Bengal_80.jpg'\n",
      "'/bb/Siamese_231.jpg' -> '/root/.fastai/data/oxford-iiit-pet/images/Siamese_231.jpg'\n",
      "'/bb/basset_hound_117.jpg' -> '/root/.fastai/data/oxford-iiit-pet/images/basset_hound_117.jpg'\n",
      "'/bb/chihuahua_6.jpg' -> '/root/.fastai/data/oxford-iiit-pet/images/chihuahua_6.jpg'\n",
      "'/bb/Bengal_1.jpg' -> '/root/.fastai/data/oxford-iiit-pet/images/Bengal_1.jpg'\n",
      "'/bb/pug_202.jpg' -> '/root/.fastai/data/oxford-iiit-pet/images/pug_202.jpg'\n",
      "'/bb/Persian_162.jpg' -> '/root/.fastai/data/oxford-iiit-pet/images/Persian_162.jpg'\n",
      "'/bb/saint_bernard_172.jpg' -> '/root/.fastai/data/oxford-iiit-pet/images/saint_bernard_172.jpg'\n",
      "'/bb/american_pit_bull_terrier_203.jpg' -> '/root/.fastai/data/oxford-iiit-pet/images/american_pit_bull_terrier_203.jpg'\n",
      "'/bb/miniature_pinscher_113.jpg' -> '/root/.fastai/data/oxford-iiit-pet/images/miniature_pinscher_113.jpg'\n",
      "'/bb/samoyed_156.jpg' -> '/root/.fastai/data/oxford-iiit-pet/images/samoyed_156.jpg'\n",
      "'/bb/havanese_9.jpg' -> '/root/.fastai/data/oxford-iiit-pet/images/havanese_9.jpg'\n",
      "'/bb/Birman_163.jpg' -> '/root/.fastai/data/oxford-iiit-pet/images/Birman_163.jpg'\n",
      "'/bb/newfoundland_189.jpg' -> '/root/.fastai/data/oxford-iiit-pet/images/newfoundland_189.jpg'\n",
      "'/bb/Persian_164.jpg' -> '/root/.fastai/data/oxford-iiit-pet/images/Persian_164.jpg'\n",
      "'/bb/Bombay_73.jpg' -> '/root/.fastai/data/oxford-iiit-pet/images/Bombay_73.jpg'\n",
      "'/bb/leonberger_125.jpg' -> '/root/.fastai/data/oxford-iiit-pet/images/leonberger_125.jpg'\n",
      "'/bb/leonberger_113.jpg' -> '/root/.fastai/data/oxford-iiit-pet/images/leonberger_113.jpg'\n",
      "'/bb/saint_bernard_48.jpg' -> '/root/.fastai/data/oxford-iiit-pet/images/saint_bernard_48.jpg'\n",
      "'/bb/great_pyrenees_82.jpg' -> '/root/.fastai/data/oxford-iiit-pet/images/great_pyrenees_82.jpg'\n",
      "'/bb/newfoundland_160.jpg' -> '/root/.fastai/data/oxford-iiit-pet/images/newfoundland_160.jpg'\n",
      "'/bb/basset_hound_66.jpg' -> '/root/.fastai/data/oxford-iiit-pet/images/basset_hound_66.jpg'\n",
      "'/bb/shiba_inu_114.jpg' -> '/root/.fastai/data/oxford-iiit-pet/images/shiba_inu_114.jpg'\n",
      "'/bb/British_Shorthair_15.jpg' -> '/root/.fastai/data/oxford-iiit-pet/images/British_Shorthair_15.jpg'\n",
      "'/bb/havanese_49.jpg' -> '/root/.fastai/data/oxford-iiit-pet/images/havanese_49.jpg'\n",
      "'/bb/yorkshire_terrier_30.jpg' -> '/root/.fastai/data/oxford-iiit-pet/images/yorkshire_terrier_30.jpg'\n",
      "'/bb/great_pyrenees_121.jpg' -> '/root/.fastai/data/oxford-iiit-pet/images/great_pyrenees_121.jpg'\n",
      "'/bb/yorkshire_terrier_170.jpg' -> '/root/.fastai/data/oxford-iiit-pet/images/yorkshire_terrier_170.jpg'\n",
      "'/bb/boxer_81.jpg' -> '/root/.fastai/data/oxford-iiit-pet/images/boxer_81.jpg'\n",
      "'/bb/Siamese_49.jpg' -> '/root/.fastai/data/oxford-iiit-pet/images/Siamese_49.jpg'\n",
      "'/bb/wheaten_terrier_94.jpg' -> '/root/.fastai/data/oxford-iiit-pet/images/wheaten_terrier_94.jpg'\n",
      "'/bb/scottish_terrier_42.jpg' -> '/root/.fastai/data/oxford-iiit-pet/images/scottish_terrier_42.jpg'\n",
      "'/bb/leonberger_94.jpg' -> '/root/.fastai/data/oxford-iiit-pet/images/leonberger_94.jpg'\n",
      "'/bb/scottish_terrier_113.jpg' -> '/root/.fastai/data/oxford-iiit-pet/images/scottish_terrier_113.jpg'\n",
      "'/bb/pomeranian_48.jpg' -> '/root/.fastai/data/oxford-iiit-pet/images/pomeranian_48.jpg'\n",
      "'/bb/Egyptian_Mau_15.jpg' -> '/root/.fastai/data/oxford-iiit-pet/images/Egyptian_Mau_15.jpg'\n",
      "'/bb/saint_bernard_72.jpg' -> '/root/.fastai/data/oxford-iiit-pet/images/saint_bernard_72.jpg'\n",
      "'/bb/beagle_108.jpg' -> '/root/.fastai/data/oxford-iiit-pet/images/beagle_108.jpg'\n",
      "'/bb/newfoundland_34.jpg' -> '/root/.fastai/data/oxford-iiit-pet/images/newfoundland_34.jpg'\n",
      "'/bb/British_Shorthair_6.jpg' -> '/root/.fastai/data/oxford-iiit-pet/images/British_Shorthair_6.jpg'\n",
      "'/bb/pug_200.jpg' -> '/root/.fastai/data/oxford-iiit-pet/images/pug_200.jpg'\n",
      "'/bb/British_Shorthair_22.jpg' -> '/root/.fastai/data/oxford-iiit-pet/images/British_Shorthair_22.jpg'\n",
      "'/bb/american_pit_bull_terrier_81.jpg' -> '/root/.fastai/data/oxford-iiit-pet/images/american_pit_bull_terrier_81.jpg'\n",
      "'/bb/american_bulldog_101.jpg' -> '/root/.fastai/data/oxford-iiit-pet/images/american_bulldog_101.jpg'\n",
      "'/bb/Sphynx_57.jpg' -> '/root/.fastai/data/oxford-iiit-pet/images/Sphynx_57.jpg'\n",
      "'/bb/basset_hound_169.jpg' -> '/root/.fastai/data/oxford-iiit-pet/images/basset_hound_169.jpg'\n",
      "'/bb/american_bulldog_90.jpg' -> '/root/.fastai/data/oxford-iiit-pet/images/american_bulldog_90.jpg'\n",
      "'/bb/Birman_28.jpg' -> '/root/.fastai/data/oxford-iiit-pet/images/Birman_28.jpg'\n",
      "128\n"
     ]
    }
   ],
   "source": [
    "%%bash -s $path\n",
    "# get just a fractionof the 7k files...\n",
    "ls  $1 | wc -l\n",
    "mkdir -p /bb\n",
    "mv $1/* /bb\n",
    "ls  $1 | wc -l\n",
    "ls  /bb | wc -l\n",
    "find /bb -type f -name \"*.jpg\" -print0 | xargs -0 shuf -e -n 455 -z | xargs -0 cp -vt $1\n",
    "ls  $1 | wc -l"
   ]
  },
  {
   "cell_type": "code",
   "execution_count": 32,
   "metadata": {
    "collapsed": true
   },
   "outputs": [
    {
     "name": "stdout",
     "output_type": "stream",
     "text": [
      "Abyssinian_191.jpg\n",
      "Bengal_1.jpg\n",
      "Bengal_80.jpg\n",
      "Birman_143.jpg\n",
      "Birman_163.jpg\n",
      "Birman_167.jpg\n",
      "Birman_28.jpg\n",
      "Bombay_152.jpg\n",
      "Bombay_188.jpg\n",
      "Bombay_73.jpg\n",
      "British_Shorthair_15.jpg\n",
      "British_Shorthair_196.jpg\n",
      "British_Shorthair_205.jpg\n",
      "British_Shorthair_22.jpg\n",
      "British_Shorthair_6.jpg\n",
      "Egyptian_Mau_15.jpg\n",
      "Egyptian_Mau_173.jpg\n",
      "Egyptian_Mau_207.jpg\n",
      "Maine_Coon_1.jpg\n",
      "Maine_Coon_210.jpg\n",
      "Persian_115.jpg\n",
      "Persian_162.jpg\n",
      "Persian_164.jpg\n",
      "Persian_187.jpg\n",
      "Ragdoll_122.jpg\n",
      "Ragdoll_96.jpg\n",
      "Russian_Blue_206.jpg\n",
      "Russian_Blue_75.jpg\n",
      "Russian_Blue_87.jpg\n",
      "Siamese_172.jpg\n",
      "Siamese_174.jpg\n",
      "Siamese_231.jpg\n",
      "Siamese_49.jpg\n",
      "Siamese_57.jpg\n",
      "Sphynx_57.jpg\n",
      "american_bulldog_101.jpg\n",
      "american_bulldog_14.jpg\n",
      "american_bulldog_52.jpg\n",
      "american_bulldog_90.jpg\n",
      "american_pit_bull_terrier_148.jpg\n",
      "american_pit_bull_terrier_203.jpg\n",
      "american_pit_bull_terrier_81.jpg\n",
      "basset_hound_117.jpg\n",
      "basset_hound_132.jpg\n",
      "basset_hound_169.jpg\n",
      "basset_hound_197.jpg\n",
      "basset_hound_66.jpg\n",
      "beagle_108.jpg\n",
      "beagle_189.jpg\n",
      "beagle_90.jpg\n",
      "boxer_10.jpg\n",
      "boxer_113.jpg\n",
      "boxer_189.jpg\n",
      "boxer_61.jpg\n",
      "boxer_62.jpg\n",
      "boxer_81.jpg\n",
      "chihuahua_108.jpg\n",
      "chihuahua_23.jpg\n",
      "chihuahua_6.jpg\n",
      "english_cocker_spaniel_180.jpg\n",
      "english_setter_102.jpg\n",
      "english_setter_2.jpg\n",
      "german_shorthaired_100.jpg\n",
      "german_shorthaired_166.jpg\n",
      "german_shorthaired_181.jpg\n",
      "german_shorthaired_92.jpg\n",
      "great_pyrenees_121.jpg\n",
      "great_pyrenees_176.jpg\n",
      "great_pyrenees_73.jpg\n",
      "great_pyrenees_82.jpg\n",
      "havanese_146.jpg\n",
      "havanese_2.jpg\n",
      "havanese_30.jpg\n",
      "havanese_49.jpg\n",
      "havanese_9.jpg\n",
      "japanese_chin_142.jpg\n",
      "japanese_chin_197.jpg\n",
      "keeshond_1.jpg\n",
      "leonberger_113.jpg\n",
      "leonberger_125.jpg\n",
      "leonberger_133.jpg\n",
      "leonberger_14.jpg\n",
      "leonberger_59.jpg\n",
      "leonberger_66.jpg\n",
      "leonberger_94.jpg\n",
      "miniature_pinscher_113.jpg\n",
      "newfoundland_160.jpg\n",
      "newfoundland_170.jpg\n",
      "newfoundland_189.jpg\n",
      "newfoundland_34.jpg\n",
      "pomeranian_106.jpg\n",
      "pomeranian_179.jpg\n",
      "pomeranian_48.jpg\n",
      "pug_200.jpg\n",
      "pug_202.jpg\n",
      "saint_bernard_118.jpg\n",
      "saint_bernard_168.jpg\n",
      "saint_bernard_172.jpg\n",
      "saint_bernard_187.jpg\n",
      "saint_bernard_48.jpg\n",
      "saint_bernard_53.jpg\n",
      "saint_bernard_72.jpg\n",
      "samoyed_117.jpg\n",
      "samoyed_156.jpg\n",
      "samoyed_157.jpg\n",
      "samoyed_163.jpg\n",
      "samoyed_171.jpg\n",
      "samoyed_29.jpg\n",
      "samoyed_6.jpg\n",
      "samoyed_70.jpg\n",
      "scottish_terrier_113.jpg\n",
      "scottish_terrier_156.jpg\n",
      "scottish_terrier_164.jpg\n",
      "scottish_terrier_196.jpg\n",
      "scottish_terrier_42.jpg\n",
      "shiba_inu_114.jpg\n",
      "shiba_inu_68.jpg\n",
      "staffordshire_bull_terrier_131.jpg\n",
      "staffordshire_bull_terrier_35.jpg\n",
      "staffordshire_bull_terrier_70.jpg\n",
      "wheaten_terrier_1.jpg\n",
      "wheaten_terrier_165.jpg\n",
      "wheaten_terrier_88.jpg\n",
      "wheaten_terrier_94.jpg\n",
      "yorkshire_terrier_170.jpg\n",
      "yorkshire_terrier_188.jpg\n",
      "yorkshire_terrier_30.jpg\n",
      "yorkshire_terrier_68.jpg\n",
      "128\n"
     ]
    }
   ],
   "source": [
    "%%bash -s $path\n",
    "ls $1 |sort\n",
    "ls  $1 | wc -l"
   ]
  },
  {
   "cell_type": "code",
   "execution_count": 22,
   "metadata": {},
   "outputs": [
    {
     "data": {
      "text/html": [
       "<table border=\"1\" class=\"dataframe\">\n",
       "  <thead>\n",
       "    <tr style=\"text-align: left;\">\n",
       "      <th>epoch</th>\n",
       "      <th>train_loss</th>\n",
       "      <th>valid_loss</th>\n",
       "      <th>error_rate</th>\n",
       "      <th>time</th>\n",
       "    </tr>\n",
       "  </thead>\n",
       "  <tbody>\n",
       "    <tr>\n",
       "      <td>0</td>\n",
       "      <td>1.662287</td>\n",
       "      <td>1.755761</td>\n",
       "      <td>0.240000</td>\n",
       "      <td>00:26</td>\n",
       "    </tr>\n",
       "  </tbody>\n",
       "</table>"
      ],
      "text/plain": [
       "<IPython.core.display.HTML object>"
      ]
     },
     "metadata": {},
     "output_type": "display_data"
    },
    {
     "data": {
      "text/html": [
       "<table border=\"1\" class=\"dataframe\">\n",
       "  <thead>\n",
       "    <tr style=\"text-align: left;\">\n",
       "      <th>epoch</th>\n",
       "      <th>train_loss</th>\n",
       "      <th>valid_loss</th>\n",
       "      <th>error_rate</th>\n",
       "      <th>time</th>\n",
       "    </tr>\n",
       "  </thead>\n",
       "  <tbody>\n",
       "    <tr>\n",
       "      <td>0</td>\n",
       "      <td>1.437790</td>\n",
       "      <td>1.105986</td>\n",
       "      <td>0.240000</td>\n",
       "      <td>00:39</td>\n",
       "    </tr>\n",
       "  </tbody>\n",
       "</table>"
      ],
      "text/plain": [
       "<IPython.core.display.HTML object>"
      ]
     },
     "metadata": {},
     "output_type": "display_data"
    }
   ],
   "source": [
    "\n",
    "def is_cat(x): return x[0].isupper()\n",
    "dls = ImageDataLoaders.from_name_func(\n",
    "    path, get_image_files(path), valid_pct=0.2, seed=42,\n",
    "    label_func=is_cat, item_tfms=Resize(224))\n",
    "\n",
    "learn = vision_learner(dls, resnet34, metrics=error_rate)\n",
    "learn.fine_tune(1)"
   ]
  },
  {
   "cell_type": "markdown",
   "metadata": {},
   "source": [
    "You will probably not see exactly the same results that are in the book. There are a lot of sources of small random variation involved in training models. We generally see an error rate of well less than 0.02 in this example, however."
   ]
  },
  {
   "cell_type": "code",
   "execution_count": null,
   "metadata": {},
   "outputs": [],
   "source": []
  },
  {
   "cell_type": "markdown",
   "metadata": {},
   "source": [
    "> important: Training Time: Depending on your network speed, it might take a few minutes to download the pretrained model and dataset. Running `fine_tune` might take a minute or so. Often models in this book take a few minutes to train, as will your own models, so it's a good idea to come up with good techniques to make the most of this time. For instance, keep reading the next section while your model trains, or open up another notebook and use it for some coding experiments."
   ]
  },
  {
   "cell_type": "markdown",
   "metadata": {},
   "source": [
    "### Sidebar: This Book Was Written in Jupyter Notebooks"
   ]
  },
  {
   "cell_type": "markdown",
   "metadata": {},
   "source": [
    "We wrote this book using Jupyter notebooks, so for nearly every chart, table, and calculation in this book, we'll be showing you the exact code required to replicate it yourself. That's why very often in this book, you will see some code immediately followed by a table, a picture or just some text. If you go on the [book's website](https://book.fast.ai) you will find all the code, and you can try running and modifying every example yourself."
   ]
  },
  {
   "cell_type": "markdown",
   "metadata": {},
   "source": [
    "You just saw how a cell that outputs a table looks inside the book. Here is an example of a cell that outputs text:"
   ]
  },
  {
   "cell_type": "code",
   "execution_count": 23,
   "metadata": {},
   "outputs": [
    {
     "data": {
      "text/plain": [
       "2"
      ]
     },
     "execution_count": 23,
     "metadata": {},
     "output_type": "execute_result"
    }
   ],
   "source": [
    "1+1"
   ]
  },
  {
   "cell_type": "markdown",
   "metadata": {},
   "source": [
    "Jupyter will always print or show the result of the last line (if there is one). For instance, here is an example of a cell that outputs an image:"
   ]
  },
  {
   "cell_type": "code",
   "execution_count": 24,
   "metadata": {},
   "outputs": [
    {
     "data": {
      "image/png": "[encoded data removed]",
      "text/plain": [
       "<PIL.Image.Image image mode=RGB size=151x192 at 0x7FA112C87310>"
      ]
     },
     "execution_count": 24,
     "metadata": {},
     "output_type": "execute_result"
    }
   ],
   "source": [
    "img = PILImage.create(image_cat())\n",
    "img.to_thumb(192)"
   ]
  },
  {
   "cell_type": "markdown",
   "metadata": {},
   "source": [
    "### End sidebar"
   ]
  },
  {
   "cell_type": "markdown",
   "metadata": {},
   "source": [
    "So, how do we know if this model is any good? In the last column of the table you can see the error rate, which is the proportion of images that were incorrectly identified. The error rate serves as our metric—our measure of model quality, chosen to be intuitive and comprehensible. As you can see, the model is nearly perfect, even though the training time was only a few seconds (not including the one-time downloading of the dataset and the pretrained model). In fact, the accuracy you've achieved already is far better than anybody had ever achieved just 10 years ago!\n",
    "\n",
    "Finally, let's check that this model actually works. Go and get a photo of a dog, or a cat; if you don't have one handy, just search Google Images and download an image that you find there. Now execute the cell with `uploader` defined. It will output a button you can click, so you can select the image you want to classify:"
   ]
  },
  {
   "cell_type": "code",
   "execution_count": 25,
   "metadata": {},
   "outputs": [
    {
     "data": {
      "application/vnd.jupyter.widget-view+json": {
       "model_id": "d3b6cc7fdaec480289b423613e626b82",
       "version_major": 2,
       "version_minor": 0
      },
      "text/plain": [
       "FileUpload(value={}, description='Upload')"
      ]
     },
     "metadata": {},
     "output_type": "display_data"
    }
   ],
   "source": [
    "#hide_output\n",
    "uploader = widgets.FileUpload()\n",
    "uploader"
   ]
  },
  {
   "cell_type": "markdown",
   "metadata": {},
   "source": [
    "<img alt=\"An upload button\" width=\"159\" id=\"upload\" src=\"images/att_00008.png\">"
   ]
  },
  {
   "cell_type": "code",
   "execution_count": 39,
   "metadata": {
    "collapsed": true
   },
   "outputs": [
    {
     "name": "stdout",
     "output_type": "stream",
     "text": [
      "/root/.fastai/data/oxford-iiit-pet/images\n",
      "/acup\n",
      "Abyssinian_191.jpg\n",
      "Bengal_1.jpg\n",
      "Bengal_80.jpg\n",
      "Birman_143.jpg\n",
      "Birman_163.jpg\n",
      "Birman_167.jpg\n",
      "Birman_28.jpg\n",
      "Bombay_152.jpg\n",
      "Bombay_188.jpg\n",
      "Bombay_73.jpg\n",
      "British_Shorthair_15.jpg\n",
      "British_Shorthair_196.jpg\n",
      "British_Shorthair_205.jpg\n",
      "British_Shorthair_22.jpg\n",
      "British_Shorthair_6.jpg\n",
      "Egyptian_Mau_15.jpg\n",
      "Egyptian_Mau_173.jpg\n",
      "Egyptian_Mau_207.jpg\n",
      "Maine_Coon_1.jpg\n",
      "Maine_Coon_210.jpg\n",
      "Persian_115.jpg\n",
      "Persian_162.jpg\n",
      "Persian_164.jpg\n",
      "Persian_187.jpg\n",
      "Ragdoll_122.jpg\n",
      "Ragdoll_96.jpg\n",
      "Russian_Blue_206.jpg\n",
      "Russian_Blue_75.jpg\n",
      "Russian_Blue_87.jpg\n",
      "Siamese_172.jpg\n",
      "Siamese_174.jpg\n",
      "Siamese_231.jpg\n",
      "Siamese_49.jpg\n",
      "Siamese_57.jpg\n",
      "Sphynx_57.jpg\n",
      "american_bulldog_101.jpg\n",
      "american_bulldog_14.jpg\n",
      "american_bulldog_52.jpg\n",
      "american_bulldog_90.jpg\n",
      "american_pit_bull_terrier_148.jpg\n",
      "american_pit_bull_terrier_203.jpg\n",
      "american_pit_bull_terrier_81.jpg\n",
      "basset_hound_117.jpg\n",
      "basset_hound_132.jpg\n",
      "basset_hound_169.jpg\n",
      "basset_hound_197.jpg\n",
      "basset_hound_66.jpg\n",
      "beagle_108.jpg\n",
      "beagle_189.jpg\n",
      "beagle_90.jpg\n",
      "boxer_10.jpg\n",
      "boxer_113.jpg\n",
      "boxer_189.jpg\n",
      "boxer_61.jpg\n",
      "boxer_62.jpg\n",
      "boxer_81.jpg\n",
      "chihuahua_108.jpg\n",
      "chihuahua_23.jpg\n",
      "chihuahua_6.jpg\n",
      "english_cocker_spaniel_180.jpg\n",
      "english_setter_102.jpg\n",
      "english_setter_2.jpg\n",
      "german_shorthaired_100.jpg\n",
      "german_shorthaired_166.jpg\n",
      "german_shorthaired_181.jpg\n",
      "german_shorthaired_92.jpg\n",
      "great_pyrenees_121.jpg\n",
      "great_pyrenees_176.jpg\n",
      "great_pyrenees_73.jpg\n",
      "great_pyrenees_82.jpg\n",
      "havanese_146.jpg\n",
      "havanese_2.jpg\n",
      "havanese_30.jpg\n",
      "havanese_49.jpg\n",
      "havanese_9.jpg\n",
      "japanese_chin_142.jpg\n",
      "japanese_chin_197.jpg\n",
      "keeshond_1.jpg\n",
      "leonberger_113.jpg\n",
      "leonberger_125.jpg\n",
      "leonberger_133.jpg\n",
      "leonberger_14.jpg\n",
      "leonberger_59.jpg\n",
      "leonberger_66.jpg\n",
      "leonberger_94.jpg\n",
      "miniature_pinscher_113.jpg\n",
      "newfoundland_160.jpg\n",
      "newfoundland_170.jpg\n",
      "newfoundland_189.jpg\n",
      "newfoundland_34.jpg\n",
      "pomeranian_106.jpg\n",
      "pomeranian_179.jpg\n",
      "pomeranian_48.jpg\n",
      "pug_200.jpg\n",
      "pug_202.jpg\n",
      "saint_bernard_118.jpg\n",
      "saint_bernard_168.jpg\n",
      "saint_bernard_172.jpg\n",
      "saint_bernard_187.jpg\n",
      "saint_bernard_48.jpg\n",
      "saint_bernard_53.jpg\n",
      "saint_bernard_72.jpg\n",
      "samoyed_117.jpg\n",
      "samoyed_156.jpg\n",
      "samoyed_157.jpg\n",
      "samoyed_163.jpg\n",
      "samoyed_171.jpg\n",
      "samoyed_29.jpg\n",
      "samoyed_6.jpg\n",
      "samoyed_70.jpg\n",
      "scottish_terrier_113.jpg\n",
      "scottish_terrier_156.jpg\n",
      "scottish_terrier_164.jpg\n",
      "scottish_terrier_196.jpg\n",
      "scottish_terrier_42.jpg\n",
      "shiba_inu_114.jpg\n",
      "shiba_inu_68.jpg\n",
      "staffordshire_bull_terrier_131.jpg\n",
      "staffordshire_bull_terrier_35.jpg\n",
      "staffordshire_bull_terrier_70.jpg\n",
      "wheaten_terrier_1.jpg\n",
      "wheaten_terrier_165.jpg\n",
      "wheaten_terrier_88.jpg\n",
      "wheaten_terrier_94.jpg\n",
      "yorkshire_terrier_170.jpg\n",
      "yorkshire_terrier_188.jpg\n",
      "yorkshire_terrier_30.jpg\n",
      "yorkshire_terrier_68.jpg\n"
     ]
    }
   ],
   "source": [
    "%%bash -s $path\n",
    "echo $1\n",
    "pwd\n",
    "ls $1"
   ]
  },
  {
   "cell_type": "markdown",
   "metadata": {},
   "source": [
    "Now you can pass the uploaded file to the model. Make sure that it is a clear photo of a single dog or a cat, and not a line drawing, cartoon, or similar. The notebook will tell you whether it thinks it is a dog or a cat, and how confident it is. Hopefully, you'll find that your model did a great job:"
   ]
  },
  {
   "cell_type": "code",
   "execution_count": 40,
   "metadata": {
    "hide_input": false
   },
   "outputs": [],
   "source": [
    "#hide\n",
    "# For the book, we can't actually click an upload button, so we fake it\n",
    "uploader = SimpleNamespace(data = ['/root/.fastai/data/oxford-iiit-pet/images/Persian_187.jpg'])"
   ]
  },
  {
   "cell_type": "code",
   "execution_count": 43,
   "metadata": {},
   "outputs": [
    {
     "data": {
      "text/html": [],
      "text/plain": [
       "<IPython.core.display.HTML object>"
      ]
     },
     "metadata": {},
     "output_type": "display_data"
    },
    {
     "name": "stdout",
     "output_type": "stream",
     "text": [
      "Is this a cat?: False.\n",
      "Probability it's a cat: 0.015943\n"
     ]
    },
    {
     "data": {
      "image/png": "[encoded data removed]",
      "text/plain": [
       "<PIL.Image.Image image mode=RGB size=192x144 at 0x7FA0FF61EC90>"
      ]
     },
     "execution_count": 43,
     "metadata": {},
     "output_type": "execute_result"
    }
   ],
   "source": [
    "img = PILImage.create(uploader.data[0])\n",
    "is_cat,_,probs = learn.predict(img)\n",
    "print(f\"Is this a cat?: {is_cat}.\")\n",
    "print(f\"Probability it's a cat: {probs[1].item():.6f}\")\n",
    "img.to_thumb(192)"
   ]
  },
  {
   "cell_type": "markdown",
   "metadata": {},
   "source": [
    "Congratulations on your first classifier!\n",
    "\n",
    "But what does this mean? What did you actually do? In order to explain this, let's zoom out again to take in the big picture. "
   ]
  },
  {
   "cell_type": "markdown",
   "metadata": {},
   "source": [
    "### What Is Machine Learning?"
   ]
  },
  {
   "cell_type": "markdown",
   "metadata": {},
   "source": [
    "Your classifier is a deep learning model. As was already mentioned, deep learning models use neural networks, which originally date from the 1950s and have become powerful very recently thanks to recent advancements.\n",
    "\n",
    "Another key piece of context is that deep learning is just a modern area in the more general discipline of *machine learning*. To understand the essence of what you did when you trained your own classification model, you don't need to understand deep learning. It is enough to see how your model and your training process are examples of the concepts that apply to machine learning in general.\n",
    "\n",
    "So in this section, we will describe what machine learning is. We will look at the key concepts, and show how they can be traced back to the original essay that introduced them.\n",
    "\n",
    "*Machine learning* is, like regular programming, a way to get computers to complete a specific task. But how would we use regular programming to do what we just did in the last section: recognize dogs versus cats in photos? We would have to write down for the computer the exact steps necessary to complete the task.\n",
    "\n",
    "Normally, it's easy enough for us to write down the steps to complete a task when we're writing a program. We just think about the steps we'd take if we had to do the task by hand, and then we translate them into code. For instance, we can write a function that sorts a list. In general, we'd write a function that looks something like <<basic_program>> (where *inputs* might be an unsorted list, and *results* a sorted list)."
   ]
  },
  {
   "cell_type": "code",
   "execution_count": 44,
   "metadata": {
    "hide_input": false
   },
   "outputs": [
    {
     "data": {
      "image/svg+xml": [
       "<?xml version=\"1.0\" encoding=\"UTF-8\" standalone=\"no\"?>\n",
       "<!DOCTYPE svg PUBLIC \"-//W3C//DTD SVG 1.1//EN\"\n",
       " \"http://www.w3.org/Graphics/SVG/1.1/DTD/svg11.dtd\">\n",
       "<!-- Generated by graphviz version 2.40.1 (20161225.0304)\n",
       " -->\n",
       "<!-- Title: G Pages: 1 -->\n",
       "<svg width=\"324pt\" height=\"58pt\"\n",
       " viewBox=\"0.00 0.00 324.39 58.00\" xmlns=\"http://www.w3.org/2000/svg\" xmlns:xlink=\"http://www.w3.org/1999/xlink\">\n",
       "<g id=\"graph0\" class=\"graph\" transform=\"scale(1 1) rotate(0) translate(4 54)\">\n",
       "<title>G</title>\n",
       "<polygon fill=\"#ffffff\" stroke=\"transparent\" points=\"-4,4 -4,-54 320.3852,-54 320.3852,4 -4,4\"/>\n",
       "<!-- program -->\n",
       "<g id=\"node1\" class=\"node\">\n",
       "<title>program</title>\n",
       "<polygon fill=\"none\" stroke=\"#000000\" points=\"194.5928,-50 120.5928,-50 116.5928,-46 116.5928,0 190.5928,0 194.5928,-4 194.5928,-50\"/>\n",
       "<polyline fill=\"none\" stroke=\"#000000\" points=\"190.5928,-46 116.5928,-46 \"/>\n",
       "<polyline fill=\"none\" stroke=\"#000000\" points=\"190.5928,-46 190.5928,0 \"/>\n",
       "<polyline fill=\"none\" stroke=\"#000000\" points=\"190.5928,-46 194.5928,-50 \"/>\n",
       "<text text-anchor=\"middle\" x=\"155.5928\" y=\"-21.3\" font-family=\"Times,serif\" font-size=\"14.00\" fill=\"#000000\">program</text>\n",
       "</g>\n",
       "<!-- results -->\n",
       "<g id=\"node3\" class=\"node\">\n",
       "<title>results</title>\n",
       "<ellipse fill=\"none\" stroke=\"#000000\" cx=\"273.489\" cy=\"-25\" rx=\"42.7926\" ry=\"18\"/>\n",
       "<text text-anchor=\"middle\" x=\"273.489\" y=\"-21.3\" font-family=\"Times,serif\" font-size=\"14.00\" fill=\"#000000\">results</text>\n",
       "</g>\n",
       "<!-- program&#45;&gt;results -->\n",
       "<g id=\"edge2\" class=\"edge\">\n",
       "<title>program&#45;&gt;results</title>\n",
       "<path fill=\"none\" stroke=\"#000000\" d=\"M194.8506,-25C202.9463,-25 211.6018,-25 220.1017,-25\"/>\n",
       "<polygon fill=\"#000000\" stroke=\"#000000\" points=\"220.3445,-28.5001 230.3445,-25 220.3444,-21.5001 220.3445,-28.5001\"/>\n",
       "</g>\n",
       "<!-- inputs -->\n",
       "<g id=\"node2\" class=\"node\">\n",
       "<title>inputs</title>\n",
       "<ellipse fill=\"none\" stroke=\"#000000\" cx=\"40.2964\" cy=\"-25\" rx=\"40.0939\" ry=\"18\"/>\n",
       "<text text-anchor=\"middle\" x=\"40.2964\" y=\"-21.3\" font-family=\"Times,serif\" font-size=\"14.00\" fill=\"#000000\">inputs</text>\n",
       "</g>\n",
       "<!-- inputs&#45;&gt;program -->\n",
       "<g id=\"edge1\" class=\"edge\">\n",
       "<title>inputs&#45;&gt;program</title>\n",
       "<path fill=\"none\" stroke=\"#000000\" d=\"M80.6215,-25C88.8392,-25 97.5746,-25 106.0698,-25\"/>\n",
       "<polygon fill=\"#000000\" stroke=\"#000000\" points=\"106.262,-28.5001 116.262,-25 106.262,-21.5001 106.262,-28.5001\"/>\n",
       "</g>\n",
       "</g>\n",
       "</svg>\n"
      ],
      "text/plain": [
       "<graphviz.files.Source at 0x7fa0ff688850>"
      ]
     },
     "execution_count": 44,
     "metadata": {},
     "output_type": "execute_result"
    }
   ],
   "source": [
    "#hide_input\n",
    "#caption A traditional program\n",
    "#id basic_program\n",
    "#alt Pipeline inputs, program, results\n",
    "gv('''program[shape=box3d width=1 height=0.7]\n",
    "inputs->program->results''')"
   ]
  },
  {
   "cell_type": "markdown",
   "metadata": {},
   "source": [
    "But for recognizing objects in a photo that's a bit tricky; what *are* the steps we take when we recognize an object in a picture? We really don't know, since it all happens in our brain without us being consciously aware of it!\n",
    "\n",
    "Right back at the dawn of computing, in 1949, an IBM researcher named Arthur Samuel started working on a different way to get computers to complete tasks, which he called *machine learning*. In his classic 1962 essay \"Artificial Intelligence: A Frontier of Automation\", he wrote:"
   ]
  },
  {
   "cell_type": "markdown",
   "metadata": {},
   "source": [
    "> : Programming a computer for such computations is, at best, a difficult task, not primarily because of any inherent complexity in the computer itself but, rather, because of the need to spell out every minute step of the process in the most exasperating detail. Computers, as any programmer will tell you, are giant morons, not giant brains."
   ]
  },
  {
   "cell_type": "markdown",
   "metadata": {},
   "source": [
    "His basic idea was this: instead of telling the computer the exact steps required to solve a problem, show it examples of the problem to solve, and let it figure out how to solve it itself. This turned out to be very effective: by 1961 his checkers-playing program had learned so much that it beat the Connecticut state champion! Here's how he described his idea (from the same essay as above):"
   ]
  },
  {
   "cell_type": "markdown",
   "metadata": {},
   "source": [
    "> : Suppose we arrange for some automatic means of testing the effectiveness of any current weight assignment in terms of actual performance and provide a mechanism for altering the weight assignment so as to maximize the performance. We need not go into the details of such a procedure to see that it could be made entirely automatic and to see that a machine so programmed would \"learn\" from its experience."
   ]
  },
  {
   "cell_type": "markdown",
   "metadata": {},
   "source": [
    "There are a number of powerful concepts embedded in this short statement: \n",
    "\n",
    "- The idea of a \"weight assignment\" \n",
    "- The fact that every weight assignment has some \"actual performance\"\n",
    "- The requirement that there be an \"automatic means\" of testing that performance,  \n",
    "- The need for a \"mechanism\" (i.e., another automatic process) for improving the performance by changing the weight assignments\n",
    "\n",
    "Let us take these concepts one by one, in order to understand how they fit together in practice. First, we need to understand what Samuel means by a *weight assignment*.\n",
    "\n",
    "Weights are just variables, and a weight assignment is a particular choice of values for those variables. The program's inputs are values that it processes in order to produce its results—for instance, taking image pixels as inputs, and returning the classification \"dog\" as a result. The program's weight assignments are other values that define how the program will operate.\n",
    "\n",
    "Since they will affect the program they are in a sense another kind of input, so we will update our basic picture in <<basic_program>> and replace it with <<weight_assignment>> in order to take this into account."
   ]
  },
  {
   "cell_type": "code",
   "execution_count": 45,
   "metadata": {
    "hide_input": true
   },
   "outputs": [
    {
     "data": {
      "image/svg+xml": [
       "<?xml version=\"1.0\" encoding=\"UTF-8\" standalone=\"no\"?>\n",
       "<!DOCTYPE svg PUBLIC \"-//W3C//DTD SVG 1.1//EN\"\n",
       " \"http://www.w3.org/Graphics/SVG/1.1/DTD/svg11.dtd\">\n",
       "<!-- Generated by graphviz version 2.40.1 (20161225.0304)\n",
       " -->\n",
       "<!-- Title: G Pages: 1 -->\n",
       "<svg width=\"333pt\" height=\"98pt\"\n",
       " viewBox=\"0.00 0.00 332.68 98.00\" xmlns=\"http://www.w3.org/2000/svg\" xmlns:xlink=\"http://www.w3.org/1999/xlink\">\n",
       "<g id=\"graph0\" class=\"graph\" transform=\"scale(1 1) rotate(0) translate(4 94)\">\n",
       "<title>G</title>\n",
       "<polygon fill=\"#ffffff\" stroke=\"transparent\" points=\"-4,4 -4,-94 328.684,-94 328.684,4 -4,4\"/>\n",
       "<!-- model -->\n",
       "<g id=\"node1\" class=\"node\">\n",
       "<title>model</title>\n",
       "<polygon fill=\"none\" stroke=\"#000000\" points=\"202.8916,-70 134.8916,-70 130.8916,-66 130.8916,-20 198.8916,-20 202.8916,-24 202.8916,-70\"/>\n",
       "<polyline fill=\"none\" stroke=\"#000000\" points=\"198.8916,-66 130.8916,-66 \"/>\n",
       "<polyline fill=\"none\" stroke=\"#000000\" points=\"198.8916,-66 198.8916,-20 \"/>\n",
       "<polyline fill=\"none\" stroke=\"#000000\" points=\"198.8916,-66 202.8916,-70 \"/>\n",
       "<text text-anchor=\"middle\" x=\"166.8916\" y=\"-41.3\" font-family=\"Times,serif\" font-size=\"14.00\" fill=\"#000000\">model</text>\n",
       "</g>\n",
       "<!-- results -->\n",
       "<g id=\"node3\" class=\"node\">\n",
       "<title>results</title>\n",
       "<ellipse fill=\"none\" stroke=\"#000000\" cx=\"281.7878\" cy=\"-45\" rx=\"42.7926\" ry=\"18\"/>\n",
       "<text text-anchor=\"middle\" x=\"281.7878\" y=\"-41.3\" font-family=\"Times,serif\" font-size=\"14.00\" fill=\"#000000\">results</text>\n",
       "</g>\n",
       "<!-- model&#45;&gt;results -->\n",
       "<g id=\"edge2\" class=\"edge\">\n",
       "<title>model&#45;&gt;results</title>\n",
       "<path fill=\"none\" stroke=\"#000000\" d=\"M202.9302,-45C211.0661,-45 219.8705,-45 228.5463,-45\"/>\n",
       "<polygon fill=\"#000000\" stroke=\"#000000\" points=\"228.6241,-48.5001 238.6241,-45 228.6241,-41.5001 228.6241,-48.5001\"/>\n",
       "</g>\n",
       "<!-- inputs -->\n",
       "<g id=\"node2\" class=\"node\">\n",
       "<title>inputs</title>\n",
       "<ellipse fill=\"none\" stroke=\"#000000\" cx=\"47.4458\" cy=\"-72\" rx=\"40.0939\" ry=\"18\"/>\n",
       "<text text-anchor=\"middle\" x=\"47.4458\" y=\"-68.3\" font-family=\"Times,serif\" font-size=\"14.00\" fill=\"#000000\">inputs</text>\n",
       "</g>\n",
       "<!-- inputs&#45;&gt;model -->\n",
       "<g id=\"edge1\" class=\"edge\">\n",
       "<title>inputs&#45;&gt;model</title>\n",
       "<path fill=\"none\" stroke=\"#000000\" d=\"M83.6076,-63.8258C95.302,-61.1824 108.4317,-58.2145 120.7478,-55.4305\"/>\n",
       "<polygon fill=\"#000000\" stroke=\"#000000\" points=\"121.8705,-58.7651 130.8527,-53.1464 120.327,-51.9374 121.8705,-58.7651\"/>\n",
       "</g>\n",
       "<!-- weights -->\n",
       "<g id=\"node4\" class=\"node\">\n",
       "<title>weights</title>\n",
       "<ellipse fill=\"none\" stroke=\"#000000\" cx=\"47.4458\" cy=\"-18\" rx=\"47.3916\" ry=\"18\"/>\n",
       "<text text-anchor=\"middle\" x=\"47.4458\" y=\"-14.3\" font-family=\"Times,serif\" font-size=\"14.00\" fill=\"#000000\">weights</text>\n",
       "</g>\n",
       "<!-- weights&#45;&gt;model -->\n",
       "<g id=\"edge3\" class=\"edge\">\n",
       "<title>weights&#45;&gt;model</title>\n",
       "<path fill=\"none\" stroke=\"#000000\" d=\"M88.2182,-27.2164C98.6661,-29.578 109.9772,-32.1349 120.6778,-34.5536\"/>\n",
       "<polygon fill=\"#000000\" stroke=\"#000000\" points=\"120.1762,-38.0285 130.7019,-36.8195 121.7197,-31.2008 120.1762,-38.0285\"/>\n",
       "</g>\n",
       "</g>\n",
       "</svg>\n"
      ],
      "text/plain": [
       "<graphviz.files.Source at 0x7fa0ff6282d0>"
      ]
     },
     "execution_count": 45,
     "metadata": {},
     "output_type": "execute_result"
    }
   ],
   "source": [
    "#hide_input\n",
    "#caption A program using weight assignment\n",
    "#id weight_assignment\n",
    "gv('''model[shape=box3d width=1 height=0.7]\n",
    "inputs->model->results; weights->model''')"
   ]
  },
  {
   "cell_type": "markdown",
   "metadata": {},
   "source": [
    "We've changed the name of our box from *program* to *model*. This is to follow modern terminology and to reflect that the *model* is a special kind of program: it's one that can do *many different things*, depending on the *weights*. It can be implemented in many different ways. For instance, in Samuel's checkers program, different values of the weights would result in different checkers-playing strategies. \n",
    "\n",
    "(By the way, what Samuel called \"weights\" are most generally referred to as model *parameters* these days, in case you have encountered that term. The term *weights* is reserved for a particular type of model parameter.)\n",
    "\n",
    "Next, Samuel said we need an *automatic means of testing the effectiveness of any current weight assignment in terms of actual performance*. In the case of his checkers program, the \"actual performance\" of a model would be how well it plays. And you could automatically test the performance of two models by setting them to play against each other, and seeing which one usually wins.\n",
    "\n",
    "Finally, he says we need *a mechanism for altering the weight assignment so as to maximize the performance*. For instance, we could look at the difference in weights between the winning model and the losing model, and adjust the weights a little further in the winning direction.\n",
    "\n",
    "We can now see why he said that such a procedure *could be made entirely automatic and... a machine so programmed would \"learn\" from its experience*. Learning would become entirely automatic when the adjustment of the weights was also automatic—when instead of us improving a model by adjusting its weights manually, we relied on an automated mechanism that produced adjustments based on performance.\n",
    "\n",
    "<<training_loop>> shows the full picture of Samuel's idea of training a machine learning model."
   ]
  },
  {
   "cell_type": "code",
   "execution_count": 46,
   "metadata": {
    "hide_input": true
   },
   "outputs": [
    {
     "data": {
      "image/svg+xml": [
       "<?xml version=\"1.0\" encoding=\"UTF-8\" standalone=\"no\"?>\n",
       "<!DOCTYPE svg PUBLIC \"-//W3C//DTD SVG 1.1//EN\"\n",
       " \"http://www.w3.org/Graphics/SVG/1.1/DTD/svg11.dtd\">\n",
       "<!-- Generated by graphviz version 2.40.1 (20161225.0304)\n",
       " -->\n",
       "<!-- Title: G Pages: 1 -->\n",
       "<svg width=\"561pt\" height=\"98pt\"\n",
       " viewBox=\"0.00 0.00 561.07 98.00\" xmlns=\"http://www.w3.org/2000/svg\" xmlns:xlink=\"http://www.w3.org/1999/xlink\">\n",
       "<g id=\"graph0\" class=\"graph\" transform=\"scale(1 1) rotate(0) translate(4 94)\">\n",
       "<title>G</title>\n",
       "<polygon fill=\"#ffffff\" stroke=\"transparent\" points=\"-4,4 -4,-94 557.0715,-94 557.0715,4 -4,4\"/>\n",
       "<!-- model -->\n",
       "<g id=\"node1\" class=\"node\">\n",
       "<title>model</title>\n",
       "<polygon fill=\"none\" stroke=\"#000000\" points=\"203.8916,-77 135.8916,-77 131.8916,-73 131.8916,-27 199.8916,-27 203.8916,-31 203.8916,-77\"/>\n",
       "<polyline fill=\"none\" stroke=\"#000000\" points=\"199.8916,-73 131.8916,-73 \"/>\n",
       "<polyline fill=\"none\" stroke=\"#000000\" points=\"199.8916,-73 199.8916,-27 \"/>\n",
       "<polyline fill=\"none\" stroke=\"#000000\" points=\"199.8916,-73 203.8916,-77 \"/>\n",
       "<text text-anchor=\"middle\" x=\"167.8916\" y=\"-48.3\" font-family=\"Times,serif\" font-size=\"14.00\" fill=\"#000000\">model</text>\n",
       "</g>\n",
       "<!-- results -->\n",
       "<g id=\"node3\" class=\"node\">\n",
       "<title>results</title>\n",
       "<ellipse fill=\"none\" stroke=\"#000000\" cx=\"332.7878\" cy=\"-52\" rx=\"42.7926\" ry=\"18\"/>\n",
       "<text text-anchor=\"middle\" x=\"332.7878\" y=\"-48.3\" font-family=\"Times,serif\" font-size=\"14.00\" fill=\"#000000\">results</text>\n",
       "</g>\n",
       "<!-- model&#45;&gt;results -->\n",
       "<g id=\"edge2\" class=\"edge\">\n",
       "<title>model&#45;&gt;results</title>\n",
       "<path fill=\"none\" stroke=\"#000000\" d=\"M204.0787,-52C226.1445,-52 254.7465,-52 279.3822,-52\"/>\n",
       "<polygon fill=\"#000000\" stroke=\"#000000\" points=\"279.6669,-55.5001 289.6669,-52 279.6668,-48.5001 279.6669,-55.5001\"/>\n",
       "</g>\n",
       "<!-- inputs -->\n",
       "<g id=\"node2\" class=\"node\">\n",
       "<title>inputs</title>\n",
       "<ellipse fill=\"none\" stroke=\"#000000\" cx=\"47.4458\" cy=\"-72\" rx=\"40.0939\" ry=\"18\"/>\n",
       "<text text-anchor=\"middle\" x=\"47.4458\" y=\"-68.3\" font-family=\"Times,serif\" font-size=\"14.00\" fill=\"#000000\">inputs</text>\n",
       "</g>\n",
       "<!-- inputs&#45;&gt;model -->\n",
       "<g id=\"edge1\" class=\"edge\">\n",
       "<title>inputs&#45;&gt;model</title>\n",
       "<path fill=\"none\" stroke=\"#000000\" d=\"M85.2251,-65.7267C96.8672,-63.7936 109.815,-61.6436 121.9433,-59.6297\"/>\n",
       "<polygon fill=\"#000000\" stroke=\"#000000\" points=\"122.6,-63.0687 131.8915,-57.9778 121.4533,-56.1632 122.6,-63.0687\"/>\n",
       "</g>\n",
       "<!-- performance -->\n",
       "<g id=\"node5\" class=\"node\">\n",
       "<title>performance</title>\n",
       "<ellipse fill=\"none\" stroke=\"#000000\" cx=\"482.8777\" cy=\"-52\" rx=\"70.3881\" ry=\"18\"/>\n",
       "<text text-anchor=\"middle\" x=\"482.8777\" y=\"-48.3\" font-family=\"Times,serif\" font-size=\"14.00\" fill=\"#000000\">performance</text>\n",
       "</g>\n",
       "<!-- results&#45;&gt;performance -->\n",
       "<g id=\"edge4\" class=\"edge\">\n",
       "<title>results&#45;&gt;performance</title>\n",
       "<path fill=\"none\" stroke=\"#000000\" d=\"M375.7975,-52C384.2582,-52 393.3877,-52 402.6229,-52\"/>\n",
       "<polygon fill=\"#000000\" stroke=\"#000000\" points=\"402.659,-55.5001 412.6589,-52 402.6589,-48.5001 402.659,-55.5001\"/>\n",
       "</g>\n",
       "<!-- weights -->\n",
       "<g id=\"node4\" class=\"node\">\n",
       "<title>weights</title>\n",
       "<ellipse fill=\"none\" stroke=\"#000000\" cx=\"47.4458\" cy=\"-18\" rx=\"47.3916\" ry=\"18\"/>\n",
       "<text text-anchor=\"middle\" x=\"47.4458\" y=\"-14.3\" font-family=\"Times,serif\" font-size=\"14.00\" fill=\"#000000\">weights</text>\n",
       "</g>\n",
       "<!-- weights&#45;&gt;model -->\n",
       "<g id=\"edge3\" class=\"edge\">\n",
       "<title>weights&#45;&gt;model</title>\n",
       "<path fill=\"none\" stroke=\"#000000\" d=\"M85.5556,-28.7578C97.0781,-32.0104 109.8548,-35.6171 121.8379,-38.9998\"/>\n",
       "<polygon fill=\"#000000\" stroke=\"#000000\" points=\"121.0974,-42.4274 131.6722,-41.7758 122.9992,-35.6907 121.0974,-42.4274\"/>\n",
       "</g>\n",
       "<!-- performance&#45;&gt;weights -->\n",
       "<g id=\"edge5\" class=\"edge\">\n",
       "<title>performance&#45;&gt;weights</title>\n",
       "<path fill=\"none\" stroke=\"#000000\" d=\"M437.1264,-38.2677C418.2739,-33.1895 396.1019,-27.9552 375.684,-25 281.4424,-11.36 170.4155,-12.5415 104.6459,-15.0087\"/>\n",
       "<polygon fill=\"#000000\" stroke=\"#000000\" points=\"104.341,-11.518 94.4883,-15.4137 104.6199,-18.5125 104.341,-11.518\"/>\n",
       "<text text-anchor=\"middle\" x=\"246.8916\" y=\"-19.8\" font-family=\"Times,serif\" font-size=\"14.00\" fill=\"#000000\">update</text>\n",
       "</g>\n",
       "</g>\n",
       "</svg>\n"
      ],
      "text/plain": [
       "<graphviz.files.Source at 0x7fa0ff5edad0>"
      ]
     },
     "execution_count": 46,
     "metadata": {},
     "output_type": "execute_result"
    }
   ],
   "source": [
    "#hide_input\n",
    "#caption Training a machine learning model\n",
    "#id training_loop\n",
    "#alt The basic training loop\n",
    "gv('''ordering=in\n",
    "model[shape=box3d width=1 height=0.7]\n",
    "inputs->model->results; weights->model; results->performance\n",
    "performance->weights[constraint=false label=update]''')"
   ]
  },
  {
   "cell_type": "markdown",
   "metadata": {},
   "source": [
    "Notice the distinction between the model's *results*  (e.g., the moves in a checkers game) and its *performance* (e.g., whether it wins the game, or how quickly it wins). \n",
    "\n",
    "Also note that once the model is trained—that is, once we've chosen our final, best, favorite weight assignment—then we can think of the weights as being *part of the model*, since we're not varying them any more.\n",
    "\n",
    "Therefore, actually *using* a model after it's trained looks like <<using_model>>."
   ]
  },
  {
   "cell_type": "code",
   "execution_count": 47,
   "metadata": {
    "hide_input": true
   },
   "outputs": [
    {
     "data": {
      "image/svg+xml": [
       "<?xml version=\"1.0\" encoding=\"UTF-8\" standalone=\"no\"?>\n",
       "<!DOCTYPE svg PUBLIC \"-//W3C//DTD SVG 1.1//EN\"\n",
       " \"http://www.w3.org/Graphics/SVG/1.1/DTD/svg11.dtd\">\n",
       "<!-- Generated by graphviz version 2.40.1 (20161225.0304)\n",
       " -->\n",
       "<!-- Title: G Pages: 1 -->\n",
       "<svg width=\"318pt\" height=\"58pt\"\n",
       " viewBox=\"0.00 0.00 318.39 58.00\" xmlns=\"http://www.w3.org/2000/svg\" xmlns:xlink=\"http://www.w3.org/1999/xlink\">\n",
       "<g id=\"graph0\" class=\"graph\" transform=\"scale(1 1) rotate(0) translate(4 54)\">\n",
       "<title>G</title>\n",
       "<polygon fill=\"#ffffff\" stroke=\"transparent\" points=\"-4,4 -4,-54 314.3852,-54 314.3852,4 -4,4\"/>\n",
       "<!-- model -->\n",
       "<g id=\"node1\" class=\"node\">\n",
       "<title>model</title>\n",
       "<polygon fill=\"none\" stroke=\"#000000\" points=\"188.5928,-50 120.5928,-50 116.5928,-46 116.5928,0 184.5928,0 188.5928,-4 188.5928,-50\"/>\n",
       "<polyline fill=\"none\" stroke=\"#000000\" points=\"184.5928,-46 116.5928,-46 \"/>\n",
       "<polyline fill=\"none\" stroke=\"#000000\" points=\"184.5928,-46 184.5928,0 \"/>\n",
       "<polyline fill=\"none\" stroke=\"#000000\" points=\"184.5928,-46 188.5928,-50 \"/>\n",
       "<text text-anchor=\"middle\" x=\"152.5928\" y=\"-21.3\" font-family=\"Times,serif\" font-size=\"14.00\" fill=\"#000000\">model</text>\n",
       "</g>\n",
       "<!-- results -->\n",
       "<g id=\"node3\" class=\"node\">\n",
       "<title>results</title>\n",
       "<ellipse fill=\"none\" stroke=\"#000000\" cx=\"267.489\" cy=\"-25\" rx=\"42.7926\" ry=\"18\"/>\n",
       "<text text-anchor=\"middle\" x=\"267.489\" y=\"-21.3\" font-family=\"Times,serif\" font-size=\"14.00\" fill=\"#000000\">results</text>\n",
       "</g>\n",
       "<!-- model&#45;&gt;results -->\n",
       "<g id=\"edge2\" class=\"edge\">\n",
       "<title>model&#45;&gt;results</title>\n",
       "<path fill=\"none\" stroke=\"#000000\" d=\"M188.6315,-25C196.7674,-25 205.5718,-25 214.2476,-25\"/>\n",
       "<polygon fill=\"#000000\" stroke=\"#000000\" points=\"214.3254,-28.5001 224.3254,-25 214.3253,-21.5001 214.3254,-28.5001\"/>\n",
       "</g>\n",
       "<!-- inputs -->\n",
       "<g id=\"node2\" class=\"node\">\n",
       "<title>inputs</title>\n",
       "<ellipse fill=\"none\" stroke=\"#000000\" cx=\"40.2964\" cy=\"-25\" rx=\"40.0939\" ry=\"18\"/>\n",
       "<text text-anchor=\"middle\" x=\"40.2964\" y=\"-21.3\" font-family=\"Times,serif\" font-size=\"14.00\" fill=\"#000000\">inputs</text>\n",
       "</g>\n",
       "<!-- inputs&#45;&gt;model -->\n",
       "<g id=\"edge1\" class=\"edge\">\n",
       "<title>inputs&#45;&gt;model</title>\n",
       "<path fill=\"none\" stroke=\"#000000\" d=\"M80.838,-25C89.1455,-25 97.9482,-25 106.4361,-25\"/>\n",
       "<polygon fill=\"#000000\" stroke=\"#000000\" points=\"106.5789,-28.5001 116.5789,-25 106.5788,-21.5001 106.5789,-28.5001\"/>\n",
       "</g>\n",
       "</g>\n",
       "</svg>\n"
      ],
      "text/plain": [
       "<graphviz.files.Source at 0x7fa0ff5edf50>"
      ]
     },
     "execution_count": 47,
     "metadata": {},
     "output_type": "execute_result"
    }
   ],
   "source": [
    "#hide_input\n",
    "#caption Using a trained model as a program\n",
    "#id using_model\n",
    "gv('''model[shape=box3d width=1 height=0.7]\n",
    "inputs->model->results''')"
   ]
  },
  {
   "cell_type": "markdown",
   "metadata": {},
   "source": [
    "This looks identical to our original diagram in <<basic_program>>, just with the word *program* replaced with *model*. This is an important insight: *a trained model can be treated just like a regular computer program*."
   ]
  },
  {
   "cell_type": "markdown",
   "metadata": {},
   "source": [
    "> jargon: Machine Learning: The training of programs developed by allowing a computer to learn from its experience, rather than through manually coding the individual steps."
   ]
  },
  {
   "cell_type": "markdown",
   "metadata": {},
   "source": [
    "### What Is a Neural Network?"
   ]
  },
  {
   "cell_type": "markdown",
   "metadata": {},
   "source": [
    "It's not too hard to imagine what the model might look like for a checkers program. There might be a range of checkers strategies encoded, and some kind of search mechanism, and then the weights could vary how strategies are selected, what parts of the board are focused on during a search, and so forth. But it's not at all obvious what the model might look like for an image recognition program, or for understanding text, or for many other interesting problems we might imagine.\n",
    "\n",
    "What we would like is some kind of function that is so flexible that it could be used to solve any given problem, just by varying its weights. Amazingly enough, this function actually exists! It's the neural network, which we already discussed. That is, if you regard a neural network as a mathematical function, it turns out to be a function which is extremely flexible depending on its weights. A mathematical proof called the *universal approximation theorem* shows that this function can solve any problem to any level of accuracy, in theory. The fact that neural networks are so flexible means that, in practice, they are often a suitable kind of model, and you can focus your effort on the process of training them—that is, of finding good weight assignments.\n",
    "\n",
    "But what about that process?  One could imagine that you might need to find a new \"mechanism\" for automatically updating weights for every problem. This would be laborious. What we'd like here as well is a completely general way to update the weights of a neural network, to make it improve at any given task. Conveniently, this also exists!\n",
    "\n",
    "This is called *stochastic gradient descent* (SGD). We'll see how neural networks and SGD work in detail in <<chapter_mnist_basics>>, as well as explaining the universal approximation theorem. For now, however, we will instead use Samuel's own words: *We need not go into the details of such a procedure to see that it could be made entirely automatic and to see that a machine so programmed would \"learn\" from its experience.*"
   ]
  },
  {
   "cell_type": "markdown",
   "metadata": {},
   "source": [
    "> J: Don't worry, neither SGD nor neural nets are mathematically complex. Both nearly entirely rely on addition and multiplication to do their work (but they do a _lot_ of addition and multiplication!). The main reaction we hear from students when they see the details is: \"Is that all it is?\""
   ]
  },
  {
   "cell_type": "markdown",
   "metadata": {},
   "source": [
    "In other words, to recap, a neural network is a particular kind of machine learning model, which fits right in to Samuel's original conception. Neural networks are special because they are highly flexible, which means they can solve an unusually wide range of problems just by finding the right weights. This is powerful, because stochastic gradient descent provides us a way to find those weight values automatically.\n",
    "\n",
    "Having zoomed out, let's now zoom back in and revisit our image classification problem using Samuel's framework.\n",
    "\n",
    "Our inputs are the images. Our weights are the weights in the neural net. Our model is a neural net. Our results are the values that are calculated by the neural net, like \"dog\" or \"cat.\"\n",
    "\n",
    "What about the next piece, an *automatic means of testing the effectiveness of any current weight assignment in terms of actual performance*? Determining \"actual performance\" is easy enough: we can simply define our model's performance as its accuracy at predicting the correct answers.\n",
    "\n",
    "Putting this all together, and assuming that SGD is our mechanism for updating the weight assignments, we can see how our image classifier is a machine learning model, much like Samuel envisioned."
   ]
  },
  {
   "cell_type": "markdown",
   "metadata": {},
   "source": [
    "### A Bit of Deep Learning Jargon"
   ]
  },
  {
   "cell_type": "markdown",
   "metadata": {},
   "source": [
    "Samuel was working in the 1960s, and since then terminology has changed. Here is the modern deep learning terminology for all the pieces we have discussed:\n",
    "\n",
    "- The functional form of the *model* is called its *architecture* (but be careful—sometimes people use *model* as a synonym of *architecture*, so this can get confusing).\n",
    "- The *weights* are called *parameters*.\n",
    "- The *predictions* are calculated from the *independent variable*, which is the *data* not including the *labels*.\n",
    "- The *results* of the model are called *predictions*.\n",
    "- The measure of *performance* is called the *loss*.\n",
    "- The loss depends not only on the predictions, but also the correct *labels* (also known as *targets* or the *dependent variable*); e.g., \"dog\" or \"cat.\"\n",
    "\n",
    "After making these changes, our diagram in <<training_loop>> looks like <<detailed_loop>>."
   ]
  },
  {
   "cell_type": "code",
   "execution_count": 48,
   "metadata": {
    "hide_input": true
   },
   "outputs": [
    {
     "data": {
      "image/svg+xml": [
       "<?xml version=\"1.0\" encoding=\"UTF-8\" standalone=\"no\"?>\n",
       "<!DOCTYPE svg PUBLIC \"-//W3C//DTD SVG 1.1//EN\"\n",
       " \"http://www.w3.org/Graphics/SVG/1.1/DTD/svg11.dtd\">\n",
       "<!-- Generated by graphviz version 2.40.1 (20161225.0304)\n",
       " -->\n",
       "<!-- Title: G Pages: 1 -->\n",
       "<svg width=\"587pt\" height=\"139pt\"\n",
       " viewBox=\"0.00 0.00 587.27 139.24\" xmlns=\"http://www.w3.org/2000/svg\" xmlns:xlink=\"http://www.w3.org/1999/xlink\">\n",
       "<g id=\"graph0\" class=\"graph\" transform=\"scale(1 1) rotate(0) translate(4 135.2351)\">\n",
       "<title>G</title>\n",
       "<polygon fill=\"#ffffff\" stroke=\"transparent\" points=\"-4,4 -4,-135.2351 583.2722,-135.2351 583.2722,4 -4,4\"/>\n",
       "<!-- model -->\n",
       "<g id=\"node1\" class=\"node\">\n",
       "<title>model</title>\n",
       "<polygon fill=\"none\" stroke=\"#000000\" points=\"271.6886,-84.2351 169.6886,-84.2351 165.6886,-80.2351 165.6886,-34.2351 267.6886,-34.2351 271.6886,-38.2351 271.6886,-84.2351\"/>\n",
       "<polyline fill=\"none\" stroke=\"#000000\" points=\"267.6886,-80.2351 165.6886,-80.2351 \"/>\n",
       "<polyline fill=\"none\" stroke=\"#000000\" points=\"267.6886,-80.2351 267.6886,-34.2351 \"/>\n",
       "<polyline fill=\"none\" stroke=\"#000000\" points=\"267.6886,-80.2351 271.6886,-84.2351 \"/>\n",
       "<text text-anchor=\"middle\" x=\"218.6886\" y=\"-55.5351\" font-family=\"Times,serif\" font-size=\"14.00\" fill=\"#000000\">architecture</text>\n",
       "</g>\n",
       "<!-- predictions -->\n",
       "<g id=\"node3\" class=\"node\">\n",
       "<title>predictions</title>\n",
       "<ellipse fill=\"none\" stroke=\"#000000\" cx=\"421.3829\" cy=\"-59.2351\" rx=\"63.8893\" ry=\"18\"/>\n",
       "<text text-anchor=\"middle\" x=\"421.3829\" y=\"-55.5351\" font-family=\"Times,serif\" font-size=\"14.00\" fill=\"#000000\">predictions</text>\n",
       "</g>\n",
       "<!-- model&#45;&gt;predictions -->\n",
       "<g id=\"edge2\" class=\"edge\">\n",
       "<title>model&#45;&gt;predictions</title>\n",
       "<path fill=\"none\" stroke=\"#000000\" d=\"M271.9441,-59.2351C295.0365,-59.2351 322.4654,-59.2351 347.4815,-59.2351\"/>\n",
       "<polygon fill=\"#000000\" stroke=\"#000000\" points=\"347.6664,-62.7352 357.6664,-59.2351 347.6663,-55.7352 347.6664,-62.7352\"/>\n",
       "</g>\n",
       "<!-- inputs -->\n",
       "<g id=\"node2\" class=\"node\">\n",
       "<title>inputs</title>\n",
       "<ellipse fill=\"none\" stroke=\"#000000\" cx=\"64.3443\" cy=\"-79.2351\" rx=\"40.0939\" ry=\"18\"/>\n",
       "<text text-anchor=\"middle\" x=\"64.3443\" y=\"-75.5351\" font-family=\"Times,serif\" font-size=\"14.00\" fill=\"#000000\">inputs</text>\n",
       "</g>\n",
       "<!-- inputs&#45;&gt;model -->\n",
       "<g id=\"edge1\" class=\"edge\">\n",
       "<title>inputs&#45;&gt;model</title>\n",
       "<path fill=\"none\" stroke=\"#000000\" d=\"M103.2919,-74.1882C119.0434,-72.1471 137.6373,-69.7377 155.2459,-67.456\"/>\n",
       "<polygon fill=\"#000000\" stroke=\"#000000\" points=\"156.0035,-70.8872 165.4707,-66.1311 155.1039,-63.9452 156.0035,-70.8872\"/>\n",
       "</g>\n",
       "<!-- loss -->\n",
       "<g id=\"node6\" class=\"node\">\n",
       "<title>loss</title>\n",
       "<ellipse fill=\"none\" stroke=\"#000000\" cx=\"550.6747\" cy=\"-88.2351\" rx=\"28.6953\" ry=\"18\"/>\n",
       "<text text-anchor=\"middle\" x=\"550.6747\" y=\"-84.5351\" font-family=\"Times,serif\" font-size=\"14.00\" fill=\"#000000\">loss</text>\n",
       "</g>\n",
       "<!-- predictions&#45;&gt;loss -->\n",
       "<g id=\"edge5\" class=\"edge\">\n",
       "<title>predictions&#45;&gt;loss</title>\n",
       "<path fill=\"none\" stroke=\"#000000\" d=\"M471.3705,-70.4472C485.3882,-73.5914 500.3765,-76.9532 513.5067,-79.8983\"/>\n",
       "<polygon fill=\"#000000\" stroke=\"#000000\" points=\"513.0609,-83.3852 523.5845,-82.1587 514.593,-76.5549 513.0609,-83.3852\"/>\n",
       "</g>\n",
       "<!-- parameters -->\n",
       "<g id=\"node4\" class=\"node\">\n",
       "<title>parameters</title>\n",
       "<ellipse fill=\"none\" stroke=\"#000000\" cx=\"64.3443\" cy=\"-25.2351\" rx=\"64.189\" ry=\"18\"/>\n",
       "<text text-anchor=\"middle\" x=\"64.3443\" y=\"-21.5351\" font-family=\"Times,serif\" font-size=\"14.00\" fill=\"#000000\">parameters</text>\n",
       "</g>\n",
       "<!-- parameters&#45;&gt;model -->\n",
       "<g id=\"edge3\" class=\"edge\">\n",
       "<title>parameters&#45;&gt;model</title>\n",
       "<path fill=\"none\" stroke=\"#000000\" d=\"M115.3101,-36.4622C128.1848,-39.2983 142.1637,-42.3776 155.5585,-45.3283\"/>\n",
       "<polygon fill=\"#000000\" stroke=\"#000000\" points=\"155.1409,-48.8202 165.6598,-47.5535 156.6469,-41.9841 155.1409,-48.8202\"/>\n",
       "</g>\n",
       "<!-- labels -->\n",
       "<g id=\"node5\" class=\"node\">\n",
       "<title>labels</title>\n",
       "<ellipse fill=\"none\" stroke=\"#000000\" cx=\"421.3829\" cy=\"-113.2351\" rx=\"38.1938\" ry=\"18\"/>\n",
       "<text text-anchor=\"middle\" x=\"421.3829\" y=\"-109.5351\" font-family=\"Times,serif\" font-size=\"14.00\" fill=\"#000000\">labels</text>\n",
       "</g>\n",
       "<!-- labels&#45;&gt;loss -->\n",
       "<g id=\"edge4\" class=\"edge\">\n",
       "<title>labels&#45;&gt;loss</title>\n",
       "<path fill=\"none\" stroke=\"#000000\" d=\"M457.0547,-106.3375C474.5498,-102.9547 495.6146,-98.8815 513.329,-95.4563\"/>\n",
       "<polygon fill=\"#000000\" stroke=\"#000000\" points=\"514.1658,-98.8594 523.3195,-93.5245 512.8369,-91.9867 514.1658,-98.8594\"/>\n",
       "</g>\n",
       "<!-- loss&#45;&gt;parameters -->\n",
       "<g id=\"edge6\" class=\"edge\">\n",
       "<title>loss&#45;&gt;parameters</title>\n",
       "<path fill=\"none\" stroke=\"#000000\" d=\"M537.5002,-72.0898C525.4462,-58.6596 506.2997,-40.4595 485.0773,-32.2351 365.291,14.1861 211.5451,.135 127.017,-13.2134\"/>\n",
       "<polygon fill=\"#000000\" stroke=\"#000000\" points=\"126.3669,-9.773 117.0588,-14.8336 127.4911,-16.6822 126.3669,-9.773\"/>\n",
       "<text text-anchor=\"middle\" x=\"314.6886\" y=\"-6.0351\" font-family=\"Times,serif\" font-size=\"14.00\" fill=\"#000000\">update</text>\n",
       "</g>\n",
       "</g>\n",
       "</svg>\n"
      ],
      "text/plain": [
       "<graphviz.files.Source at 0x7fa0ff707f90>"
      ]
     },
     "execution_count": 48,
     "metadata": {},
     "output_type": "execute_result"
    }
   ],
   "source": [
    "#hide_input\n",
    "#caption Detailed training loop\n",
    "#id detailed_loop\n",
    "gv('''ordering=in\n",
    "model[shape=box3d width=1 height=0.7 label=architecture]\n",
    "inputs->model->predictions; parameters->model; labels->loss; predictions->loss\n",
    "loss->parameters[constraint=false label=update]''')"
   ]
  },
  {
   "cell_type": "markdown",
   "metadata": {},
   "source": [
    "### Limitations Inherent To Machine Learning\n",
    "\n",
    "From this picture we can now see some fundamental things about training a deep learning model:\n",
    "\n",
    "- A model cannot be created without data.\n",
    "- A model can only learn to operate on the patterns seen in the input data used to train it.\n",
    "- This learning approach only creates *predictions*, not recommended *actions*.\n",
    "- It's not enough to just have examples of input data; we need *labels* for that data too (e.g., pictures of dogs and cats aren't enough to train a model; we need a label for each one, saying which ones are dogs, and which are cats).\n",
    "\n",
    "Generally speaking, we've seen that most organizations that say they don't have enough data, actually mean they don't have enough *labeled* data. If any organization is interested in doing something in practice with a model, then presumably they have some inputs they plan to run their model against. And presumably they've been doing that some other way for a while (e.g., manually, or with some heuristic program), so they have data from those processes! For instance, a radiology practice will almost certainly have an archive of medical scans (since they need to be able to check how their patients are progressing over time), but those scans may not have structured labels containing a list of diagnoses or interventions (since radiologists generally create free-text natural language reports, not structured data). We'll be discussing labeling approaches a lot in this book, because it's such an important issue in practice.\n",
    "\n",
    "Since these kinds of machine learning models can only make *predictions* (i.e., attempt to replicate labels), this can result in a significant gap between organizational goals and model capabilities. For instance, in this book you'll learn how to create a *recommendation system* that can predict what products a user might purchase. This is often used in e-commerce, such as to customize products shown on a home page by showing the highest-ranked items. But such a model is generally created by looking at a user and their buying history (*inputs*) and what they went on to buy or look at (*labels*), which means that the model is likely to tell you about products the user already has or already knows about, rather than new products that they are most likely to be interested in hearing about. That's very different to what, say, an expert at your local bookseller might do, where they ask questions to figure out your taste, and then tell you about authors or series that you've never heard of before."
   ]
  },
  {
   "cell_type": "markdown",
   "metadata": {},
   "source": [
    "Another critical insight comes from considering how a model interacts with its environment. This can create *feedback loops*, as described here:\n",
    "\n",
    "- A *predictive policing* model is created based on where arrests have been made in the past. In practice, this is not actually predicting crime, but rather predicting arrests, and is therefore partially simply reflecting biases in existing policing processes.\n",
    "- Law enforcement officers then might use that model to decide where to focus their police activity, resulting in increased arrests in those areas.\n",
    "- Data on these additional arrests would then be fed back in to retrain future versions of the model.\n",
    "\n",
    "This is a *positive feedback loop*, where the more the model is used, the more biased the data becomes, making the model even more biased, and so forth.\n",
    "\n",
    "Feedback loops can also create problems in commercial settings. For instance, a video recommendation system might be biased toward recommending content consumed by the biggest watchers of video (e.g., conspiracy theorists and extremists tend to watch more online video content than the average), resulting in those users increasing their video consumption, resulting in more of those kinds of videos being recommended. We'll consider this topic more in detail in <<chapter_ethics>>."
   ]
  },
  {
   "cell_type": "markdown",
   "metadata": {},
   "source": [
    "Now that you have seen the base of the theory, let's go back to our code example and see in detail how the code corresponds to the process we just described."
   ]
  },
  {
   "cell_type": "markdown",
   "metadata": {},
   "source": [
    "### How Our Image Recognizer Works"
   ]
  },
  {
   "cell_type": "markdown",
   "metadata": {},
   "source": [
    "Let's see just how our image recognizer code maps to these ideas. We'll put each line into a separate cell, and look at what each one is doing (we won't explain every detail of every parameter yet, but will give a description of the important bits; full details will come later in the book)."
   ]
  },
  {
   "cell_type": "markdown",
   "metadata": {},
   "source": [
    "The first line imports all of the fastai.vision library.\n",
    "\n",
    "```python\n",
    "from fastai.vision.all import *\n",
    "```\n",
    "\n",
    "This gives us all of the functions and classes we will need to create a wide variety of computer vision models."
   ]
  },
  {
   "cell_type": "markdown",
   "metadata": {},
   "source": [
    "> J: A lot of Python coders recommend avoiding importing a whole library like this (using the `import *` syntax), because in large software projects it can cause problems. However, for interactive work such as in a Jupyter notebook, it works great. The fastai library is specially designed to support this kind of interactive use, and it will only import the necessary pieces into your environment."
   ]
  },
  {
   "cell_type": "markdown",
   "metadata": {},
   "source": [
    "The second line downloads a standard dataset from the [fast.ai datasets collection](https://course.fast.ai/datasets) (if not previously downloaded) to your server, extracts it (if not previously extracted), and returns a `Path` object with the extracted location:\n",
    "\n",
    "```python\n",
    "path = untar_data(URLs.PETS)/'images'\n",
    "```\n",
    "\n",
    "> S: Throughout my time studying at fast.ai, and even still today, I've learned a lot about productive coding practices. The fastai library and fast.ai notebooks are full of great little tips that have helped make me a better programmer. For instance, notice that the fastai library doesn't just return a string containing the path to the dataset, but a `Path` object. This is a really useful class from the Python 3 standard library that makes accessing files and directories much easier. If you haven't come across it before, be sure to check out its documentation or a tutorial and try it out. Note that the https://book.fast.ai[website] contains links to recommended tutorials for each chapter. I'll keep letting you know about little coding tips I've found useful as we come across them."
   ]
  },
  {
   "cell_type": "markdown",
   "metadata": {},
   "source": [
    "In the third line we define a function, `is_cat`, which labels cats based on a filename rule provided by the dataset creators:\n",
    "```python\n",
    "def is_cat(x): return x[0].isupper()\n",
    "```"
   ]
  },
  {
   "cell_type": "markdown",
   "metadata": {},
   "source": [
    "We use that function in the fourth line, which tells fastai what kind of dataset we have and how it is structured:\n",
    "\n",
    "```python\n",
    "dls = ImageDataLoaders.from_name_func(\n",
    "    path, get_image_files(path), valid_pct=0.2, seed=42,\n",
    "    label_func=is_cat, item_tfms=Resize(224))\n",
    "```\n",
    "\n",
    "There are various different classes for different kinds of deep learning datasets and problems—here we're using `ImageDataLoaders`. The first part of the class name will generally be the type of data you have, such as image, or text.\n",
    "\n",
    "The other important piece of information that we have to tell fastai is how to get the labels from the dataset. Computer vision datasets are normally structured in such a way that the label for an image is part of the filename, or path—most commonly the parent folder name. fastai comes with a number of standardized labeling methods, and ways to write your own. Here we're telling fastai to use the `is_cat` function we just defined.\n",
    "\n",
    "Finally, we define the `Transform`s that we need. A `Transform` contains code that is applied automatically during training; fastai includes many predefined `Transform`s, and adding new ones is as simple as creating a Python function. There are two kinds: `item_tfms` are applied to each item (in this case, each item is resized to a 224-pixel square), while `batch_tfms` are applied to a *batch* of items at a time using the GPU, so they're particularly fast (we'll see many examples of these throughout this book).\n",
    "\n",
    "Why 224 pixels? This is the standard size for historical reasons (old pretrained models require this size exactly), but you can pass pretty much anything. If you increase the size, you'll often get a model with better results (since it will be able to focus on more details), but at the price of speed and memory consumption; the opposite is true if you decrease the size. "
   ]
  },
  {
   "cell_type": "markdown",
   "metadata": {},
   "source": [
    "> Note: Classification and Regression: _classification_ and _regression_ have very specific meanings in machine learning. These are the two main types of model that we will be investigating in this book. A classification model is one which attempts to predict a class, or category. That is, it's predicting from a number of discrete possibilities, such as \"dog\" or \"cat.\" A regression model is one which attempts to predict one or more numeric quantities, such as a temperature or a location. Sometimes people use the word _regression_ to refer to a particular kind of model called a _linear regression model_; this is a bad practice, and we won't be using that terminology in this book!"
   ]
  },
  {
   "cell_type": "markdown",
   "metadata": {},
   "source": [
    "The Pet dataset contains 7,390 pictures of dogs and cats, consisting of 37 different breeds. Each image is labeled using its filename: for instance the file *great\\_pyrenees\\_173.jpg* is the 173rd example of an image of a Great Pyrenees breed dog in the dataset. The filenames start with an uppercase letter if the image is a cat, and a lowercase letter otherwise. We have to tell fastai how to get labels from the filenames, which we do by calling `from_name_func` (which means that labels can be extracted using a function applied to the filename), and passing `is_cat`, which returns `x[0].isupper()`, which evaluates to `True` if the first letter is uppercase (i.e., it's a cat).\n",
    "\n",
    "The most important parameter to mention here is `valid_pct=0.2`. This tells fastai to hold out 20% of the data and *not use it for training the model at all*. This 20% of the data is called the *validation set*; the remaining 80% is called the *training set*. The validation set is used to measure the accuracy of the model. By default, the 20% that is held out is selected randomly. The parameter `seed=42` sets the *random seed* to the same value every time we run this code, which means we get the same validation set every time we run it—this way, if we change our model and retrain it, we know that any differences are due to the changes to the model, not due to having a different random validation set.\n",
    "\n",
    "fastai will *always* show you your model's accuracy using *only* the validation set, *never* the training set. This is absolutely critical, because if you train a large enough model for a long enough time, it will eventually memorize the label of every item in your dataset! The result will not actually be a useful model, because what we care about is how well our model works on *previously unseen images*. That is always our goal when creating a model: for it to be useful on data that the model only sees in the future, after it has been trained.\n",
    "\n",
    "Even when your model has not fully memorized all your data, earlier on in training it may have memorized certain parts of it. As a result, the longer you train for, the better your accuracy will get on the training set; the validation set accuracy will also improve for a while, but eventually it will start getting worse as the model starts to memorize the training set, rather than finding generalizable underlying patterns in the data. When this happens, we say that the model is *overfitting*.\n",
    "\n",
    "<<img_overfit>> shows what happens when you overfit, using a simplified example where we have just one parameter, and some randomly generated data based on the function `x**2`. As you can see, although the predictions in the overfit model are accurate for data near the observed data points, they are way off when outside of that range."
   ]
  },
  {
   "cell_type": "markdown",
   "metadata": {},
   "source": [
    "<img src=\"images/att_00000.png\" alt=\"Example of overfitting\" caption=\"Example of overfitting\" id=\"img_overfit\" width=\"700\">"
   ]
  },
  {
   "cell_type": "markdown",
   "metadata": {},
   "source": [
    "**Overfitting is the single most important and challenging issue** when training for all machine learning practitioners, and all algorithms. As you will see, it is very easy to create a model that does a great job at making predictions on the exact data it has been trained on, but it is much harder to make accurate predictions on data the model has never seen before. And of course, this is the data that will actually matter in practice. For instance, if you create a handwritten digit classifier (as we will very soon!) and use it to recognize numbers written on checks, then you are never going to see any of the numbers that the model was trained on—checks will have slightly different variations of writing to deal with. You will learn many methods to avoid overfitting in this book. However, you should only use those methods after you have confirmed that overfitting is actually occurring (i.e., you have actually observed the validation accuracy getting worse during training). We often see practitioners using over-fitting avoidance techniques even when they have enough data that they didn't need to do so, ending up with a model that may be less accurate than what they could have achieved."
   ]
  },
  {
   "cell_type": "markdown",
   "metadata": {},
   "source": [
    "> important: Validation Set: When you train a model, you must _always_ have both a training set and a validation set, and must measure the accuracy of your model only on the validation set. If you train for too long, with not enough data, you will see the accuracy of your model start to get worse; this is called _overfitting_. fastai defaults `valid_pct` to `0.2`, so even if you forget, fastai will create a validation set for you!"
   ]
  },
  {
   "cell_type": "markdown",
   "metadata": {},
   "source": [
    "The fifth line of the code training our image recognizer tells fastai to create a *convolutional neural network* (CNN) and specifies what *architecture* to use (i.e. what kind of model to create), what data we want to train it on, and what *metric* to use:\n",
    "\n",
    "```python\n",
    "learn = vision_learner(dls, resnet34, metrics=error_rate)\n",
    "```\n",
    "\n",
    "Why a CNN? It's the current state-of-the-art approach to creating computer vision models. We'll be learning all about how CNNs work in this book. Their structure is inspired by how the human vision system works.\n",
    "\n",
    "There are many different architectures in fastai, which we will introduce in this book (as well as discussing how to create your own). Most of the time, however, picking an architecture isn't a very important part of the deep learning process. It's something that academics love to talk about, but in practice it is unlikely to be something you need to spend much time on. There are some standard architectures that work most of the time, and in this case we're using one called _ResNet_ that we'll be talking a lot about during the book; it is both fast and accurate for many datasets and problems. The `34` in `resnet34` refers to the number of layers in this variant of the architecture (other options are `18`, `50`, `101`, and `152`). Models using architectures with more layers take longer to train, and are more prone to overfitting (i.e. you can't train them for as many epochs before the accuracy on the validation set starts getting worse). On the other hand, when using more data, they can be quite a bit more accurate.\n",
    "\n",
    "What is a metric? A *metric* is a function that measures the quality of the model's predictions using the validation set, and will be printed at the end of each *epoch*. In this case, we're using `error_rate`, which is a function provided by fastai that does just what it says: tells you what percentage of images in the validation set are being classified incorrectly. Another common metric for classification is `accuracy` (which is just `1.0 - error_rate`). fastai provides many more, which will be discussed throughout this book.\n",
    "\n",
    "The concept of a metric may remind you of *loss*, but there is an important distinction. The entire purpose of loss is to define a \"measure of performance\" that the training system can use to update weights automatically. In other words, a good choice for loss is a choice that is easy for stochastic gradient descent to use. But a metric is defined for human consumption, so a good metric is one that is easy for you to understand, and that hews as closely as possible to what you want the model to do. At times, you might decide that the loss function is a suitable metric, but that is not necessarily the case."
   ]
  },
  {
   "cell_type": "markdown",
   "metadata": {},
   "source": [
    "`vision_learner` also has a parameter `pretrained`, which defaults to `True` (so it's used in this case, even though we haven't specified it), which sets the weights in your model to values that have already been trained by experts to recognize a thousand different categories across 1.3 million photos (using the famous [*ImageNet* dataset](http://www.image-net.org/)). A model that has weights that have already been trained on some other dataset is called a *pretrained model*. You should nearly always use a pretrained model, because it means that your model, before you've even shown it any of your data, is already very capable. And, as you'll see, in a deep learning model many of these capabilities are things you'll need, almost regardless of the details of your project. For instance, parts of pretrained models will handle edge, gradient, and color detection, which are needed for many tasks.\n",
    "\n",
    "When using a pretrained model, `vision_learner` will remove the last layer, since that is always specifically customized to the original training task (i.e. ImageNet dataset classification), and replace it with one or more new layers with randomized weights, of an appropriate size for the dataset you are working with. This last part of the model is known as the *head*.\n",
    "\n",
    "Using pretrained models is the *most* important method we have to allow us to train more accurate models, more quickly, with less data, and less time and money. You might think that would mean that using pretrained models would be the most studied area in academic deep learning... but you'd be very, very wrong! The importance of pretrained models is generally not recognized or discussed in most courses, books, or software library features, and is rarely considered in academic papers. As we write this at the start of 2020, things are just starting to change, but it's likely to take a while. So be careful: most people you speak to will probably greatly underestimate what you can do in deep learning with few resources, because they probably won't deeply understand how to use pretrained models.\n",
    "\n",
    "Using a pretrained model for a task different to what it was originally trained for is known as *transfer learning*. Unfortunately, because transfer learning is so under-studied, few domains have pretrained models available. For instance, there are currently few pretrained models available in medicine, making transfer learning challenging to use in that domain. In addition, it is not yet well understood how to use transfer learning for tasks such as time series analysis."
   ]
  },
  {
   "cell_type": "markdown",
   "metadata": {},
   "source": [
    "> jargon: Transfer learning: Using a pretrained model for a task different to what it was originally trained for."
   ]
  },
  {
   "cell_type": "markdown",
   "metadata": {},
   "source": [
    "The sixth line of our code tells fastai how to *fit* the model:\n",
    "\n",
    "```python\n",
    "learn.fine_tune(1)\n",
    "```\n",
    "\n",
    "As we've discussed, the architecture only describes a *template* for a mathematical function; it doesn't actually do anything until we provide values for the millions of parameters it contains.\n",
    "\n",
    "This is the key to deep learning—determining how to fit the parameters of a model to get it to solve your problem. In order to fit a model, we have to provide at least one piece of information: how many times to look at each image (known as number of *epochs*). The number of epochs you select will largely depend on how much time you have available, and how long you find it takes in practice to fit your model. If you select a number that is too small, you can always train for more epochs later.\n",
    "\n",
    "But why is the method called `fine_tune`, and not `fit`? fastai actually *does* have a method called `fit`, which does indeed fit a model (i.e. look at images in the training set multiple times, each time updating the parameters to make the predictions closer and closer to the target labels). But in this case, we've started with a pretrained model, and we don't want to throw away all those capabilities that it already has. As you'll learn in this book, there are some important tricks to adapt a pretrained model for a new dataset—a process called *fine-tuning*."
   ]
  },
  {
   "cell_type": "markdown",
   "metadata": {},
   "source": [
    "> jargon: Fine-tuning: A transfer learning technique where the parameters of a pretrained model are updated by training for additional epochs using a different task to that used for pretraining."
   ]
  },
  {
   "cell_type": "markdown",
   "metadata": {},
   "source": [
    "When you use the `fine_tune` method, fastai will use these tricks for you. There are a few parameters you can set (which we'll discuss later), but in the default form shown here, it does two steps:\n",
    "\n",
    "1. Use one epoch to fit just those parts of the model necessary to get the new random head to work correctly with your dataset.\n",
    "1. Use the number of epochs requested when calling the method to fit the entire model, updating the weights of the later layers (especially the head) faster than the earlier layers (which, as we'll see, generally don't require many changes from the pretrained weights).\n",
    "\n",
    "The *head* of a model is the part that is newly added to be specific to the new dataset. An *epoch* is one complete pass through the dataset. After calling `fit`, the results after each epoch are printed, showing the epoch number, the training and validation set losses (the \"measure of performance\" used for training the model), and any *metrics* you've requested (error rate, in this case)."
   ]
  },
  {
   "cell_type": "markdown",
   "metadata": {},
   "source": [
    "So, with all this code our model learned to recognize cats and dogs just from labeled examples. But how did it do it?"
   ]
  },
  {
   "cell_type": "markdown",
   "metadata": {},
   "source": [
    "### What Our Image Recognizer Learned"
   ]
  },
  {
   "cell_type": "markdown",
   "metadata": {},
   "source": [
    "At this stage we have an image recognizer that is working very well, but we have no idea what it is actually doing! Although many people complain that deep learning results in impenetrable \"black box\" models (that is, something that gives predictions but that no one can understand), this really couldn't be further from the truth. There is a vast body of research showing how to deeply inspect deep learning models, and get rich insights from them. Having said that, all kinds of machine learning models (including deep learning, and traditional statistical models) can be challenging to fully understand, especially when considering how they will behave when coming across data that is very different to the data used to train them. We'll be discussing this issue throughout this book.\n",
    "\n",
    "In 2013 a PhD student, Matt Zeiler, and his supervisor, Rob Fergus, published the paper [\"Visualizing and Understanding Convolutional Networks\"](https://arxiv.org/pdf/1311.2901.pdf), which showed how to visualize the neural network weights learned in each layer of a model. They carefully analyzed the model that won the 2012 ImageNet competition, and used this analysis to greatly improve the model, such that they were able to go on to win the 2013 competition! <<img_layer1>> is the picture that they published of the first layer's weights."
   ]
  },
  {
   "cell_type": "markdown",
   "metadata": {},
   "source": [
    "<img src=\"images/layer1.png\" alt=\"Activations of the first layer of a CNN\" width=\"300\" caption=\"Activations of the first layer of a CNN (courtesy of Matthew D. Zeiler and Rob Fergus)\" id=\"img_layer1\">"
   ]
  },
  {
   "cell_type": "markdown",
   "metadata": {},
   "source": [
    "This picture requires some explanation. For each layer, the image part with the light gray background shows the reconstructed weights pictures, and the larger section at the bottom shows the parts of the training images that most strongly matched each set of weights. For layer 1, what we can see is that the model has discovered weights that represent diagonal, horizontal, and vertical edges, as well as various different gradients. (Note that for each layer only a subset of the features are shown; in practice there are thousands across all of the layers.) These are the basic building blocks that the model has learned for computer vision. They have been widely analyzed by neuroscientists and computer vision researchers, and it turns out that these learned building blocks are very similar to the basic visual machinery in the human eye, as well as the handcrafted computer vision features that were developed prior to the days of deep learning. The next layer is represented in <<img_layer2>>."
   ]
  },
  {
   "cell_type": "markdown",
   "metadata": {},
   "source": [
    "<img src=\"images/layer2.png\" alt=\"Activations of the second layer of a CNN\" width=\"800\" caption=\"Activations of the second layer of a CNN (courtesy of Matthew D. Zeiler and Rob Fergus)\" id=\"img_layer2\">"
   ]
  },
  {
   "cell_type": "markdown",
   "metadata": {},
   "source": [
    "For layer 2, there are nine examples of weight reconstructions for each of the features found by the model. We can see that the model has learned to create feature detectors that look for corners, repeating lines, circles, and other simple patterns. These are built from the basic building blocks developed in the first layer. For each of these, the right-hand side of the picture shows small patches from actual images which these features most closely match. For instance, the particular pattern in row 2, column 1 matches the gradients and textures associated with sunsets.\n",
    "\n",
    "<<img_layer3>> shows the image from the paper showing the results of reconstructing the features of layer 3."
   ]
  },
  {
   "cell_type": "markdown",
   "metadata": {},
   "source": [
    "<img src=\"images/chapter2_layer3.PNG\" alt=\"Activations of the third layer of a CNN\" width=\"800\" caption=\"Activations of the third layer of a CNN (courtesy of Matthew D. Zeiler and Rob Fergus)\" id=\"img_layer3\">"
   ]
  },
  {
   "cell_type": "markdown",
   "metadata": {},
   "source": [
    "As you can see by looking at the righthand side of this picture, the features are now able to identify and match with higher-level semantic components, such as car wheels, text, and flower petals. Using these components, layers four and five can identify even higher-level concepts, as shown in <<img_layer4>>."
   ]
  },
  {
   "cell_type": "markdown",
   "metadata": {},
   "source": [
    "<img src=\"images/chapter2_layer4and5.PNG\" alt=\"Activations of layers 4 and 5 of a CNN\" width=\"800\" caption=\"Activations of layers 4 and 5 of a CNN (courtesy of Matthew D. Zeiler and Rob Fergus)\" id=\"img_layer4\">"
   ]
  },
  {
   "cell_type": "markdown",
   "metadata": {},
   "source": [
    "This article was studying an older model called *AlexNet* that only contained five layers. Networks developed since then can have hundreds of layers—so you can imagine how rich the features developed by these models can be! \n",
    "\n",
    "When we fine-tuned our pretrained model earlier, we adapted what those last layers focus on (flowers, humans, animals) to specialize on the cats versus dogs problem. More generally, we could specialize such a pretrained model on many different tasks. Let's have a look at some examples. "
   ]
  },
  {
   "cell_type": "markdown",
   "metadata": {},
   "source": [
    "### Image Recognizers Can Tackle Non-Image Tasks"
   ]
  },
  {
   "cell_type": "markdown",
   "metadata": {},
   "source": [
    "An image recognizer can, as its name suggests, only recognize images. But a lot of things can be represented as images, which means that an image recogniser can learn to complete many tasks.\n",
    "\n",
    "For instance, a sound can be converted to a spectrogram, which is a chart that shows the amount of each frequency at each time in an audio file. Fast.ai student Ethan Sutin used this approach to easily beat the published accuracy of a state-of-the-art [environmental sound detection model](https://medium.com/@etown/great-results-on-audio-classification-with-fastai-library-ccaf906c5f52) using a dataset of 8,732 urban sounds. fastai's `show_batch` clearly shows how each different sound has a quite distinctive spectrogram, as you can see in <<img_spect>>."
   ]
  },
  {
   "cell_type": "markdown",
   "metadata": {},
   "source": [
    "<img alt=\"show_batch with spectrograms of sounds\" width=\"400\" caption=\"show_batch with spectrograms of sounds\" id=\"img_spect\" src=\"images/att_00012.png\">"
   ]
  },
  {
   "cell_type": "markdown",
   "metadata": {},
   "source": [
    "A time series can easily be converted into an image by simply plotting the time series on a graph. However, it is often a good idea to try to represent your data in a way that makes it as easy as possible to pull out the most important components. In a time series, things like seasonality and anomalies are most likely to be of interest. There are various transformations available for time series data. For instance, fast.ai student Ignacio Oguiza created images from a time series dataset for olive oil classification, using a technique called Gramian Angular Difference Field (GADF); you can see the result in <<ts_image>>. He then fed those images to an image classification model just like the one you see in this chapter. His results, despite having only 30 training set images, were well over 90% accurate, and close to the state of the art."
   ]
  },
  {
   "cell_type": "markdown",
   "metadata": {},
   "source": [
    "<img alt=\"Converting a time series into an image\" width=\"700\" caption=\"Converting a time series into an image\" id=\"ts_image\" src=\"images/att_00013.png\">"
   ]
  },
  {
   "cell_type": "markdown",
   "metadata": {},
   "source": [
    "Another interesting fast.ai student project example comes from Gleb Esman. He was working on fraud detection at Splunk, using a dataset of users' mouse movements and mouse clicks. He turned these into pictures by drawing an image where the position, speed, and acceleration of the mouse pointer was displayed using coloured lines, and the clicks were displayed using [small colored circles](https://www.splunk.com/en_us/blog/security/deep-learning-with-splunk-and-tensorflow-for-security-catching-the-fraudster-in-neural-networks-with-behavioral-biometrics.html), as shown in <<splunk>>. He then fed this into an image recognition model just like the one we've used in this chapter, and it worked so well that it led to a patent for this approach to fraud analytics!"
   ]
  },
  {
   "cell_type": "markdown",
   "metadata": {},
   "source": [
    "<img alt=\"Converting computer mouse behavior to an image\" width=\"450\" caption=\"Converting computer mouse behavior to an image\" id=\"splunk\" src=\"images/att_00014.png\">"
   ]
  },
  {
   "cell_type": "markdown",
   "metadata": {},
   "source": [
    "Another example comes from the paper [\"Malware Classification with Deep Convolutional Neural Networks\"](https://ieeexplore.ieee.org/abstract/document/8328749) by Mahmoud Kalash et al., which explains that \"the malware binary file is divided into 8-bit sequences which are then converted to equivalent decimal values. This decimal vector is reshaped and a gray-scale image is generated that represents the malware sample,\" like in <<malware_proc>>."
   ]
  },
  {
   "cell_type": "markdown",
   "metadata": {},
   "source": [
    "<img alt=\"Malware classification process\" width=\"623\" caption=\"Malware classification process\" id=\"malware_proc\" src=\"images/att_00055.png\">"
   ]
  },
  {
   "cell_type": "markdown",
   "metadata": {},
   "source": [
    "The authors then show \"pictures\" generated through this process of malware in different categories, as shown in <<malware_eg>>."
   ]
  },
  {
   "cell_type": "markdown",
   "metadata": {},
   "source": [
    "<img alt=\"Malware examples\" width=\"650\" caption=\"Malware examples\" id=\"malware_eg\" src=\"images/att_00056.png\">"
   ]
  },
  {
   "cell_type": "markdown",
   "metadata": {},
   "source": [
    "As you can see, the different types of malware look very distinctive to the human eye. The model the researchers trained based on this image representation was more accurate at malware classification than any previous approach shown in the academic literature. This suggests a good rule of thumb for converting a dataset into an image representation: if the human eye can recognize categories from the images, then a deep learning model should be able to do so too.\n",
    "\n",
    "In general, you'll find that a small number of general approaches in deep learning can go a long way, if you're a bit creative in how you represent your data! You shouldn't think of approaches like the ones described here as \"hacky workarounds,\" because actually they often (as here) beat previously state-of-the-art results. These really are the right ways to think about these problem domains."
   ]
  },
  {
   "cell_type": "markdown",
   "metadata": {},
   "source": [
    "### Jargon Recap"
   ]
  },
  {
   "cell_type": "markdown",
   "metadata": {},
   "source": [
    "We just covered a lot of information so let's recap briefly, <<dljargon>> provides a handy vocabulary.\n",
    "\n",
    "```asciidoc\n",
    "[[dljargon]]\n",
    ".Deep learning vocabulary\n",
    "[options=\"header\"]\n",
    "|=====\n",
    "| Term | Meaning\n",
    "|Label | The data that we're trying to predict, such as \"dog\" or \"cat\"\n",
    "|Architecture | The _template_ of the model that we're trying to fit; the actual mathematical function that we're passing the input data and parameters to\n",
    "|Model | The combination of the architecture with a particular set of parameters\n",
    "|Parameters | The values in the model that change what task it can do, and are updated through model training\n",
    "|Fit | Update the parameters of the model such that the predictions of the model using the input data match the target labels\n",
    "|Train | A synonym for _fit_\n",
    "|Pretrained model | A model that has already been trained, generally using a large dataset, and will be fine-tuned\n",
    "|Fine-tune | Update a pretrained model for a different task\n",
    "|Epoch | One complete pass through the input data\n",
    "|Loss | A measure of how good the model is, chosen to drive training via SGD\n",
    "|Metric | A measurement of how good the model is, using the validation set, chosen for human consumption\n",
    "|Validation set | A set of data held out from training, used only for measuring how good the model is\n",
    "|Training set | The data used for fitting the model; does not include any data from the validation set\n",
    "|Overfitting | Training a model in such a way that it _remembers_ specific features of the input data, rather than generalizing well to data not seen during training\n",
    "|CNN | Convolutional neural network; a type of neural network that works particularly well for computer vision tasks\n",
    "|=====\n",
    "```"
   ]
  },
  {
   "cell_type": "markdown",
   "metadata": {},
   "source": [
    "With this vocabulary in hand, we are now in a position to bring together all the key concepts introduced so far. Take a moment to review those definitions and read the following summary. If you can follow the explanation, then you're well equipped to understand the discussions to come.\n",
    "\n",
    "*Machine learning* is a discipline where we define a program not by writing it entirely ourselves, but by learning from data. *Deep learning* is a specialty within machine learning that uses *neural networks* with multiple *layers*. *Image classification* is a representative example (also known as *image recognition*). We start with *labeled data*; that is, a set of images where we have assigned a *label* to each image indicating what it represents. Our goal is to produce a program, called a *model*, which, given a new image, will make an accurate *prediction* regarding what that new image represents.\n",
    "\n",
    "Every model starts with a choice of *architecture*, a general template for how that kind of model works internally. The process of *training* (or *fitting*) the model is the process of finding a set of *parameter values* (or *weights*) that specialize that general architecture into a model that works well for our particular kind of data. In order to define how well a model does on a single prediction, we need to define a *loss function*, which determines how we score a prediction as good or bad.\n",
    "\n",
    "To make the training process go faster, we might start with a *pretrained model*—a model that has already been trained on someone else's data. We can then adapt it to our data by training it a bit more on our data, a process called *fine-tuning*.\n",
    "\n",
    "When we train a model, a key concern is to ensure that our model *generalizes*—that is, that it learns general lessons from our data which also apply to new items it will encounter, so that it can make good predictions on those items. The risk is that if we train our model badly, instead of learning general lessons it effectively memorizes what it has already seen, and then it will make poor predictions about new images. Such a failure is called *overfitting*. In order to avoid this, we always divide our data into two parts, the *training set* and the *validation set*. We train the model by showing it only the training set and then we evaluate how well the model is doing by seeing how well it performs on items from the validation set. In this way, we check if the lessons the model learns from the training set are lessons that generalize to the validation set. In order for a person to assess how well the model is doing on the validation set overall, we define a *metric*. During the training process, when the model has seen every item in the training set, we call that an *epoch*.\n",
    "\n",
    "All these concepts apply to machine learning in general. That is, they apply to all sorts of schemes for defining a model by training it with data. What makes deep learning distinctive is a particular class of architectures: the architectures based on *neural networks*. In particular, tasks like image classification rely heavily on *convolutional neural networks*, which we will discuss shortly."
   ]
  },
  {
   "cell_type": "markdown",
   "metadata": {},
   "source": [
    "## Deep Learning Is Not Just for Image Classification"
   ]
  },
  {
   "cell_type": "markdown",
   "metadata": {},
   "source": [
    "Deep learning's effectiveness for classifying images has been widely discussed in recent years, even showing _superhuman_ results on complex tasks like recognizing malignant tumors in CT scans. But it can do a lot more than this, as we will show here.\n",
    "\n",
    "For instance, let's talk about something that is critically important for autonomous vehicles: localizing objects in a picture. If a self-driving car doesn't know where a pedestrian is, then it doesn't know how to avoid one! Creating a model that can recognize the content of every individual pixel in an image is called *segmentation*. Here is how we can train a segmentation model with fastai, using a subset of the [*Camvid* dataset](http://www0.cs.ucl.ac.uk/staff/G.Brostow/papers/Brostow_2009-PRL.pdf) from the paper \"Semantic Object Classes in Video: A High-Definition Ground Truth Database\" by Gabruel J. Brostow, Julien Fauqueur, and Roberto Cipolla:"
   ]
  },
  {
   "cell_type": "code",
   "execution_count": 49,
   "metadata": {},
   "outputs": [
    {
     "data": {
      "text/html": [
       "\n",
       "    <div>\n",
       "        <style>\n",
       "            /* Turns off some styling */\n",
       "            progress {\n",
       "                /* gets rid of default border in Firefox and Opera. */\n",
       "                border: none;\n",
       "                /* Needs to be in here for Safari polyfill so background images work as expected. */\n",
       "                background-size: auto;\n",
       "            }\n",
       "            .progress-bar-interrupted, .progress-bar-interrupted::-webkit-progress-bar {\n",
       "                background: #F44336;\n",
       "            }\n",
       "        </style>\n",
       "      <progress value='2318336' class='' max='2314212' style='width:300px; height:20px; vertical-align: middle;'></progress>\n",
       "      100.18% [2318336/2314212 00:00<00:00]\n",
       "    </div>\n",
       "    "
      ],
      "text/plain": [
       "<IPython.core.display.HTML object>"
      ]
     },
     "metadata": {},
     "output_type": "display_data"
    },
    {
     "data": {
      "text/html": [
       "<table border=\"1\" class=\"dataframe\">\n",
       "  <thead>\n",
       "    <tr style=\"text-align: left;\">\n",
       "      <th>epoch</th>\n",
       "      <th>train_loss</th>\n",
       "      <th>valid_loss</th>\n",
       "      <th>time</th>\n",
       "    </tr>\n",
       "  </thead>\n",
       "  <tbody>\n",
       "    <tr>\n",
       "      <td>0</td>\n",
       "      <td>3.199134</td>\n",
       "      <td>2.446588</td>\n",
       "      <td>01:08</td>\n",
       "    </tr>\n",
       "  </tbody>\n",
       "</table>"
      ],
      "text/plain": [
       "<IPython.core.display.HTML object>"
      ]
     },
     "metadata": {},
     "output_type": "display_data"
    },
    {
     "data": {
      "text/html": [
       "<table border=\"1\" class=\"dataframe\">\n",
       "  <thead>\n",
       "    <tr style=\"text-align: left;\">\n",
       "      <th>epoch</th>\n",
       "      <th>train_loss</th>\n",
       "      <th>valid_loss</th>\n",
       "      <th>time</th>\n",
       "    </tr>\n",
       "  </thead>\n",
       "  <tbody>\n",
       "    <tr>\n",
       "      <td>0</td>\n",
       "      <td>1.778917</td>\n",
       "      <td>1.630478</td>\n",
       "      <td>01:17</td>\n",
       "    </tr>\n",
       "    <tr>\n",
       "      <td>1</td>\n",
       "      <td>1.573973</td>\n",
       "      <td>1.686029</td>\n",
       "      <td>01:14</td>\n",
       "    </tr>\n",
       "    <tr>\n",
       "      <td>2</td>\n",
       "      <td>1.434418</td>\n",
       "      <td>1.266176</td>\n",
       "      <td>01:16</td>\n",
       "    </tr>\n",
       "    <tr>\n",
       "      <td>3</td>\n",
       "      <td>1.305066</td>\n",
       "      <td>1.256482</td>\n",
       "      <td>01:19</td>\n",
       "    </tr>\n",
       "    <tr>\n",
       "      <td>4</td>\n",
       "      <td>1.188671</td>\n",
       "      <td>1.040393</td>\n",
       "      <td>01:17</td>\n",
       "    </tr>\n",
       "    <tr>\n",
       "      <td>5</td>\n",
       "      <td>1.075362</td>\n",
       "      <td>0.982113</td>\n",
       "      <td>01:20</td>\n",
       "    </tr>\n",
       "    <tr>\n",
       "      <td>6</td>\n",
       "      <td>0.978525</td>\n",
       "      <td>0.931026</td>\n",
       "      <td>01:25</td>\n",
       "    </tr>\n",
       "    <tr>\n",
       "      <td>7</td>\n",
       "      <td>0.903494</td>\n",
       "      <td>0.933997</td>\n",
       "      <td>01:21</td>\n",
       "    </tr>\n",
       "  </tbody>\n",
       "</table>"
      ],
      "text/plain": [
       "<IPython.core.display.HTML object>"
      ]
     },
     "metadata": {},
     "output_type": "display_data"
    }
   ],
   "source": [
    "path = untar_data(URLs.CAMVID_TINY)\n",
    "dls = SegmentationDataLoaders.from_label_func(\n",
    "    path, bs=8, fnames = get_image_files(path/\"images\"),\n",
    "    label_func = lambda o: path/'labels'/f'{o.stem}_P{o.suffix}',\n",
    "    codes = np.loadtxt(path/'codes.txt', dtype=str)\n",
    ")\n",
    "\n",
    "learn = unet_learner(dls, resnet34)\n",
    "learn.fine_tune(8)"
   ]
  },
  {
   "cell_type": "markdown",
   "metadata": {},
   "source": [
    "We are not even going to walk through this code line by line, because it is nearly identical to our previous example! (Although we will be doing a deep dive into segmentation models in <<chapter_arch_details>>, along with all of the other models that we are briefly introducing in this chapter, and many, many more.)\n",
    "\n",
    "We can visualize how well it achieved its task, by asking the model to color-code each pixel of an image. As you can see, it nearly perfectly classifies every pixel in every object. For instance, notice that all of the cars are overlaid with the same color and all of the trees are overlaid with the same color (in each pair of images, the lefthand image is the ground truth label and the right is the prediction from the model):"
   ]
  },
  {
   "cell_type": "code",
   "execution_count": 50,
   "metadata": {},
   "outputs": [
    {
     "data": {
      "text/html": [],
      "text/plain": [
       "<IPython.core.display.HTML object>"
      ]
     },
     "metadata": {},
     "output_type": "display_data"
    },
    {
     "data": {
      "image/png": "[encoded data removed]",
      "text/plain": [
       "<Figure size 504x576 with 12 Axes>"
      ]
     },
     "metadata": {
      "needs_background": "light"
     },
     "output_type": "display_data"
    }
   ],
   "source": [
    "learn.show_results(max_n=6, figsize=(7,8))"
   ]
  },
  {
   "cell_type": "markdown",
   "metadata": {},
   "source": [
    "One other area where deep learning has dramatically improved in the last couple of years is natural language processing (NLP). Computers can now generate text, translate automatically from one language to another, analyze comments, label words in sentences, and much more. Here is all of the code necessary to train a model that can classify the sentiment of a movie review better than anything that existed in the world just five years ago:"
   ]
  },
  {
   "cell_type": "code",
   "execution_count": null,
   "metadata": {},
   "outputs": [
    {
     "data": {
      "text/html": [
       "\n",
       "    <div>\n",
       "        <style>\n",
       "            /* Turns off some styling */\n",
       "            progress {\n",
       "                /* gets rid of default border in Firefox and Opera. */\n",
       "                border: none;\n",
       "                /* Needs to be in here for Safari polyfill so background images work as expected. */\n",
       "                background-size: auto;\n",
       "            }\n",
       "            .progress-bar-interrupted, .progress-bar-interrupted::-webkit-progress-bar {\n",
       "                background: #F44336;\n",
       "            }\n",
       "        </style>\n",
       "      <progress value='144441344' class='' max='144440600' style='width:300px; height:20px; vertical-align: middle;'></progress>\n",
       "      100.00% [144441344/144440600 00:13<00:00]\n",
       "    </div>\n",
       "    "
      ],
      "text/plain": [
       "<IPython.core.display.HTML object>"
      ]
     },
     "metadata": {},
     "output_type": "display_data"
    },
    {
     "data": {
      "text/html": [],
      "text/plain": [
       "<IPython.core.display.HTML object>"
      ]
     },
     "metadata": {},
     "output_type": "display_data"
    },
    {
     "data": {
      "text/html": [
       "\n",
       "    <div>\n",
       "        <style>\n",
       "            /* Turns off some styling */\n",
       "            progress {\n",
       "                /* gets rid of default border in Firefox and Opera. */\n",
       "                border: none;\n",
       "                /* Needs to be in here for Safari polyfill so background images work as expected. */\n",
       "                background-size: auto;\n",
       "            }\n",
       "            .progress-bar-interrupted, .progress-bar-interrupted::-webkit-progress-bar {\n",
       "                background: #F44336;\n",
       "            }\n",
       "        </style>\n",
       "      <progress value='105070592' class='' max='105067061' style='width:300px; height:20px; vertical-align: middle;'></progress>\n",
       "      100.00% [105070592/105067061 00:09<00:00]\n",
       "    </div>\n",
       "    "
      ],
      "text/plain": [
       "<IPython.core.display.HTML object>"
      ]
     },
     "metadata": {},
     "output_type": "display_data"
    },
    {
     "data": {
      "text/html": [
       "\n",
       "    <div>\n",
       "        <style>\n",
       "            /* Turns off some styling */\n",
       "            progress {\n",
       "                /* gets rid of default border in Firefox and Opera. */\n",
       "                border: none;\n",
       "                /* Needs to be in here for Safari polyfill so background images work as expected. */\n",
       "                background-size: auto;\n",
       "            }\n",
       "            .progress-bar-interrupted, .progress-bar-interrupted::-webkit-progress-bar {\n",
       "                background: #F44336;\n",
       "            }\n",
       "        </style>\n",
       "      <progress value='0' class='' max='1' style='width:300px; height:20px; vertical-align: middle;'></progress>\n",
       "      0.00% [0/1 00:00<00:00]\n",
       "    </div>\n",
       "    \n",
       "<table border=\"1\" class=\"dataframe\">\n",
       "  <thead>\n",
       "    <tr style=\"text-align: left;\">\n",
       "      <th>epoch</th>\n",
       "      <th>train_loss</th>\n",
       "      <th>valid_loss</th>\n",
       "      <th>accuracy</th>\n",
       "      <th>time</th>\n",
       "    </tr>\n",
       "  </thead>\n",
       "  <tbody>\n",
       "  </tbody>\n",
       "</table><p>\n",
       "\n",
       "    <div>\n",
       "        <style>\n",
       "            /* Turns off some styling */\n",
       "            progress {\n",
       "                /* gets rid of default border in Firefox and Opera. */\n",
       "                border: none;\n",
       "                /* Needs to be in here for Safari polyfill so background images work as expected. */\n",
       "                background-size: auto;\n",
       "            }\n",
       "            .progress-bar-interrupted, .progress-bar-interrupted::-webkit-progress-bar {\n",
       "                background: #F44336;\n",
       "            }\n",
       "        </style>\n",
       "      <progress value='151' class='' max='390' style='width:300px; height:20px; vertical-align: middle;'></progress>\n",
       "      38.72% [151/390 34:39<54:52 0.4875]\n",
       "    </div>\n",
       "    "
      ],
      "text/plain": [
       "<IPython.core.display.HTML object>"
      ]
     },
     "metadata": {},
     "output_type": "display_data"
    }
   ],
   "source": [
    "from fastai.text.all import *\n",
    "\n",
    "dls = TextDataLoaders.from_folder(untar_data(URLs.IMDB), valid='test')\n",
    "learn = text_classifier_learner(dls, AWD_LSTM, drop_mult=0.5, metrics=accuracy)\n",
    "learn.fine_tune(4, 1e-2)"
   ]
  },
  {
   "cell_type": "markdown",
   "metadata": {},
   "source": [
    "#clean\n",
    "If you hit a \"CUDA out of memory error\" after running this cell, click on the menu Kernel, then restart. Instead of executing the cell above, copy and paste the following code in it:\n",
    "\n",
    "```\n",
    "from fastai.text.all import *\n",
    "\n",
    "dls = TextDataLoaders.from_folder(untar_data(URLs.IMDB), valid='test', bs=32)\n",
    "learn = text_classifier_learner(dls, AWD_LSTM, drop_mult=0.5, metrics=accuracy)\n",
    "learn.fine_tune(4, 1e-2)\n",
    "```\n",
    "\n",
    "This reduces the batch size to 32 (we will explain this later). If you keep hitting the same error, change 32 to 16."
   ]
  },
  {
   "cell_type": "markdown",
   "metadata": {},
   "source": [
    "This model is using the [\"IMDb Large Movie Review dataset\"](https://ai.stanford.edu/~ang/papers/acl11-WordVectorsSentimentAnalysis.pdf) from the paper \"Learning Word Vectors for Sentiment Analysis\" by Andrew Maas et al. It works well with movie reviews of many thousands of words, but let's test it out on a very short one to see how it does its thing:"
   ]
  },
  {
   "cell_type": "code",
   "execution_count": null,
   "metadata": {},
   "outputs": [],
   "source": [
    "learn.predict(\"I really liked that movie!\")"
   ]
  },
  {
   "cell_type": "markdown",
   "metadata": {},
   "source": [
    "Here we can see the model has considered the review to be positive. The second part of the result is the index of \"pos\" in our data vocabulary and the last part is the probabilities attributed to each class (99.6% for \"pos\" and 0.4% for \"neg\"). \n",
    "\n",
    "Now it's your turn! Write your own mini movie review, or copy one from the internet, and you can see what this model thinks about it. "
   ]
  },
  {
   "cell_type": "markdown",
   "metadata": {},
   "source": [
    "### Sidebar: The Order Matters"
   ]
  },
  {
   "cell_type": "markdown",
   "metadata": {},
   "source": [
    "In a Jupyter notebook, the order in which you execute each cell is very important. It's not like Excel, where everything gets updated as soon as you type something anywhere—it has an inner state that gets updated each time you execute a cell. For instance, when you run the first cell of the notebook (with the \"CLICK ME\" comment), you create an object called `learn` that contains a model and data for an image classification problem. If we were to run the cell just shown in the text (the one that predicts if a review is good or not) straight after, we would get an error as this `learn` object does not contain a text classification model. This cell needs to be run after the one containing:\n",
    "\n",
    "```python\n",
    "from fastai.text.all import *\n",
    "\n",
    "dls = TextDataLoaders.from_folder(untar_data(URLs.IMDB), valid='test')\n",
    "learn = text_classifier_learner(dls, AWD_LSTM, drop_mult=0.5, \n",
    "                                metrics=accuracy)\n",
    "learn.fine_tune(4, 1e-2)\n",
    "```\n",
    "\n",
    "The outputs themselves can be deceiving, because they include the results of the last time the cell was executed; if you change the code inside a cell without executing it, the old (misleading) results will remain.\n",
    "\n",
    "Except when we mention it explicitly, the notebooks provided on the [book website](https://book.fast.ai/) are meant to be run in order, from top to bottom. In general, when experimenting, you will find yourself executing cells in any order to go fast (which is a super neat feature of Jupyter Notebook), but once you have explored and arrived at the final version of your code, make sure you can run the cells of your notebooks in order (your future self won't necessarily remember the convoluted path you took otherwise!). \n",
    "\n",
    "In command mode, pressing `0` twice will restart the *kernel* (which is the engine powering your notebook). This will wipe your state clean and make it as if you had just started in the notebook. Choose Run All Above from the Cell menu to run all cells above the point where you are. We have found this to be very useful when developing the fastai library."
   ]
  },
  {
   "cell_type": "markdown",
   "metadata": {},
   "source": [
    "### End sidebar"
   ]
  },
  {
   "cell_type": "markdown",
   "metadata": {},
   "source": [
    "If you ever have any questions about a fastai method, you should use the function `doc`, passing it the method name:\n",
    "\n",
    "```python\n",
    "doc(learn.predict)\n",
    "```\n",
    "\n",
    "This will make a small window pop up with content like this:\n",
    "\n",
    "<img src=\"images/doc_ex.png\" width=\"600\">"
   ]
  },
  {
   "cell_type": "markdown",
   "metadata": {},
   "source": [
    "A brief one-line explanation is provided by `doc`. The \"Show in docs\" link takes you to the full documentation, where you'll find all the details and lots of examples. Also, most of fastai's methods are just a handful of lines, so you can click the \"source\" link to see exactly what's going on behind the scenes.\n",
    "\n",
    "Let's move on to something much less sexy, but perhaps significantly more widely commercially useful: building models from plain *tabular* data."
   ]
  },
  {
   "cell_type": "markdown",
   "metadata": {},
   "source": [
    "> jargon: Tabular: Data that is in the form of a table, such as from a spreadsheet, database, or CSV file. A tabular model is a model that tries to predict one column of a table based on information in other columns of the table."
   ]
  },
  {
   "cell_type": "markdown",
   "metadata": {},
   "source": [
    "It turns out that looks very similar too. Here is the code necessary to train a model that will predict whether a person is a high-income earner, based on their socioeconomic background:"
   ]
  },
  {
   "cell_type": "code",
   "execution_count": null,
   "metadata": {},
   "outputs": [],
   "source": [
    "from fastai.tabular.all import *\n",
    "path = untar_data(URLs.ADULT_SAMPLE)\n",
    "\n",
    "dls = TabularDataLoaders.from_csv(path/'adult.csv', path=path, y_names=\"salary\",\n",
    "    cat_names = ['workclass', 'education', 'marital-status', 'occupation',\n",
    "                 'relationship', 'race'],\n",
    "    cont_names = ['age', 'fnlwgt', 'education-num'],\n",
    "    procs = [Categorify, FillMissing, Normalize])\n",
    "\n",
    "learn = tabular_learner(dls, metrics=accuracy)"
   ]
  },
  {
   "cell_type": "markdown",
   "metadata": {},
   "source": [
    "As you see, we had to tell fastai which columns are *categorical* (that is, contain values that are one of a discrete set of choices, such as `occupation`) and which are *continuous* (that is, contain a number that represents a quantity, such as `age`).\n",
    "\n",
    "There is no pretrained model available for this task (in general, pretrained models are not widely available for any tabular modeling tasks, although some organizations have created them for internal use), so we don't use `fine_tune` in this case. Instead we use `fit_one_cycle`, the most commonly used method for training fastai models *from scratch* (i.e. without transfer learning):"
   ]
  },
  {
   "cell_type": "code",
   "execution_count": null,
   "metadata": {},
   "outputs": [],
   "source": [
    "learn.fit_one_cycle(3)"
   ]
  },
  {
   "cell_type": "markdown",
   "metadata": {},
   "source": [
    "This model is using the [*Adult* dataset](http://robotics.stanford.edu/~ronnyk/nbtree.pdf), from the paper \"Scaling Up the Accuracy of Naive-Bayes Classifiers: a Decision-Tree Hybrid\" by Rob Kohavi, which contains some demographic data about individuals (like their education, marital status, race, sex, and whether or not they have an annual income greater than \\$50k). The model is over 80\\% accurate, and took around 30 seconds to train."
   ]
  },
  {
   "cell_type": "markdown",
   "metadata": {},
   "source": [
    "Let's look at one more. Recommendation systems are very important, particularly in e-commerce. Companies like Amazon and Netflix try hard to recommend products or movies that users might like. Here's how to train a model that will predict movies people might like, based on their previous viewing habits, using the [MovieLens dataset](https://doi.org/10.1145/2827872):"
   ]
  },
  {
   "cell_type": "code",
   "execution_count": null,
   "metadata": {},
   "outputs": [],
   "source": [
    "from fastai.collab import *\n",
    "path = untar_data(URLs.ML_SAMPLE)\n",
    "dls = CollabDataLoaders.from_csv(path/'ratings.csv')\n",
    "learn = collab_learner(dls, y_range=(0.5,5.5))\n",
    "learn.fine_tune(10)"
   ]
  },
  {
   "cell_type": "markdown",
   "metadata": {},
   "source": [
    "This model is predicting movie ratings on a scale of 0.5 to 5.0 to within around 0.6 average error. Since we're predicting a continuous number, rather than a category, we have to tell fastai what range our target has, using the `y_range` parameter.\n",
    "\n",
    "Although we're not actually using a pretrained model (for the same reason that we didn't for the tabular model), this example shows that fastai lets us use `fine_tune` anyway in this case (you'll learn how and why this works in <<chapter_pet_breeds>>). Sometimes it's best to experiment with `fine_tune` versus `fit_one_cycle` to see which works best for your dataset.\n",
    "\n",
    "We can use the same `show_results` call we saw earlier to view a few examples of user and movie IDs, actual ratings, and predictions:"
   ]
  },
  {
   "cell_type": "code",
   "execution_count": null,
   "metadata": {},
   "outputs": [],
   "source": [
    "learn.show_results()"
   ]
  },
  {
   "cell_type": "markdown",
   "metadata": {},
   "source": [
    "### Sidebar: Datasets: Food for Models"
   ]
  },
  {
   "cell_type": "markdown",
   "metadata": {},
   "source": [
    "You’ve already seen quite a few models in this section, each one trained using a different dataset to do a different task. In machine learning and deep learning, we can’t do anything without data. So, the people that create datasets for us to train our models on are the (often underappreciated) heroes. Some of the most useful and important datasets are those that become important *academic baselines*; that is, datasets that are widely studied by researchers and used to compare algorithmic changes. Some of these become household names (at least, among households that train models!), such as MNIST, CIFAR-10, and ImageNet.\n",
    "\n",
    "The datasets used in this book have been selected because they provide great examples of the kinds of data that you are likely to encounter, and the academic literature has many examples of model results using these datasets to which you can compare your work.\n",
    "\n",
    "Most datasets used in this book took the creators a lot of work to build. For instance, later in the book we’ll be showing you how to create a model that can translate between French and English. The key input to this is a French/English parallel text corpus prepared back in 2009 by Professor Chris Callison-Burch of the University of Pennsylvania. This dataset contains over 20 million sentence pairs in French and English. He built the dataset in a really clever way: by crawling millions of Canadian web pages (which are often multilingual) and then using a set of simple heuristics to transform URLs of French content onto URLs pointing to the same content in English.\n",
    "\n",
    "As you look at datasets throughout this book, think about where they might have come from, and how they might have been curated. Then think about what kinds of interesting datasets you could create for your own projects. (We’ll even take you step by step through the process of creating your own image dataset soon.)\n",
    "\n",
    "fast.ai has spent a lot of time creating cut-down versions of popular datasets that are specially designed to support rapid prototyping and experimentation, and to be easier to learn with. In this book we will often start by using one of the cut-down versions and later scale up to the full-size version (just as we're doing in this chapter!). In fact, this is how the world’s top practitioners do their modeling in practice; they do most of their experimentation and prototyping with subsets of their data, and only use the full dataset when they have a good understanding of what they have to do."
   ]
  },
  {
   "cell_type": "markdown",
   "metadata": {},
   "source": [
    "### End sidebar"
   ]
  },
  {
   "cell_type": "markdown",
   "metadata": {},
   "source": [
    "Each of the models we trained showed a training and validation loss. A good validation set is one of the most important pieces of the training process. Let's see why and learn how to create one."
   ]
  },
  {
   "cell_type": "markdown",
   "metadata": {},
   "source": [
    "## Validation Sets and Test Sets"
   ]
  },
  {
   "cell_type": "markdown",
   "metadata": {},
   "source": [
    "As we've discussed, the goal of a model is to make predictions about data. But the model training process is fundamentally dumb. If we trained a model with all our data, and then evaluated the model using that same data, we would not be able to tell how well our model can perform on data it hasn’t seen. Without this very valuable piece of information to guide us in training our model, there is a very good chance it would become good at making predictions about that data but would perform poorly on new data.\n",
    "\n",
    "To avoid this, our first step was to split our dataset into two sets: the *training set* (which our model sees in training) and the *validation set*, also known as the *development set* (which is used only for evaluation). This lets us test that the model learns lessons from the training data that generalize to new data, the validation data.\n",
    "\n",
    "One way to understand this situation is that, in a sense, we don't want our model to get good results by \"cheating.\" If it makes an accurate prediction for a data item, that should be because it has learned characteristics of that kind of item, and not because the model has been shaped by *actually having seen that particular item*.\n",
    "\n",
    "Splitting off our validation data means our model never sees it in training and so is completely untainted by it, and is not cheating in any way. Right?\n",
    "\n",
    "In fact, not necessarily. The situation is more subtle. This is because in realistic scenarios we rarely build a model just by training its weight parameters once. Instead, we are likely to explore many versions of a model through various modeling choices regarding network architecture, learning rates, data augmentation strategies, and other factors we will discuss in upcoming chapters. Many of these choices can be described as choices of *hyperparameters*. The word reflects that they are parameters about parameters, since they are the higher-level choices that govern the meaning of the weight parameters."
   ]
  },
  {
   "cell_type": "markdown",
   "metadata": {},
   "source": [
    "The problem is that even though the ordinary training process is only looking at predictions on the training data when it learns values for the weight parameters, the same is not true of us. We, as modelers, are evaluating the model by looking at predictions on the validation data when we decide to explore new hyperparameter values! So subsequent versions of the model are, indirectly, shaped by us having seen the validation data. Just as the automatic training process is in danger of overfitting the training data, we are in danger of overfitting the validation data through human trial and error and exploration.\n",
    "\n",
    "The solution to this conundrum is to introduce another level of even more highly reserved data, the *test set*. Just as we hold back the validation data from the training process, we must hold back the test set data even from ourselves. It cannot be used to improve the model; it can only be used to evaluate the model at the very end of our efforts. In effect, we define a hierarchy of cuts of our data, based on how fully we want to hide it from training and modeling processes: training data is fully exposed, the validation data is less exposed, and test data is totally hidden. This hierarchy parallels the different kinds of modeling and evaluation processes themselves—the automatic training process with back propagation, the more manual process of trying different hyper-parameters between training sessions, and the assessment of our final result.\n",
    "\n",
    "The test and validation sets should have enough data to ensure that you get a good estimate of your accuracy. If you're creating a cat detector, for instance, you generally want at least 30 cats in your validation set. That means that if you have a dataset with thousands of items, using the default 20% validation set size may be more than you need. On the other hand, if you have lots of data, using some of it for validation probably doesn't have any downsides.\n",
    "\n",
    "Having two levels of \"reserved data\"—a validation set and a test set, with one level representing data that you are virtually hiding from yourself—may seem a bit extreme. But the reason it is often necessary is because models tend to gravitate toward the simplest way to do good predictions (memorization), and we as fallible humans tend to gravitate toward fooling ourselves about how well our models are performing. The discipline of the test set helps us keep ourselves intellectually honest. That doesn't mean we *always* need a separate test set—if you have very little data, you may need to just have a validation set—but generally it's best to use one if at all possible.\n",
    "\n",
    "This same discipline can be critical if you intend to hire a third party to perform modeling work on your behalf. A third party might not understand your requirements accurately, or their incentives might even encourage them to misunderstand them. A good test set can greatly mitigate these risks and let you evaluate whether their work solves your actual problem.\n",
    "\n",
    "To put it bluntly, if you're a senior decision maker in your organization (or you're advising senior decision makers), the most important takeaway is this: if you ensure that you really understand what test and validation sets are and why they're important, then you'll avoid the single biggest source of failures we've seen when organizations decide to use AI. For instance, if you're considering bringing in an external vendor or service, make sure that you hold out some test data that the vendor *never gets to see*. Then *you* check their model on your test data, using a metric that *you* choose based on what actually matters to you in practice, and *you* decide what level of performance is adequate. (It's also a good idea for you to try out some simple baseline yourself, so you know what a really simple model can achieve. Often it'll turn out that your simple model performs just as well as one produced by an external \"expert\"!)"
   ]
  },
  {
   "cell_type": "markdown",
   "metadata": {},
   "source": [
    "### Use Judgment in Defining Test Sets"
   ]
  },
  {
   "cell_type": "markdown",
   "metadata": {},
   "source": [
    "To do a good job of defining a validation set (and possibly a test set), you will sometimes want to do more than just randomly grab a fraction of your original dataset. Remember: a key property of the validation and test sets is that they must be representative of the new data you will see in the future. This may sound like an impossible order! By definition, you haven’t seen this data yet. But you usually still do know some things.\n",
    "\n",
    "It's instructive to look at a few example cases. Many of these examples come from predictive modeling competitions on the [Kaggle](https://www.kaggle.com/) platform, which is a good representation of problems and methods you might see in practice.\n",
    "\n",
    "One case might be if you are looking at time series data. For a time series, choosing a random subset of the data will be both too easy (you can look at the data both before and after the dates you are trying to predict) and not representative of most business use cases (where you are using historical data to build a model for use in the future). If your data includes the date and you are building a model to use in the future, you will want to choose a continuous section with the latest dates as your validation set (for instance, the last two weeks or last month of available data).\n",
    "\n",
    "Suppose you want to split the time series data in <<timeseries1>> into training and validation sets."
   ]
  },
  {
   "cell_type": "markdown",
   "metadata": {},
   "source": [
    "<img src=\"images/timeseries1.png\" width=\"400\" id=\"timeseries1\" caption=\"A time series\" alt=\"A serie of values\">"
   ]
  },
  {
   "cell_type": "markdown",
   "metadata": {},
   "source": [
    "A random subset is a poor choice (too easy to fill in the gaps, and not indicative of what you'll need in production), as we can see in <<timeseries2>>."
   ]
  },
  {
   "cell_type": "markdown",
   "metadata": {},
   "source": [
    "<img src=\"images/timeseries2.png\" width=\"400\" id=\"timeseries2\" caption=\"A poor training subset\" alt=\"Random training subset\">"
   ]
  },
  {
   "cell_type": "markdown",
   "metadata": {},
   "source": [
    "Instead, use the earlier data as your training set (and the later data for the validation set), as shown in <<timeseries3>>."
   ]
  },
  {
   "cell_type": "markdown",
   "metadata": {},
   "source": [
    "<img src=\"images/timeseries3.png\" width=\"400\" id=\"timeseries3\" caption=\"A good training subset\" alt=\"Training subset using the data up to a certain timestamp\">"
   ]
  },
  {
   "cell_type": "markdown",
   "metadata": {},
   "source": [
    "For example, Kaggle had a competition to [predict the sales in a chain of Ecuadorian grocery stores](https://www.kaggle.com/c/favorita-grocery-sales-forecasting). Kaggle's training data ran from Jan 1 2013 to Aug 15 2017, and the test data spanned Aug 16 2017 to Aug 31 2017. That way, the competition organizer ensured that entrants were making predictions for a time period that was *in the future*, from the perspective of their model. This is similar to the way quant hedge fund traders do *back-testing* to check whether their models are predictive of future periods, based on past data."
   ]
  },
  {
   "cell_type": "markdown",
   "metadata": {},
   "source": [
    "A second common case is when you can easily anticipate ways the data you will be making predictions for in production may be *qualitatively different* from the data you have to train your model with.\n",
    "\n",
    "In the Kaggle [distracted driver competition](https://www.kaggle.com/c/state-farm-distracted-driver-detection), the independent variables are pictures of drivers at the wheel of a car, and the dependent variables are categories such as texting, eating, or safely looking ahead. Lots of pictures are of the same drivers in different positions, as we can see in <<img_driver>>. If you were an insurance company building a model from this data, note that you would be most interested in how the model performs on drivers it hasn't seen before (since you would likely have training data only for a small group of people). In recognition of this, the test data for the competition consists of images of people that don't appear in the training set."
   ]
  },
  {
   "cell_type": "markdown",
   "metadata": {},
   "source": [
    "<img src=\"images/driver.PNG\" width=\"600\" id=\"img_driver\" caption=\"Two pictures from the training data\" alt=\"Two pictures from the training data, showing the same driver\">"
   ]
  },
  {
   "cell_type": "markdown",
   "metadata": {},
   "source": [
    "If you put one of the images in <<img_driver>> in your training set and one in the validation set, your model will have an easy time making a prediction for the one in the validation set, so it will seem to be performing better than it would on new people. Another perspective is that if you used all the people in training your model, your model might be overfitting to particularities of those specific people, and not just learning the states (texting, eating, etc.).\n",
    "\n",
    "A similar dynamic was at work in the [Kaggle fisheries competition](https://www.kaggle.com/c/the-nature-conservancy-fisheries-monitoring) to identify the species of fish caught by fishing boats in order to reduce illegal fishing of endangered populations.  The test set consisted of boats that didn't appear in the training data.  This means that you'd want your validation set to include boats that are not in the training set.\n",
    "\n",
    "Sometimes it may not be clear how your validation data will differ.  For instance, for a problem using satellite imagery, you'd need to gather more information on whether the training set just contained certain geographic locations, or if it came from geographically scattered data."
   ]
  },
  {
   "cell_type": "markdown",
   "metadata": {},
   "source": [
    "Now that you have gotten a taste of how to build a model, you can decide what you want to dig into next."
   ]
  },
  {
   "cell_type": "markdown",
   "metadata": {},
   "source": [
    "## A _Choose Your Own Adventure_ moment"
   ]
  },
  {
   "cell_type": "markdown",
   "metadata": {},
   "source": [
    "If you would like to learn more about how to use deep learning models in practice, including how to identify and fix errors, create a real working web application, and avoid your model causing unexpected harm to your organization or society more generally, then keep reading the next two chapters. If you would like to start learning the foundations of how deep learning works under the hood, skip to <<chapter_mnist_basics>>. (Did you ever read _Choose Your Own Adventure_ books as a kid? Well, this is kind of like that… except with more deep learning than that book series contained.)\n",
    "\n",
    "You will need to read all these chapters to progress further in the book, but it is totally up to you which order you read them in. They don't depend on each other. If you skip ahead to <<chapter_mnist_basics>>, we will remind you at the end to come back and read the chapters you skipped over before you go any further."
   ]
  },
  {
   "cell_type": "markdown",
   "metadata": {},
   "source": [
    "## Questionnaire"
   ]
  },
  {
   "cell_type": "markdown",
   "metadata": {},
   "source": [
    "It can be hard to know in pages and pages of prose what the key things are that you really need to focus on and remember. So, we've prepared a list of questions and suggested steps to complete at the end of each chapter. All the answers are in the text of the chapter, so if you're not sure about anything here, reread that part of the text and make sure you understand it. Answers to all these questions are also available on the [book's website](https://book.fast.ai). You can also visit [the forums](https://forums.fast.ai) if you get stuck to get help from other folks studying this material.\n",
    "\n",
    "For more questions, including detailed answers and links to the video timeline, have a look at Radek Osmulski's [aiquizzes](http://aiquizzes.com/howto)."
   ]
  },
  {
   "cell_type": "markdown",
   "metadata": {},
   "source": [
    "1. Do you need these for deep learning?\n",
    "\n",
    "   - Lots of math T / F\n",
    "   - Lots of data T / F\n",
    "   - Lots of expensive computers T / F\n",
    "   - A PhD T / F\n",
    "   \n",
    "1. Name five areas where deep learning is now the best in the world.\n",
    "1. What was the name of the first device that was based on the principle of the artificial neuron?\n",
    "1. Based on the book of the same name, what are the requirements for parallel distributed processing (PDP)?\n",
    "1. What were the two theoretical misunderstandings that held back the field of neural networks?\n",
    "1. What is a GPU?\n",
    "1. Open a notebook and execute a cell containing: `1+1`. What happens?\n",
    "1. Follow through each cell of the stripped version of the notebook for this chapter. Before executing each cell, guess what will happen.\n",
    "1. Complete the Jupyter Notebook online appendix.\n",
    "1. Why is it hard to use a traditional computer program to recognize images in a photo?\n",
    "1. What did Samuel mean by \"weight assignment\"?\n",
    "1. What term do we normally use in deep learning for what Samuel called \"weights\"?\n",
    "1. Draw a picture that summarizes Samuel's view of a machine learning model.\n",
    "1. Why is it hard to understand why a deep learning model makes a particular prediction?\n",
    "1. What is the name of the theorem that shows that a neural network can solve any mathematical problem to any level of accuracy?\n",
    "1. What do you need in order to train a model?\n",
    "1. How could a feedback loop impact the rollout of a predictive policing model?\n",
    "1. Do we always have to use 224×224-pixel images with the cat recognition model?\n",
    "1. What is the difference between classification and regression?\n",
    "1. What is a validation set? What is a test set? Why do we need them?\n",
    "1. What will fastai do if you don't provide a validation set?\n",
    "1. Can we always use a random sample for a validation set? Why or why not?\n",
    "1. What is overfitting? Provide an example.\n",
    "1. What is a metric? How does it differ from \"loss\"?\n",
    "1. How can pretrained models help?\n",
    "1. What is the \"head\" of a model?\n",
    "1. What kinds of features do the early layers of a CNN find? How about the later layers?\n",
    "1. Are image models only useful for photos?\n",
    "1. What is an \"architecture\"?\n",
    "1. What is segmentation?\n",
    "1. What is `y_range` used for? When do we need it?\n",
    "1. What are \"hyperparameters\"?\n",
    "1. What's the best way to avoid failures when using AI in an organization?"
   ]
  },
  {
   "cell_type": "markdown",
   "metadata": {},
   "source": [
    "### Further Research"
   ]
  },
  {
   "cell_type": "markdown",
   "metadata": {},
   "source": [
    "Each chapter also has a \"Further Research\" section that poses questions that aren't fully answered in the text, or gives more advanced assignments. Answers to these questions aren't on the book's website; you'll need to do your own research!"
   ]
  },
  {
   "cell_type": "markdown",
   "metadata": {},
   "source": [
    "1. Why is a GPU useful for deep learning? How is a CPU different, and why is it less effective for deep learning?\n",
    "1. Try to think of three areas where feedback loops might impact the use of machine learning. See if you can find documented examples of that happening in practice."
   ]
  },
  {
   "cell_type": "code",
   "execution_count": null,
   "metadata": {},
   "outputs": [],
   "source": []
  }
 ],
 "metadata": {
  "jupytext": {
   "split_at_heading": true
  },
  "kernelspec": {
   "display_name": "Python 3",
   "language": "python",
   "name": "python3"
  },
  "language_info": {
   "codemirror_mode": {
    "name": "ipython",
    "version": 3
   },
   "file_extension": ".py",
   "mimetype": "text/x-python",
   "name": "python",
   "nbconvert_exporter": "python",
   "pygments_lexer": "ipython3",
   "version": "3.7.9"
  }
 },
 "nbformat": 4,
 "nbformat_minor": 4
}
