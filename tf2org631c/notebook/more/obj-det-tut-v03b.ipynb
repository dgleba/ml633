{
 "cells": [
  {
   "cell_type": "markdown",
   "metadata": {
    "id": "V8-yl-s-WKMG"
   },
   "source": [
    "# Object Detection API Demo\n",
    "\n",
    "<table align=\"left\"><td>\n",
    "  <a target=\"_blank\"  href=\"https://colab.sandbox.google.com/github/tensorflow/models/blob/master/research/object_detection/colab_tutorials/object_detection_tutorial.ipynb\">\n",
    "    <img src=\"https://www.tensorflow.org/images/colab_logo_32px.png\" />Run in Google Colab\n",
    "  </a>\n",
    "</td><td>\n",
    "  <a target=\"_blank\"  href=\"https://github.com/tensorflow/models/blob/master/research/object_detection/colab_tutorials/object_detection_tutorial.ipynb\">\n",
    "    <img width=32px src=\"https://www.tensorflow.org/images/GitHub-Mark-32px.png\" />View source on GitHub</a>\n",
    "</td></table>"
   ]
  },
  {
   "cell_type": "markdown",
   "metadata": {
    "id": "3cIrseUv6WKz"
   },
   "source": [
    "Welcome to the [Object Detection API](https://github.com/tensorflow/models/tree/master/research/object_detection). This notebook will walk you step by step through the process of using a pre-trained model to detect objects in an image."
   ]
  },
  {
   "cell_type": "markdown",
   "metadata": {
    "id": "VrJaG0cYN9yh"
   },
   "source": [
    "> **Important**: This tutorial is to help you through the first step towards using [Object Detection API](https://github.com/tensorflow/models/tree/master/research/object_detection) to build models. If you just just need an off the shelf model that does the job, see the [TFHub object detection example](https://colab.sandbox.google.com/github/tensorflow/hub/blob/master/examples/colab/object_detection.ipynb)."
   ]
  },
  {
   "cell_type": "markdown",
   "metadata": {
    "id": "kFSqkTCdWKMI"
   },
   "source": [
    "# Setup"
   ]
  },
  {
   "cell_type": "markdown",
   "metadata": {
    "id": "awjrpqy-6MaQ"
   },
   "source": [
    "Important: If you're running on a local machine, be sure to follow the [installation instructions](https://github.com/tensorflow/models/blob/master/research/object_detection/g3doc/tf2.md). This notebook includes only what's necessary to run in Colab."
   ]
  },
  {
   "cell_type": "markdown",
   "metadata": {
    "id": "p3UGXxUii5Ym"
   },
   "source": [
    "### Install"
   ]
  },
  {
   "cell_type": "code",
   "execution_count": null,
   "metadata": {},
   "outputs": [],
   "source": [
    "%%bash\n",
    "apt update \n",
    "apt install -y mc"
   ]
  },
  {
   "cell_type": "code",
   "execution_count": null,
   "metadata": {
    "id": "hGL97-GXjSUw"
   },
   "outputs": [],
   "source": [
    "!pip install -U --pre tensorflow==\"2.*\"\n",
    "!pip install tf_slim\n"
   ]
  },
  {
   "cell_type": "markdown",
   "metadata": {
    "id": "n_ap_s9ajTHH"
   },
   "source": [
    "Make sure you have `pycocotools` installed"
   ]
  },
  {
   "cell_type": "code",
   "execution_count": null,
   "metadata": {
    "id": "Bg8ZyA47i3pY",
    "scrolled": true
   },
   "outputs": [],
   "source": [
    "!pip install pycocotools"
   ]
  },
  {
   "cell_type": "markdown",
   "metadata": {
    "id": "-vsOL3QR6kqs"
   },
   "source": [
    "Get `tensorflow/models` or `cd` to parent directory of the repository."
   ]
  },
  {
   "cell_type": "code",
   "execution_count": null,
   "metadata": {
    "id": "ykA0c-om51s1"
   },
   "outputs": [],
   "source": [
    "import os\n",
    "import pathlib\n",
    "\n",
    "\n",
    "if \"models\" in pathlib.Path.cwd().parts:\n",
    "  while \"models\" in pathlib.Path.cwd().parts:\n",
    "    os.chdir('..')\n",
    "elif not pathlib.Path('models').exists():\n",
    "  !git clone --depth 1 https://github.com/tensorflow/models"
   ]
  },
  {
   "cell_type": "markdown",
   "metadata": {
    "id": "O219m6yWAj9l"
   },
   "source": [
    "Compile protobufs and install the object_detection package"
   ]
  },
  {
   "cell_type": "code",
   "execution_count": null,
   "metadata": {},
   "outputs": [],
   "source": [
    "%%bash\n",
    "apt install -y protobuf-compiler"
   ]
  },
  {
   "cell_type": "code",
   "execution_count": null,
   "metadata": {
    "id": "PY41vdYYNlXc"
   },
   "outputs": [],
   "source": [
    "%%bash\n",
    "cd models/research/\n",
    "protoc object_detection/protos/*.proto --python_out=."
   ]
  },
  {
   "cell_type": "code",
   "execution_count": null,
   "metadata": {
    "id": "s62yJyQUcYbp",
    "scrolled": true
   },
   "outputs": [],
   "source": [
    "%%bash \n",
    "cd models/research\n",
    "cp object_detection/packages/tf2/setup.py .\n",
    "#pip install . --upgrade\n",
    "python -m pip install --use-feature=2020-resolver .\n",
    "#pip install ."
   ]
  },
  {
   "cell_type": "code",
   "execution_count": null,
   "metadata": {},
   "outputs": [],
   "source": [
    "%%bash\n",
    "echo fixing above.\n",
    "#python -m pip uninstall -y tensorflow keras pyparsing"
   ]
  },
  {
   "cell_type": "code",
   "execution_count": null,
   "metadata": {},
   "outputs": [],
   "source": [
    "%%bash\n",
    "python -m pip install tensorflow keras pyparsing"
   ]
  },
  {
   "cell_type": "code",
   "execution_count": null,
   "metadata": {},
   "outputs": [],
   "source": [
    "%%bash\n",
    "pip install pyparsing==2.4.2\n",
    "pip install httplib2==0.20.2"
   ]
  },
  {
   "cell_type": "markdown",
   "metadata": {
    "id": "LBdjK2G5ywuc"
   },
   "source": [
    "### Imports"
   ]
  },
  {
   "cell_type": "code",
   "execution_count": null,
   "metadata": {},
   "outputs": [],
   "source": [
    "%%bash\n",
    "pwd\n",
    "pip list"
   ]
  },
  {
   "cell_type": "code",
   "execution_count": null,
   "metadata": {
    "id": "hV4P5gyTWKMI"
   },
   "outputs": [],
   "source": [
    "import numpy as np\n",
    "import os\n",
    "import six.moves.urllib as urllib\n",
    "import sys\n",
    "import tarfile\n",
    "import tensorflow as tf\n",
    "import zipfile\n",
    "\n",
    "from collections import defaultdict\n",
    "from io import StringIO\n",
    "from matplotlib import pyplot as plt\n",
    "from PIL import Image\n",
    "from IPython.display import display"
   ]
  },
  {
   "cell_type": "markdown",
   "metadata": {
    "id": "r5FNuiRPWKMN"
   },
   "source": [
    "Import the object detection module."
   ]
  },
  {
   "cell_type": "code",
   "execution_count": null,
   "metadata": {
    "id": "4-IMl4b6BdGO"
   },
   "outputs": [],
   "source": [
    "from object_detection.utils import ops as utils_ops\n",
    "from object_detection.utils import label_map_util\n",
    "from object_detection.utils import visualization_utils as vis_util"
   ]
  },
  {
   "cell_type": "markdown",
   "metadata": {
    "id": "RYPCiag2iz_q"
   },
   "source": [
    "Patches:"
   ]
  },
  {
   "cell_type": "code",
   "execution_count": null,
   "metadata": {
    "id": "mF-YlMl8c_bM"
   },
   "outputs": [],
   "source": [
    "# patch tf1 into `utils.ops`\n",
    "utils_ops.tf = tf.compat.v1\n",
    "\n",
    "# Patch the location of gfile\n",
    "tf.gfile = tf.io.gfile"
   ]
  },
  {
   "cell_type": "markdown",
   "metadata": {
    "id": "cfn_tRFOWKMO"
   },
   "source": [
    "# Model preparation "
   ]
  },
  {
   "cell_type": "markdown",
   "metadata": {
    "id": "X_sEBLpVWKMQ"
   },
   "source": [
    "## Variables\n",
    "\n",
    "Any model exported using the `export_inference_graph.py` tool can be loaded here simply by changing the path.\n",
    "\n",
    "By default we use an \"SSD with Mobilenet\" model here. See the [detection model zoo](https://github.com/tensorflow/models/blob/master/research/object_detection/g3doc/detection_model_zoo.md) for a list of other models that can be run out-of-the-box with varying speeds and accuracies."
   ]
  },
  {
   "cell_type": "markdown",
   "metadata": {
    "id": "7ai8pLZZWKMS"
   },
   "source": [
    "## Loader"
   ]
  },
  {
   "cell_type": "code",
   "execution_count": null,
   "metadata": {
    "id": "zm8xp-0eoItE"
   },
   "outputs": [],
   "source": [
    "def load_model(model_name):\n",
    "  base_url = 'http://download.tensorflow.org/models/object_detection/'\n",
    "  model_file = model_name + '.tar.gz'\n",
    "  model_dir = tf.keras.utils.get_file(\n",
    "    fname=model_name, \n",
    "    origin=base_url + model_file,\n",
    "    untar=True)\n",
    "\n",
    "  model_dir = pathlib.Path(model_dir)/\"saved_model\"\n",
    "\n",
    "  model = tf.saved_model.load(str(model_dir))\n",
    "\n",
    "  return model"
   ]
  },
  {
   "cell_type": "markdown",
   "metadata": {
    "id": "_1MVVTcLWKMW"
   },
   "source": [
    "## Loading label map\n",
    "Label maps map indices to category names, so that when our convolution network predicts `5`, we know that this corresponds to `airplane`.  Here we use internal utility functions, but anything that returns a dictionary mapping integers to appropriate string labels would be fine"
   ]
  },
  {
   "cell_type": "code",
   "execution_count": null,
   "metadata": {
    "id": "hDbpHkiWWKMX"
   },
   "outputs": [],
   "source": [
    "# List of the strings that is used to add correct label for each box.\n",
    "PATH_TO_LABELS = 'models/research/object_detection/data/mscoco_label_map.pbtxt'\n",
    "category_index = label_map_util.create_category_index_from_labelmap(PATH_TO_LABELS, use_display_name=True)"
   ]
  },
  {
   "cell_type": "markdown",
   "metadata": {
    "id": "oVU3U_J6IJVb"
   },
   "source": [
    "For the sake of simplicity we will test on 2 images:"
   ]
  },
  {
   "cell_type": "code",
   "execution_count": null,
   "metadata": {
    "id": "jG-zn5ykWKMd"
   },
   "outputs": [],
   "source": [
    "# If you want to test the code with your images, just add path to the images to the TEST_IMAGE_PATHS.\n",
    "import pathlib\n",
    "PATH_TO_TEST_IMAGES_DIR = pathlib.Path('models/research/object_detection/test_images')\n",
    "TEST_IMAGE_PATHS = sorted(list(PATH_TO_TEST_IMAGES_DIR.glob(\"*.jpg\")))\n",
    "TEST_IMAGE_PATHS"
   ]
  },
  {
   "cell_type": "markdown",
   "metadata": {
    "id": "H0_1AGhrWKMc"
   },
   "source": [
    "# Detection"
   ]
  },
  {
   "cell_type": "markdown",
   "metadata": {
    "id": "f7aOtOlebK7h"
   },
   "source": [
    "Load an object detection model:"
   ]
  },
  {
   "cell_type": "code",
   "execution_count": null,
   "metadata": {
    "id": "1XNT0wxybKR6"
   },
   "outputs": [],
   "source": [
    "model_name = 'ssd_mobilenet_v1_coco_2017_11_17'\n",
    "detection_model = load_model(model_name)"
   ]
  },
  {
   "cell_type": "markdown",
   "metadata": {
    "id": "yN1AYfAEJIGp"
   },
   "source": [
    "Check the model's input signature, it expects a batch of 3-color images of type uint8:"
   ]
  },
  {
   "cell_type": "code",
   "execution_count": null,
   "metadata": {
    "id": "CK4cnry6wsHY"
   },
   "outputs": [],
   "source": [
    "print(detection_model.signatures['serving_default'].inputs)"
   ]
  },
  {
   "cell_type": "markdown",
   "metadata": {
    "id": "Q8u3BjpMJXZF"
   },
   "source": [
    "And returns several outputs:"
   ]
  },
  {
   "cell_type": "code",
   "execution_count": null,
   "metadata": {
    "id": "oLSZpfaYwuSk"
   },
   "outputs": [],
   "source": [
    "detection_model.signatures['serving_default'].output_dtypes"
   ]
  },
  {
   "cell_type": "code",
   "execution_count": null,
   "metadata": {
    "id": "FZyKUJeuxvpT"
   },
   "outputs": [],
   "source": [
    "detection_model.signatures['serving_default'].output_shapes"
   ]
  },
  {
   "cell_type": "markdown",
   "metadata": {
    "id": "JP5qZ7sXJpwG"
   },
   "source": [
    "Add a wrapper function to call the model, and cleanup the outputs:"
   ]
  },
  {
   "cell_type": "code",
   "execution_count": null,
   "metadata": {
    "id": "ajmR_exWyN76"
   },
   "outputs": [],
   "source": [
    "def run_inference_for_single_image(model, image):\n",
    "  image = np.asarray(image)\n",
    "  # The input needs to be a tensor, convert it using `tf.convert_to_tensor`.\n",
    "  input_tensor = tf.convert_to_tensor(image)\n",
    "  # The model expects a batch of images, so add an axis with `tf.newaxis`.\n",
    "  input_tensor = input_tensor[tf.newaxis,...]\n",
    "\n",
    "  # Run inference\n",
    "  model_fn = model.signatures['serving_default']\n",
    "  output_dict = model_fn(input_tensor)\n",
    "\n",
    "  # All outputs are batches tensors.\n",
    "  # Convert to numpy arrays, and take index [0] to remove the batch dimension.\n",
    "  # We're only interested in the first num_detections.\n",
    "  num_detections = int(output_dict.pop('num_detections'))\n",
    "  output_dict = {key:value[0, :num_detections].numpy() \n",
    "                 for key,value in output_dict.items()}\n",
    "  output_dict['num_detections'] = num_detections\n",
    "\n",
    "  # detection_classes should be ints.\n",
    "  output_dict['detection_classes'] = output_dict['detection_classes'].astype(np.int64)\n",
    "   \n",
    "  # Handle models with masks:\n",
    "  if 'detection_masks' in output_dict:\n",
    "    # Reframe the the bbox mask to the image size.\n",
    "    detection_masks_reframed = utils_ops.reframe_box_masks_to_image_masks(\n",
    "              output_dict['detection_masks'], output_dict['detection_boxes'],\n",
    "               image.shape[0], image.shape[1])      \n",
    "    detection_masks_reframed = tf.cast(detection_masks_reframed > 0.5,\n",
    "                                       tf.uint8)\n",
    "    output_dict['detection_masks_reframed'] = detection_masks_reframed.numpy()\n",
    "    \n",
    "  return output_dict"
   ]
  },
  {
   "cell_type": "markdown",
   "metadata": {
    "id": "z1wq0LVyMRR_"
   },
   "source": [
    "Run it on each test image and show the results:"
   ]
  },
  {
   "cell_type": "code",
   "execution_count": null,
   "metadata": {
    "id": "DWh_1zz6aqxs"
   },
   "outputs": [],
   "source": [
    "def show_inference(model, image_path):\n",
    "  # the array based representation of the image will be used later in order to prepare the\n",
    "  # result image with boxes and labels on it.\n",
    "  image_np = np.array(Image.open(image_path))\n",
    "  # Actual detection.\n",
    "  output_dict = run_inference_for_single_image(model, image_np)\n",
    "  # Visualization of the results of a detection.\n",
    "  vis_util.visualize_boxes_and_labels_on_image_array(\n",
    "      image_np,\n",
    "      output_dict['detection_boxes'],\n",
    "      output_dict['detection_classes'],\n",
    "      output_dict['detection_scores'],\n",
    "      category_index,\n",
    "      instance_masks=output_dict.get('detection_masks_reframed', None),\n",
    "      use_normalized_coordinates=True,\n",
    "      line_thickness=8)\n",
    "\n",
    "  display(Image.fromarray(image_np))"
   ]
  },
  {
   "cell_type": "code",
   "execution_count": null,
   "metadata": {
    "id": "3a5wMHN8WKMh"
   },
   "outputs": [],
   "source": [
    "for image_path in TEST_IMAGE_PATHS:\n",
    "  show_inference(detection_model, image_path)\n"
   ]
  },
  {
   "cell_type": "markdown",
   "metadata": {
    "id": "DsspMPX3Cssg"
   },
   "source": [
    "## Instance Segmentation"
   ]
  },
  {
   "cell_type": "code",
   "execution_count": null,
   "metadata": {
    "id": "CzkVv_n2MxKC"
   },
   "outputs": [],
   "source": [
    "model_name = \"mask_rcnn_inception_resnet_v2_atrous_coco_2018_01_28\"\n",
    "masking_model = load_model(model_name)"
   ]
  },
  {
   "cell_type": "markdown",
   "metadata": {
    "id": "0S7aZi8ZOhVV"
   },
   "source": [
    "The instance segmentation model includes a `detection_masks` output:"
   ]
  },
  {
   "cell_type": "code",
   "execution_count": null,
   "metadata": {
    "id": "vQ2Sj2VIOZLA",
    "scrolled": true
   },
   "outputs": [],
   "source": [
    "# was.. masking_model.output_shapes\n",
    "masking_model.signatures['serving_default'].output_shapes"
   ]
  },
  {
   "cell_type": "code",
   "execution_count": null,
   "metadata": {
    "id": "AS57rZlnNL7W"
   },
   "outputs": [],
   "source": [
    "for image_path in TEST_IMAGE_PATHS:\n",
    "  show_inference(masking_model, image_path)"
   ]
  },
  {
   "cell_type": "code",
   "execution_count": 2,
   "metadata": {},
   "outputs": [
    {
     "name": "stdout",
     "output_type": "stream",
     "text": [
      "/tf/notebook\n",
      "models\tmore  obj-det-tut-v03.ipynb  obj-det-tut-v04.ipynb  requirements.txt\n"
     ]
    }
   ],
   "source": [
    "!pwd\n",
    "!pip freeze>requirements.txt\n",
    "!ls"
   ]
  },
  {
   "cell_type": "code",
   "execution_count": 5,
   "metadata": {
    "collapsed": true
   },
   "outputs": [
    {
     "name": "stdout",
     "output_type": "stream",
     "text": [
      "Requirement already satisfied: absl-py==1.0.0 in /usr/local/lib/python3.8/dist-packages (from -r requirements.txt (line 1)) (1.0.0)\n",
      "Requirement already satisfied: argon2-cffi==21.3.0 in /usr/local/lib/python3.8/dist-packages (from -r requirements.txt (line 2)) (21.3.0)\n",
      "Requirement already satisfied: argon2-cffi-bindings==21.2.0 in /usr/local/lib/python3.8/dist-packages (from -r requirements.txt (line 3)) (21.2.0)\n",
      "Requirement already satisfied: asttokens==2.0.5 in /usr/local/lib/python3.8/dist-packages (from -r requirements.txt (line 4)) (2.0.5)\n",
      "Requirement already satisfied: astunparse==1.6.3 in /usr/local/lib/python3.8/dist-packages (from -r requirements.txt (line 5)) (1.6.3)\n",
      "Requirement already satisfied: attrs==21.4.0 in /usr/local/lib/python3.8/dist-packages (from -r requirements.txt (line 6)) (21.4.0)\n",
      "Requirement already satisfied: backcall==0.2.0 in /usr/local/lib/python3.8/dist-packages (from -r requirements.txt (line 7)) (0.2.0)\n",
      "Requirement already satisfied: black==22.1.0 in /usr/local/lib/python3.8/dist-packages (from -r requirements.txt (line 8)) (22.1.0)\n",
      "Requirement already satisfied: bleach==4.1.0 in /usr/local/lib/python3.8/dist-packages (from -r requirements.txt (line 9)) (4.1.0)\n",
      "Requirement already satisfied: cachetools==5.0.0 in /usr/local/lib/python3.8/dist-packages (from -r requirements.txt (line 10)) (5.0.0)\n",
      "Requirement already satisfied: certifi==2021.10.8 in /usr/local/lib/python3.8/dist-packages (from -r requirements.txt (line 11)) (2021.10.8)\n",
      "Requirement already satisfied: cffi==1.15.0 in /usr/local/lib/python3.8/dist-packages (from -r requirements.txt (line 12)) (1.15.0)\n",
      "Requirement already satisfied: charset-normalizer==2.0.11 in /usr/local/lib/python3.8/dist-packages (from -r requirements.txt (line 13)) (2.0.11)\n",
      "Requirement already satisfied: click==8.0.3 in /usr/local/lib/python3.8/dist-packages (from -r requirements.txt (line 14)) (8.0.3)\n",
      "Requirement already satisfied: cycler==0.11.0 in /usr/local/lib/python3.8/dist-packages (from -r requirements.txt (line 15)) (0.11.0)\n",
      "Requirement already satisfied: debugpy==1.5.1 in /usr/local/lib/python3.8/dist-packages (from -r requirements.txt (line 16)) (1.5.1)\n",
      "Requirement already satisfied: decorator==5.1.1 in /usr/local/lib/python3.8/dist-packages (from -r requirements.txt (line 17)) (5.1.1)\n",
      "Requirement already satisfied: defusedxml==0.7.1 in /usr/local/lib/python3.8/dist-packages (from -r requirements.txt (line 18)) (0.7.1)\n",
      "Requirement already satisfied: entrypoints==0.3 in /usr/local/lib/python3.8/dist-packages (from -r requirements.txt (line 19)) (0.3)\n",
      "Requirement already satisfied: executing==0.8.2 in /usr/local/lib/python3.8/dist-packages (from -r requirements.txt (line 20)) (0.8.2)\n",
      "Requirement already satisfied: flatbuffers==2.0 in /usr/local/lib/python3.8/dist-packages (from -r requirements.txt (line 21)) (2.0)\n",
      "Requirement already satisfied: fonttools==4.29.1 in /usr/local/lib/python3.8/dist-packages (from -r requirements.txt (line 22)) (4.29.1)\n",
      "Requirement already satisfied: gast==0.4.0 in /usr/local/lib/python3.8/dist-packages (from -r requirements.txt (line 23)) (0.4.0)\n",
      "Requirement already satisfied: google-auth==2.6.0 in /usr/local/lib/python3.8/dist-packages (from -r requirements.txt (line 24)) (2.6.0)\n",
      "Requirement already satisfied: google-auth-oauthlib==0.4.6 in /usr/local/lib/python3.8/dist-packages (from -r requirements.txt (line 25)) (0.4.6)\n",
      "Requirement already satisfied: google-pasta==0.2.0 in /usr/local/lib/python3.8/dist-packages (from -r requirements.txt (line 26)) (0.2.0)\n",
      "Requirement already satisfied: grpcio==1.43.0 in /usr/local/lib/python3.8/dist-packages (from -r requirements.txt (line 27)) (1.43.0)\n",
      "Requirement already satisfied: h5py==3.6.0 in /usr/local/lib/python3.8/dist-packages (from -r requirements.txt (line 28)) (3.6.0)\n",
      "Requirement already satisfied: idna==3.3 in /usr/local/lib/python3.8/dist-packages (from -r requirements.txt (line 29)) (3.3)\n",
      "Requirement already satisfied: importlib-metadata==4.10.1 in /usr/local/lib/python3.8/dist-packages (from -r requirements.txt (line 30)) (4.10.1)\n",
      "Requirement already satisfied: importlib-resources==5.4.0 in /usr/local/lib/python3.8/dist-packages (from -r requirements.txt (line 31)) (5.4.0)\n",
      "Requirement already satisfied: ipykernel==5.1.1 in /usr/local/lib/python3.8/dist-packages (from -r requirements.txt (line 32)) (5.1.1)\n",
      "Requirement already satisfied: ipython==8.0.1 in /usr/local/lib/python3.8/dist-packages (from -r requirements.txt (line 33)) (8.0.1)\n",
      "Requirement already satisfied: ipython-genutils==0.2.0 in /usr/local/lib/python3.8/dist-packages (from -r requirements.txt (line 34)) (0.2.0)\n",
      "Requirement already satisfied: ipywidgets==7.6.5 in /usr/local/lib/python3.8/dist-packages (from -r requirements.txt (line 35)) (7.6.5)\n",
      "Requirement already satisfied: jedi==0.17.2 in /usr/local/lib/python3.8/dist-packages (from -r requirements.txt (line 36)) (0.17.2)\n",
      "Requirement already satisfied: Jinja2==3.0.3 in /usr/local/lib/python3.8/dist-packages (from -r requirements.txt (line 37)) (3.0.3)\n",
      "Requirement already satisfied: jsonschema==4.4.0 in /usr/local/lib/python3.8/dist-packages (from -r requirements.txt (line 38)) (4.4.0)\n",
      "Requirement already satisfied: jupyter==1.0.0 in /usr/local/lib/python3.8/dist-packages (from -r requirements.txt (line 39)) (1.0.0)\n",
      "Requirement already satisfied: jupyter-client==7.1.2 in /usr/local/lib/python3.8/dist-packages (from -r requirements.txt (line 40)) (7.1.2)\n",
      "Requirement already satisfied: jupyter-console==6.4.0 in /usr/local/lib/python3.8/dist-packages (from -r requirements.txt (line 41)) (6.4.0)\n",
      "Requirement already satisfied: jupyter-core==4.9.1 in /usr/local/lib/python3.8/dist-packages (from -r requirements.txt (line 42)) (4.9.1)\n",
      "Requirement already satisfied: jupyter-http-over-ws==0.0.8 in /usr/local/lib/python3.8/dist-packages (from -r requirements.txt (line 43)) (0.0.8)\n",
      "Requirement already satisfied: jupyterlab-pygments==0.1.2 in /usr/local/lib/python3.8/dist-packages (from -r requirements.txt (line 44)) (0.1.2)\n",
      "Requirement already satisfied: jupyterlab-widgets==1.0.2 in /usr/local/lib/python3.8/dist-packages (from -r requirements.txt (line 45)) (1.0.2)\n",
      "Collecting keras==2.7.0\n",
      "  Downloading keras-2.7.0-py2.py3-none-any.whl (1.3 MB)\n",
      "\u001b[K     |████████████████████████████████| 1.3 MB 4.9 MB/s eta 0:00:01\n",
      "\u001b[?25hRequirement already satisfied: Keras-Preprocessing==1.1.2 in /usr/local/lib/python3.8/dist-packages (from -r requirements.txt (line 47)) (1.1.2)\n",
      "Requirement already satisfied: kiwisolver==1.3.2 in /usr/local/lib/python3.8/dist-packages (from -r requirements.txt (line 48)) (1.3.2)\n",
      "Requirement already satisfied: libclang==13.0.0 in /usr/local/lib/python3.8/dist-packages (from -r requirements.txt (line 49)) (13.0.0)\n",
      "Requirement already satisfied: Markdown==3.3.6 in /usr/local/lib/python3.8/dist-packages (from -r requirements.txt (line 50)) (3.3.6)\n",
      "Requirement already satisfied: MarkupSafe==2.0.1 in /usr/local/lib/python3.8/dist-packages (from -r requirements.txt (line 51)) (2.0.1)\n",
      "Requirement already satisfied: matplotlib==3.5.1 in /usr/local/lib/python3.8/dist-packages (from -r requirements.txt (line 52)) (3.5.1)\n",
      "Requirement already satisfied: matplotlib-inline==0.1.3 in /usr/local/lib/python3.8/dist-packages (from -r requirements.txt (line 53)) (0.1.3)\n",
      "Requirement already satisfied: mistune==0.8.4 in /usr/local/lib/python3.8/dist-packages (from -r requirements.txt (line 54)) (0.8.4)\n",
      "Requirement already satisfied: mypy-extensions==0.4.3 in /usr/local/lib/python3.8/dist-packages (from -r requirements.txt (line 55)) (0.4.3)\n",
      "Requirement already satisfied: nbclient==0.5.10 in /usr/local/lib/python3.8/dist-packages (from -r requirements.txt (line 56)) (0.5.10)\n",
      "Requirement already satisfied: nbconvert==6.4.1 in /usr/local/lib/python3.8/dist-packages (from -r requirements.txt (line 57)) (6.4.1)\n",
      "Requirement already satisfied: nbformat==4.4.0 in /usr/local/lib/python3.8/dist-packages (from -r requirements.txt (line 58)) (4.4.0)\n",
      "Requirement already satisfied: nest-asyncio==1.5.4 in /usr/local/lib/python3.8/dist-packages (from -r requirements.txt (line 59)) (1.5.4)\n",
      "Requirement already satisfied: notebook==6.4.8 in /usr/local/lib/python3.8/dist-packages (from -r requirements.txt (line 60)) (6.4.8)\n"
     ]
    },
    {
     "name": "stdout",
     "output_type": "stream",
     "text": [
      "Requirement already satisfied: numpy==1.22.1 in /usr/local/lib/python3.8/dist-packages (from -r requirements.txt (line 61)) (1.22.1)\n",
      "Requirement already satisfied: oauthlib==3.2.0 in /usr/local/lib/python3.8/dist-packages (from -r requirements.txt (line 62)) (3.2.0)\n",
      "Requirement already satisfied: opt-einsum==3.3.0 in /usr/local/lib/python3.8/dist-packages (from -r requirements.txt (line 63)) (3.3.0)\n",
      "Requirement already satisfied: packaging==21.3 in /usr/local/lib/python3.8/dist-packages (from -r requirements.txt (line 64)) (21.3)\n",
      "Requirement already satisfied: pandocfilters==1.5.0 in /usr/local/lib/python3.8/dist-packages (from -r requirements.txt (line 65)) (1.5.0)\n",
      "Requirement already satisfied: parso==0.7.1 in /usr/local/lib/python3.8/dist-packages (from -r requirements.txt (line 66)) (0.7.1)\n",
      "Requirement already satisfied: pathspec==0.9.0 in /usr/local/lib/python3.8/dist-packages (from -r requirements.txt (line 67)) (0.9.0)\n",
      "Requirement already satisfied: pexpect==4.8.0 in /usr/local/lib/python3.8/dist-packages (from -r requirements.txt (line 68)) (4.8.0)\n",
      "Requirement already satisfied: pickleshare==0.7.5 in /usr/local/lib/python3.8/dist-packages (from -r requirements.txt (line 69)) (0.7.5)\n",
      "Requirement already satisfied: Pillow==9.0.0 in /usr/local/lib/python3.8/dist-packages (from -r requirements.txt (line 70)) (9.0.0)\n",
      "Requirement already satisfied: platformdirs==2.4.1 in /usr/local/lib/python3.8/dist-packages (from -r requirements.txt (line 71)) (2.4.1)\n",
      "Requirement already satisfied: prometheus-client==0.13.1 in /usr/local/lib/python3.8/dist-packages (from -r requirements.txt (line 72)) (0.13.1)\n",
      "Requirement already satisfied: prompt-toolkit==3.0.26 in /usr/local/lib/python3.8/dist-packages (from -r requirements.txt (line 73)) (3.0.26)\n",
      "Requirement already satisfied: protobuf==3.19.4 in /usr/local/lib/python3.8/dist-packages (from -r requirements.txt (line 74)) (3.19.4)\n",
      "Requirement already satisfied: ptyprocess==0.7.0 in /usr/local/lib/python3.8/dist-packages (from -r requirements.txt (line 75)) (0.7.0)\n",
      "Requirement already satisfied: pure-eval==0.2.2 in /usr/local/lib/python3.8/dist-packages (from -r requirements.txt (line 76)) (0.2.2)\n",
      "Requirement already satisfied: pyasn1==0.4.8 in /usr/local/lib/python3.8/dist-packages (from -r requirements.txt (line 77)) (0.4.8)\n",
      "Requirement already satisfied: pyasn1-modules==0.2.8 in /usr/local/lib/python3.8/dist-packages (from -r requirements.txt (line 78)) (0.2.8)\n",
      "Requirement already satisfied: pycparser==2.21 in /usr/local/lib/python3.8/dist-packages (from -r requirements.txt (line 79)) (2.21)\n",
      "Requirement already satisfied: Pygments==2.11.2 in /usr/local/lib/python3.8/dist-packages (from -r requirements.txt (line 80)) (2.11.2)\n",
      "Requirement already satisfied: pyparsing==3.0.7 in /usr/local/lib/python3.8/dist-packages (from -r requirements.txt (line 81)) (3.0.7)\n",
      "Requirement already satisfied: pyrsistent==0.18.1 in /usr/local/lib/python3.8/dist-packages (from -r requirements.txt (line 82)) (0.18.1)\n",
      "Requirement already satisfied: python-dateutil==2.8.2 in /usr/local/lib/python3.8/dist-packages (from -r requirements.txt (line 83)) (2.8.2)\n",
      "Requirement already satisfied: pyzmq==22.3.0 in /usr/local/lib/python3.8/dist-packages (from -r requirements.txt (line 84)) (22.3.0)\n",
      "Requirement already satisfied: qtconsole==5.2.2 in /usr/local/lib/python3.8/dist-packages (from -r requirements.txt (line 85)) (5.2.2)\n",
      "Requirement already satisfied: QtPy==2.0.1 in /usr/local/lib/python3.8/dist-packages (from -r requirements.txt (line 86)) (2.0.1)\n",
      "Requirement already satisfied: requests==2.27.1 in /usr/local/lib/python3.8/dist-packages (from -r requirements.txt (line 87)) (2.27.1)\n",
      "Requirement already satisfied: requests-oauthlib==1.3.1 in /usr/local/lib/python3.8/dist-packages (from -r requirements.txt (line 88)) (1.3.1)\n",
      "Requirement already satisfied: rsa==4.8 in /usr/local/lib/python3.8/dist-packages (from -r requirements.txt (line 89)) (4.8)\n",
      "Requirement already satisfied: Send2Trash==1.8.0 in /usr/local/lib/python3.8/dist-packages (from -r requirements.txt (line 90)) (1.8.0)\n",
      "Requirement already satisfied: six==1.16.0 in /usr/local/lib/python3.8/dist-packages (from -r requirements.txt (line 91)) (1.16.0)\n",
      "Requirement already satisfied: stack-data==0.1.4 in /usr/local/lib/python3.8/dist-packages (from -r requirements.txt (line 92)) (0.1.4)\n",
      "Requirement already satisfied: tensorboard==2.8.0 in /usr/local/lib/python3.8/dist-packages (from -r requirements.txt (line 93)) (2.8.0)\n",
      "Requirement already satisfied: tensorboard-data-server==0.6.1 in /usr/local/lib/python3.8/dist-packages (from -r requirements.txt (line 94)) (0.6.1)\n",
      "Requirement already satisfied: tensorboard-plugin-wit==1.8.1 in /usr/local/lib/python3.8/dist-packages (from -r requirements.txt (line 95)) (1.8.1)\n",
      "Requirement already satisfied: tensorflow-cpu==2.7.1 in /usr/local/lib/python3.8/dist-packages (from -r requirements.txt (line 96)) (2.7.1)\n",
      "Requirement already satisfied: tensorflow-estimator==2.7.0 in /usr/local/lib/python3.8/dist-packages (from -r requirements.txt (line 97)) (2.7.0)\n",
      "Requirement already satisfied: tensorflow-io-gcs-filesystem==0.23.1 in /usr/local/lib/python3.8/dist-packages (from -r requirements.txt (line 98)) (0.23.1)\n",
      "Requirement already satisfied: termcolor==1.1.0 in /usr/local/lib/python3.8/dist-packages (from -r requirements.txt (line 99)) (1.1.0)\n",
      "Requirement already satisfied: terminado==0.13.1 in /usr/local/lib/python3.8/dist-packages (from -r requirements.txt (line 100)) (0.13.1)\n",
      "Requirement already satisfied: testpath==0.5.0 in /usr/local/lib/python3.8/dist-packages (from -r requirements.txt (line 101)) (0.5.0)\n",
      "Requirement already satisfied: tomli==2.0.0 in /usr/local/lib/python3.8/dist-packages (from -r requirements.txt (line 102)) (2.0.0)\n",
      "Requirement already satisfied: tornado==6.1 in /usr/local/lib/python3.8/dist-packages (from -r requirements.txt (line 103)) (6.1)\n",
      "Requirement already satisfied: traitlets==5.1.1 in /usr/local/lib/python3.8/dist-packages (from -r requirements.txt (line 104)) (5.1.1)\n",
      "Requirement already satisfied: typing-extensions==4.0.1 in /usr/local/lib/python3.8/dist-packages (from -r requirements.txt (line 105)) (4.0.1)\n",
      "Requirement already satisfied: urllib3==1.26.8 in /usr/local/lib/python3.8/dist-packages (from -r requirements.txt (line 106)) (1.26.8)\n",
      "Requirement already satisfied: wcwidth==0.2.5 in /usr/local/lib/python3.8/dist-packages (from -r requirements.txt (line 107)) (0.2.5)\n",
      "Requirement already satisfied: webencodings==0.5.1 in /usr/local/lib/python3.8/dist-packages (from -r requirements.txt (line 108)) (0.5.1)\n",
      "Requirement already satisfied: Werkzeug==2.0.2 in /usr/local/lib/python3.8/dist-packages (from -r requirements.txt (line 109)) (2.0.2)\n",
      "Requirement already satisfied: widgetsnbextension==3.5.2 in /usr/local/lib/python3.8/dist-packages (from -r requirements.txt (line 110)) (3.5.2)\n",
      "Requirement already satisfied: wrapt==1.13.3 in /usr/local/lib/python3.8/dist-packages (from -r requirements.txt (line 111)) (1.13.3)\n",
      "Requirement already satisfied: zipp==3.7.0 in /usr/local/lib/python3.8/dist-packages (from -r requirements.txt (line 112)) (3.7.0)\n",
      "Requirement already satisfied: wheel<1.0,>=0.23.0 in /usr/lib/python3/dist-packages (from astunparse==1.6.3->-r requirements.txt (line 5)) (0.34.2)\n",
      "Requirement already satisfied: setuptools>=18.5 in /usr/local/lib/python3.8/dist-packages (from ipython==8.0.1->-r requirements.txt (line 33)) (60.7.0)\n",
      "Installing collected packages: keras\n",
      "  Attempting uninstall: keras\n",
      "    Found existing installation: keras 2.8.0\n",
      "    Uninstalling keras-2.8.0:\n",
      "      Successfully uninstalled keras-2.8.0\n",
      "Successfully installed keras-2.7.0\n",
      "\u001b[33mWARNING: You are using pip version 20.2.4; however, version 22.0.4 is available.\n",
      "You should consider upgrading via the '/usr/bin/python3 -m pip install --upgrade pip' command.\u001b[0m\n"
     ]
    }
   ],
   "source": [
    "# testing that is downgrades all packages per the requirements.txt.  !pip install --upgrade keras\n",
    "!pip install -r requirements.txt"
   ]
  },
  {
   "cell_type": "code",
   "execution_count": 4,
   "metadata": {},
   "outputs": [
    {
     "name": "stdout",
     "output_type": "stream",
     "text": [
      "Collecting keras\n",
      "  Downloading keras-2.8.0-py2.py3-none-any.whl (1.4 MB)\n",
      "\u001b[K     |████████████████████████████████| 1.4 MB 3.1 MB/s eta 0:00:01\n",
      "\u001b[?25hInstalling collected packages: keras\n",
      "  Attempting uninstall: keras\n",
      "    Found existing installation: keras 2.7.0\n",
      "    Uninstalling keras-2.7.0:\n",
      "      Successfully uninstalled keras-2.7.0\n",
      "\u001b[31mERROR: After October 2020 you may experience errors when installing or updating packages. This is because pip will change the way that it resolves dependency conflicts.\n",
      "\n",
      "We recommend you use --use-feature=2020-resolver to test your packages with the new resolver before it becomes the default.\n",
      "\n",
      "tensorflow-cpu 2.7.1 requires keras<2.8,>=2.7.0rc0, but you'll have keras 2.8.0 which is incompatible.\u001b[0m\n",
      "Successfully installed keras-2.8.0\n",
      "\u001b[33mWARNING: You are using pip version 20.2.4; however, version 22.0.4 is available.\n",
      "You should consider upgrading via the '/usr/bin/python3 -m pip install --upgrade pip' command.\u001b[0m\n"
     ]
    }
   ],
   "source": [
    "# testing that is downgrades all packages per the requirements.txt.  !pip install --upgrade keras\n"
   ]
  },
  {
   "cell_type": "code",
   "execution_count": 16,
   "metadata": {
    "scrolled": false
   },
   "outputs": [
    {
     "name": "stdout",
     "output_type": "stream",
     "text": [
      "\n",
      "/tf/notebook/models/research\n"
     ]
    },
    {
     "name": "stderr",
     "output_type": "stream",
     "text": [
      "Traceback (most recent call last):\n",
      "  File \"object_detection/builders/model_builder_tf2_test.py\", line 24, in <module>\n",
      "    from object_detection.builders import model_builder\n",
      "  File \"/tf/notebook/models/research/object_detection/builders/model_builder.py\", line 23, in <module>\n",
      "    from object_detection.builders import anchor_generator_builder\n",
      "  File \"/tf/notebook/models/research/object_detection/builders/anchor_generator_builder.py\", line 22, in <module>\n",
      "    from object_detection.anchor_generators import flexible_grid_anchor_generator\n",
      "  File \"/tf/notebook/models/research/object_detection/anchor_generators/flexible_grid_anchor_generator.py\", line 19, in <module>\n",
      "    from object_detection.anchor_generators import grid_anchor_generator\n",
      "  File \"/tf/notebook/models/research/object_detection/anchor_generators/grid_anchor_generator.py\", line 27, in <module>\n",
      "    from object_detection.utils import ops\n",
      "  File \"/tf/notebook/models/research/object_detection/utils/ops.py\", line 28, in <module>\n",
      "    import tf_slim as slim\n",
      "ModuleNotFoundError: No module named 'tf_slim'\n"
     ]
    },
    {
     "ename": "CalledProcessError",
     "evalue": "Command 'b'echo ${PYTHONPATH}\\nexport PYTHONPATH=${PYTHONPATH}:/tf/notebook/models/research \\ncd models/research\\npwd\\npython object_detection/builders/model_builder_tf2_test.py\\n'' returned non-zero exit status 1.",
     "output_type": "error",
     "traceback": [
      "\u001b[0;31m---------------------------------------------------------------------------\u001b[0m",
      "\u001b[0;31mCalledProcessError\u001b[0m                        Traceback (most recent call last)",
      "Input \u001b[0;32mIn [16]\u001b[0m, in \u001b[0;36m<module>\u001b[0;34m\u001b[0m\n\u001b[0;32m----> 1\u001b[0m \u001b[43mget_ipython\u001b[49m\u001b[43m(\u001b[49m\u001b[43m)\u001b[49m\u001b[38;5;241;43m.\u001b[39;49m\u001b[43mrun_cell_magic\u001b[49m\u001b[43m(\u001b[49m\u001b[38;5;124;43m'\u001b[39;49m\u001b[38;5;124;43mbash\u001b[39;49m\u001b[38;5;124;43m'\u001b[39;49m\u001b[43m,\u001b[49m\u001b[43m \u001b[49m\u001b[38;5;124;43m'\u001b[39;49m\u001b[38;5;124;43m'\u001b[39;49m\u001b[43m,\u001b[49m\u001b[43m \u001b[49m\u001b[38;5;124;43m'\u001b[39;49m\u001b[38;5;124;43mecho $\u001b[39;49m\u001b[38;5;132;43;01m{PYTHONPATH}\u001b[39;49;00m\u001b[38;5;130;43;01m\\n\u001b[39;49;00m\u001b[38;5;124;43mexport PYTHONPATH=$\u001b[39;49m\u001b[38;5;132;43;01m{PYTHONPATH}\u001b[39;49;00m\u001b[38;5;124;43m:/tf/notebook/models/research \u001b[39;49m\u001b[38;5;130;43;01m\\n\u001b[39;49;00m\u001b[38;5;124;43mcd models/research\u001b[39;49m\u001b[38;5;130;43;01m\\n\u001b[39;49;00m\u001b[38;5;124;43mpwd\u001b[39;49m\u001b[38;5;130;43;01m\\n\u001b[39;49;00m\u001b[38;5;124;43mpython object_detection/builders/model_builder_tf2_test.py\u001b[39;49m\u001b[38;5;130;43;01m\\n\u001b[39;49;00m\u001b[38;5;124;43m'\u001b[39;49m\u001b[43m)\u001b[49m\n",
      "File \u001b[0;32m/usr/local/lib/python3.8/dist-packages/IPython/core/interactiveshell.py:2257\u001b[0m, in \u001b[0;36mInteractiveShell.run_cell_magic\u001b[0;34m(self, magic_name, line, cell)\u001b[0m\n\u001b[1;32m   2255\u001b[0m \u001b[38;5;28;01mwith\u001b[39;00m \u001b[38;5;28mself\u001b[39m\u001b[38;5;241m.\u001b[39mbuiltin_trap:\n\u001b[1;32m   2256\u001b[0m     args \u001b[38;5;241m=\u001b[39m (magic_arg_s, cell)\n\u001b[0;32m-> 2257\u001b[0m     result \u001b[38;5;241m=\u001b[39m \u001b[43mfn\u001b[49m\u001b[43m(\u001b[49m\u001b[38;5;241;43m*\u001b[39;49m\u001b[43margs\u001b[49m\u001b[43m,\u001b[49m\u001b[43m \u001b[49m\u001b[38;5;241;43m*\u001b[39;49m\u001b[38;5;241;43m*\u001b[39;49m\u001b[43mkwargs\u001b[49m\u001b[43m)\u001b[49m\n\u001b[1;32m   2258\u001b[0m \u001b[38;5;28;01mreturn\u001b[39;00m result\n",
      "File \u001b[0;32m/usr/local/lib/python3.8/dist-packages/IPython/core/magics/script.py:153\u001b[0m, in \u001b[0;36mScriptMagics._make_script_magic.<locals>.named_script_magic\u001b[0;34m(line, cell)\u001b[0m\n\u001b[1;32m    151\u001b[0m \u001b[38;5;28;01melse\u001b[39;00m:\n\u001b[1;32m    152\u001b[0m     line \u001b[38;5;241m=\u001b[39m script\n\u001b[0;32m--> 153\u001b[0m \u001b[38;5;28;01mreturn\u001b[39;00m \u001b[38;5;28;43mself\u001b[39;49m\u001b[38;5;241;43m.\u001b[39;49m\u001b[43mshebang\u001b[49m\u001b[43m(\u001b[49m\u001b[43mline\u001b[49m\u001b[43m,\u001b[49m\u001b[43m \u001b[49m\u001b[43mcell\u001b[49m\u001b[43m)\u001b[49m\n",
      "File \u001b[0;32m/usr/local/lib/python3.8/dist-packages/IPython/core/magics/script.py:305\u001b[0m, in \u001b[0;36mScriptMagics.shebang\u001b[0;34m(self, line, cell)\u001b[0m\n\u001b[1;32m    300\u001b[0m \u001b[38;5;28;01mif\u001b[39;00m args\u001b[38;5;241m.\u001b[39mraise_error \u001b[38;5;129;01mand\u001b[39;00m p\u001b[38;5;241m.\u001b[39mreturncode \u001b[38;5;241m!=\u001b[39m \u001b[38;5;241m0\u001b[39m:\n\u001b[1;32m    301\u001b[0m     \u001b[38;5;66;03m# If we get here and p.returncode is still None, we must have\u001b[39;00m\n\u001b[1;32m    302\u001b[0m     \u001b[38;5;66;03m# killed it but not yet seen its return code. We don't wait for it,\u001b[39;00m\n\u001b[1;32m    303\u001b[0m     \u001b[38;5;66;03m# in case it's stuck in uninterruptible sleep. -9 = SIGKILL\u001b[39;00m\n\u001b[1;32m    304\u001b[0m     rc \u001b[38;5;241m=\u001b[39m p\u001b[38;5;241m.\u001b[39mreturncode \u001b[38;5;129;01mor\u001b[39;00m \u001b[38;5;241m-\u001b[39m\u001b[38;5;241m9\u001b[39m\n\u001b[0;32m--> 305\u001b[0m     \u001b[38;5;28;01mraise\u001b[39;00m CalledProcessError(rc, cell)\n",
      "\u001b[0;31mCalledProcessError\u001b[0m: Command 'b'echo ${PYTHONPATH}\\nexport PYTHONPATH=${PYTHONPATH}:/tf/notebook/models/research \\ncd models/research\\npwd\\npython object_detection/builders/model_builder_tf2_test.py\\n'' returned non-zero exit status 1."
     ]
    }
   ],
   "source": [
    "%%bash\n",
    "echo ${PYTHONPATH}\n",
    "export PYTHONPATH=${PYTHONPATH}:/tf/notebook/models/research \n",
    "cd models/research\n",
    "pwd\n",
    "python object_detection/builders/model_builder_tf2_test.py"
   ]
  },
  {
   "cell_type": "code",
   "execution_count": null,
   "metadata": {},
   "outputs": [],
   "source": []
  }
 ],
 "metadata": {
  "accelerator": "GPU",
  "colab": {
   "collapsed_sections": [],
   "last_runtime": {
    "build_target": "//learning/brain/python/client:colab_notebook",
    "kind": "private"
   },
   "name": "object_detection_tutorial.ipynb",
   "private_outputs": true,
   "provenance": [
    {
     "file_id": "/piper/depot/google3/third_party/tensorflow_models/object_detection/colab_tutorials/object_detection_tutorial.ipynb",
     "timestamp": 1594335690840
    },
    {
     "file_id": "1LNYL6Zsn9Xlil2CVNOTsgDZQSBKeOjCh",
     "timestamp": 1566498233247
    },
    {
     "file_id": "/piper/depot/google3/third_party/tensorflow_models/object_detection/object_detection_tutorial.ipynb?workspaceId=markdaoust:copybara_AFABFE845DCD573AD3D43A6BAFBE77D4_0::citc",
     "timestamp": 1566488313397
    },
    {
     "file_id": "/piper/depot/google3/third_party/py/tensorflow_docs/g3doc/en/r2/tutorials/generative/object_detection_tutorial.ipynb?workspaceId=markdaoust:copybara_AFABFE845DCD573AD3D43A6BAFBE77D4_0::citc",
     "timestamp": 1566145894046
    },
    {
     "file_id": "1nBPoWynOV0auSIy40eQcBIk9C6YRSkI8",
     "timestamp": 1566145841085
    },
    {
     "file_id": "/piper/depot/google3/third_party/tensorflow_models/object_detection/object_detection_tutorial.ipynb?workspaceId=markdaoust:copybara_AFABFE845DCD573AD3D43A6BAFBE77D4_0::citc",
     "timestamp": 1556295408037
    },
    {
     "file_id": "1layerger-51XwWOwYMY_5zHaCavCeQkO",
     "timestamp": 1556214267924
    },
    {
     "file_id": "/piper/depot/google3/third_party/tensorflow_models/object_detection/object_detection_tutorial.ipynb?workspaceId=markdaoust:copybara_AFABFE845DCD573AD3D43A6BAFBE77D4_0::citc",
     "timestamp": 1556207836484
    },
    {
     "file_id": "1w6mqQiNV3liPIX70NOgitOlDF1_4sRMw",
     "timestamp": 1556154824101
    },
    {
     "file_id": "https://github.com/tensorflow/models/blob/master/research/object_detection/object_detection_tutorial.ipynb",
     "timestamp": 1556150293326
    }
   ]
  },
  "kernelspec": {
   "display_name": "Python 3",
   "language": "python",
   "name": "python3"
  },
  "language_info": {
   "codemirror_mode": {
    "name": "ipython",
    "version": 3
   },
   "file_extension": ".py",
   "mimetype": "text/x-python",
   "name": "python",
   "nbconvert_exporter": "python",
   "pygments_lexer": "ipython3",
   "version": "3.8.10"
  }
 },
 "nbformat": 4,
 "nbformat_minor": 1
}
