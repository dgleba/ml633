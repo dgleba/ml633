{
 "cells": [
  {
   "cell_type": "markdown",
   "metadata": {
    "id": "V8-yl-s-WKMG"
   },
   "source": [
    "# Object Detection API Demo\n",
    "\n",
    "<table align=\"left\"><td>\n",
    "  <a target=\"_blank\"  href=\"https://colab.sandbox.google.com/github/tensorflow/models/blob/master/research/object_detection/colab_tutorials/object_detection_tutorial.ipynb\">\n",
    "    <img src=\"https://www.tensorflow.org/images/colab_logo_32px.png\" />Run in Google Colab\n",
    "  </a>\n",
    "</td><td>\n",
    "  <a target=\"_blank\"  href=\"https://github.com/tensorflow/models/blob/master/research/object_detection/colab_tutorials/object_detection_tutorial.ipynb\">\n",
    "    <img width=32px src=\"https://www.tensorflow.org/images/GitHub-Mark-32px.png\" />View source on GitHub</a>\n",
    "</td></table>"
   ]
  },
  {
   "cell_type": "markdown",
   "metadata": {
    "id": "3cIrseUv6WKz"
   },
   "source": [
    "Welcome to the [Object Detection API](https://github.com/tensorflow/models/tree/master/research/object_detection). This notebook will walk you step by step through the process of using a pre-trained model to detect objects in an image."
   ]
  },
  {
   "cell_type": "markdown",
   "metadata": {
    "id": "VrJaG0cYN9yh"
   },
   "source": [
    "> **Important**: This tutorial is to help you through the first step towards using [Object Detection API](https://github.com/tensorflow/models/tree/master/research/object_detection) to build models. If you just just need an off the shelf model that does the job, see the [TFHub object detection example](https://colab.sandbox.google.com/github/tensorflow/hub/blob/master/examples/colab/object_detection.ipynb)."
   ]
  },
  {
   "cell_type": "markdown",
   "metadata": {
    "id": "kFSqkTCdWKMI"
   },
   "source": [
    "# Setup"
   ]
  },
  {
   "cell_type": "markdown",
   "metadata": {
    "id": "awjrpqy-6MaQ"
   },
   "source": [
    "Important: If you're running on a local machine, be sure to follow the [installation instructions](https://github.com/tensorflow/models/blob/master/research/object_detection/g3doc/tf2.md). This notebook includes only what's necessary to run in Colab."
   ]
  },
  {
   "cell_type": "markdown",
   "metadata": {
    "id": "p3UGXxUii5Ym"
   },
   "source": [
    "### Install"
   ]
  },
  {
   "cell_type": "code",
   "execution_count": null,
   "metadata": {},
   "outputs": [],
   "source": [
    "%%bash\n",
    "apt update \n",
    "apt install -y mc"
   ]
  },
  {
   "cell_type": "code",
   "execution_count": null,
   "metadata": {
    "id": "hGL97-GXjSUw"
   },
   "outputs": [],
   "source": [
    "!pip install -U --pre tensorflow==\"2.*\"\n",
    "!pip install tf_slim\n"
   ]
  },
  {
   "cell_type": "markdown",
   "metadata": {
    "id": "n_ap_s9ajTHH"
   },
   "source": [
    "Make sure you have `pycocotools` installed"
   ]
  },
  {
   "cell_type": "code",
   "execution_count": null,
   "metadata": {
    "id": "Bg8ZyA47i3pY",
    "scrolled": true
   },
   "outputs": [],
   "source": [
    "!pip install pycocotools"
   ]
  },
  {
   "cell_type": "markdown",
   "metadata": {
    "id": "-vsOL3QR6kqs"
   },
   "source": [
    "Get `tensorflow/models` or `cd` to parent directory of the repository."
   ]
  },
  {
   "cell_type": "code",
   "execution_count": null,
   "metadata": {
    "id": "ykA0c-om51s1"
   },
   "outputs": [],
   "source": [
    "import os\n",
    "import pathlib\n",
    "\n",
    "\n",
    "if \"models\" in pathlib.Path.cwd().parts:\n",
    "  while \"models\" in pathlib.Path.cwd().parts:\n",
    "    os.chdir('..')\n",
    "elif not pathlib.Path('models').exists():\n",
    "  !git clone --depth 1 https://github.com/tensorflow/models"
   ]
  },
  {
   "cell_type": "markdown",
   "metadata": {
    "id": "O219m6yWAj9l"
   },
   "source": [
    "Compile protobufs and install the object_detection package"
   ]
  },
  {
   "cell_type": "code",
   "execution_count": null,
   "metadata": {},
   "outputs": [],
   "source": [
    "%%bash\n",
    "apt install -y protobuf-compiler"
   ]
  },
  {
   "cell_type": "code",
   "execution_count": null,
   "metadata": {
    "id": "PY41vdYYNlXc"
   },
   "outputs": [],
   "source": [
    "%%bash\n",
    "cd models/research/\n",
    "protoc object_detection/protos/*.proto --python_out=."
   ]
  },
  {
   "cell_type": "code",
   "execution_count": null,
   "metadata": {
    "id": "s62yJyQUcYbp",
    "scrolled": true
   },
   "outputs": [],
   "source": [
    "%%bash \n",
    "cd models/research\n",
    "cp object_detection/packages/tf2/setup.py .\n",
    "#pip install . --upgrade\n",
    "python -m pip install --use-feature=2020-resolver .\n",
    "#pip install ."
   ]
  },
  {
   "cell_type": "code",
   "execution_count": null,
   "metadata": {},
   "outputs": [],
   "source": [
    "%%bash\n",
    "echo fixing above.\n",
    "#python -m pip uninstall -y tensorflow keras pyparsing"
   ]
  },
  {
   "cell_type": "code",
   "execution_count": null,
   "metadata": {},
   "outputs": [],
   "source": [
    "%%bash\n",
    "python -m pip install tensorflow keras pyparsing"
   ]
  },
  {
   "cell_type": "code",
   "execution_count": null,
   "metadata": {},
   "outputs": [],
   "source": [
    "%%bash\n",
    "pip install pyparsing==2.4.2\n",
    "pip install httplib2==0.20.2"
   ]
  },
  {
   "cell_type": "markdown",
   "metadata": {
    "id": "LBdjK2G5ywuc"
   },
   "source": [
    "### Imports"
   ]
  },
  {
   "cell_type": "code",
   "execution_count": null,
   "metadata": {},
   "outputs": [],
   "source": [
    "%%bash\n",
    "pwd\n",
    "pip list"
   ]
  },
  {
   "cell_type": "code",
   "execution_count": null,
   "metadata": {
    "id": "hV4P5gyTWKMI"
   },
   "outputs": [],
   "source": [
    "import numpy as np\n",
    "import os\n",
    "import six.moves.urllib as urllib\n",
    "import sys\n",
    "import tarfile\n",
    "import tensorflow as tf\n",
    "import zipfile\n",
    "\n",
    "from collections import defaultdict\n",
    "from io import StringIO\n",
    "from matplotlib import pyplot as plt\n",
    "from PIL import Image\n",
    "from IPython.display import display"
   ]
  },
  {
   "cell_type": "markdown",
   "metadata": {
    "id": "r5FNuiRPWKMN"
   },
   "source": [
    "Import the object detection module."
   ]
  },
  {
   "cell_type": "code",
   "execution_count": null,
   "metadata": {
    "id": "4-IMl4b6BdGO"
   },
   "outputs": [],
   "source": [
    "from object_detection.utils import ops as utils_ops\n",
    "from object_detection.utils import label_map_util\n",
    "from object_detection.utils import visualization_utils as vis_util"
   ]
  },
  {
   "cell_type": "markdown",
   "metadata": {
    "id": "RYPCiag2iz_q"
   },
   "source": [
    "Patches:"
   ]
  },
  {
   "cell_type": "code",
   "execution_count": null,
   "metadata": {
    "id": "mF-YlMl8c_bM"
   },
   "outputs": [],
   "source": [
    "# patch tf1 into `utils.ops`\n",
    "utils_ops.tf = tf.compat.v1\n",
    "\n",
    "# Patch the location of gfile\n",
    "tf.gfile = tf.io.gfile"
   ]
  },
  {
   "cell_type": "markdown",
   "metadata": {
    "id": "cfn_tRFOWKMO"
   },
   "source": [
    "# Model preparation "
   ]
  },
  {
   "cell_type": "markdown",
   "metadata": {
    "id": "X_sEBLpVWKMQ"
   },
   "source": [
    "## Variables\n",
    "\n",
    "Any model exported using the `export_inference_graph.py` tool can be loaded here simply by changing the path.\n",
    "\n",
    "By default we use an \"SSD with Mobilenet\" model here. See the [detection model zoo](https://github.com/tensorflow/models/blob/master/research/object_detection/g3doc/detection_model_zoo.md) for a list of other models that can be run out-of-the-box with varying speeds and accuracies."
   ]
  },
  {
   "cell_type": "markdown",
   "metadata": {
    "id": "7ai8pLZZWKMS"
   },
   "source": [
    "## Loader"
   ]
  },
  {
   "cell_type": "code",
   "execution_count": null,
   "metadata": {
    "id": "zm8xp-0eoItE"
   },
   "outputs": [],
   "source": [
    "def load_model(model_name):\n",
    "  base_url = 'http://download.tensorflow.org/models/object_detection/'\n",
    "  model_file = model_name + '.tar.gz'\n",
    "  model_dir = tf.keras.utils.get_file(\n",
    "    fname=model_name, \n",
    "    origin=base_url + model_file,\n",
    "    untar=True)\n",
    "\n",
    "  model_dir = pathlib.Path(model_dir)/\"saved_model\"\n",
    "\n",
    "  model = tf.saved_model.load(str(model_dir))\n",
    "\n",
    "  return model"
   ]
  },
  {
   "cell_type": "markdown",
   "metadata": {
    "id": "_1MVVTcLWKMW"
   },
   "source": [
    "## Loading label map\n",
    "Label maps map indices to category names, so that when our convolution network predicts `5`, we know that this corresponds to `airplane`.  Here we use internal utility functions, but anything that returns a dictionary mapping integers to appropriate string labels would be fine"
   ]
  },
  {
   "cell_type": "code",
   "execution_count": null,
   "metadata": {
    "id": "hDbpHkiWWKMX"
   },
   "outputs": [],
   "source": [
    "# List of the strings that is used to add correct label for each box.\n",
    "PATH_TO_LABELS = 'models/research/object_detection/data/mscoco_label_map.pbtxt'\n",
    "category_index = label_map_util.create_category_index_from_labelmap(PATH_TO_LABELS, use_display_name=True)"
   ]
  },
  {
   "cell_type": "markdown",
   "metadata": {
    "id": "oVU3U_J6IJVb"
   },
   "source": [
    "For the sake of simplicity we will test on 2 images:"
   ]
  },
  {
   "cell_type": "code",
   "execution_count": null,
   "metadata": {
    "id": "jG-zn5ykWKMd"
   },
   "outputs": [],
   "source": [
    "# If you want to test the code with your images, just add path to the images to the TEST_IMAGE_PATHS.\n",
    "import pathlib\n",
    "PATH_TO_TEST_IMAGES_DIR = pathlib.Path('models/research/object_detection/test_images')\n",
    "TEST_IMAGE_PATHS = sorted(list(PATH_TO_TEST_IMAGES_DIR.glob(\"*.jpg\")))\n",
    "TEST_IMAGE_PATHS"
   ]
  },
  {
   "cell_type": "markdown",
   "metadata": {
    "id": "H0_1AGhrWKMc"
   },
   "source": [
    "# Detection"
   ]
  },
  {
   "cell_type": "markdown",
   "metadata": {
    "id": "f7aOtOlebK7h"
   },
   "source": [
    "Load an object detection model:"
   ]
  },
  {
   "cell_type": "code",
   "execution_count": null,
   "metadata": {
    "id": "1XNT0wxybKR6"
   },
   "outputs": [],
   "source": [
    "model_name = 'ssd_mobilenet_v1_coco_2017_11_17'\n",
    "detection_model = load_model(model_name)"
   ]
  },
  {
   "cell_type": "markdown",
   "metadata": {
    "id": "yN1AYfAEJIGp"
   },
   "source": [
    "Check the model's input signature, it expects a batch of 3-color images of type uint8:"
   ]
  },
  {
   "cell_type": "code",
   "execution_count": null,
   "metadata": {
    "id": "CK4cnry6wsHY"
   },
   "outputs": [],
   "source": [
    "print(detection_model.signatures['serving_default'].inputs)"
   ]
  },
  {
   "cell_type": "markdown",
   "metadata": {
    "id": "Q8u3BjpMJXZF"
   },
   "source": [
    "And returns several outputs:"
   ]
  },
  {
   "cell_type": "code",
   "execution_count": null,
   "metadata": {
    "id": "oLSZpfaYwuSk"
   },
   "outputs": [],
   "source": [
    "detection_model.signatures['serving_default'].output_dtypes"
   ]
  },
  {
   "cell_type": "code",
   "execution_count": null,
   "metadata": {
    "id": "FZyKUJeuxvpT"
   },
   "outputs": [],
   "source": [
    "detection_model.signatures['serving_default'].output_shapes"
   ]
  },
  {
   "cell_type": "markdown",
   "metadata": {
    "id": "JP5qZ7sXJpwG"
   },
   "source": [
    "Add a wrapper function to call the model, and cleanup the outputs:"
   ]
  },
  {
   "cell_type": "code",
   "execution_count": null,
   "metadata": {
    "id": "ajmR_exWyN76"
   },
   "outputs": [],
   "source": [
    "def run_inference_for_single_image(model, image):\n",
    "  image = np.asarray(image)\n",
    "  # The input needs to be a tensor, convert it using `tf.convert_to_tensor`.\n",
    "  input_tensor = tf.convert_to_tensor(image)\n",
    "  # The model expects a batch of images, so add an axis with `tf.newaxis`.\n",
    "  input_tensor = input_tensor[tf.newaxis,...]\n",
    "\n",
    "  # Run inference\n",
    "  model_fn = model.signatures['serving_default']\n",
    "  output_dict = model_fn(input_tensor)\n",
    "\n",
    "  # All outputs are batches tensors.\n",
    "  # Convert to numpy arrays, and take index [0] to remove the batch dimension.\n",
    "  # We're only interested in the first num_detections.\n",
    "  num_detections = int(output_dict.pop('num_detections'))\n",
    "  output_dict = {key:value[0, :num_detections].numpy() \n",
    "                 for key,value in output_dict.items()}\n",
    "  output_dict['num_detections'] = num_detections\n",
    "\n",
    "  # detection_classes should be ints.\n",
    "  output_dict['detection_classes'] = output_dict['detection_classes'].astype(np.int64)\n",
    "   \n",
    "  # Handle models with masks:\n",
    "  if 'detection_masks' in output_dict:\n",
    "    # Reframe the the bbox mask to the image size.\n",
    "    detection_masks_reframed = utils_ops.reframe_box_masks_to_image_masks(\n",
    "              output_dict['detection_masks'], output_dict['detection_boxes'],\n",
    "               image.shape[0], image.shape[1])      \n",
    "    detection_masks_reframed = tf.cast(detection_masks_reframed > 0.5,\n",
    "                                       tf.uint8)\n",
    "    output_dict['detection_masks_reframed'] = detection_masks_reframed.numpy()\n",
    "    \n",
    "  return output_dict"
   ]
  },
  {
   "cell_type": "markdown",
   "metadata": {
    "id": "z1wq0LVyMRR_"
   },
   "source": [
    "Run it on each test image and show the results:"
   ]
  },
  {
   "cell_type": "code",
   "execution_count": null,
   "metadata": {
    "id": "DWh_1zz6aqxs"
   },
   "outputs": [],
   "source": [
    "def show_inference(model, image_path):\n",
    "  # the array based representation of the image will be used later in order to prepare the\n",
    "  # result image with boxes and labels on it.\n",
    "  image_np = np.array(Image.open(image_path))\n",
    "  # Actual detection.\n",
    "  output_dict = run_inference_for_single_image(model, image_np)\n",
    "  # Visualization of the results of a detection.\n",
    "  vis_util.visualize_boxes_and_labels_on_image_array(\n",
    "      image_np,\n",
    "      output_dict['detection_boxes'],\n",
    "      output_dict['detection_classes'],\n",
    "      output_dict['detection_scores'],\n",
    "      category_index,\n",
    "      instance_masks=output_dict.get('detection_masks_reframed', None),\n",
    "      use_normalized_coordinates=True,\n",
    "      line_thickness=8)\n",
    "\n",
    "  display(Image.fromarray(image_np))"
   ]
  },
  {
   "cell_type": "code",
   "execution_count": null,
   "metadata": {
    "id": "3a5wMHN8WKMh"
   },
   "outputs": [],
   "source": [
    "for image_path in TEST_IMAGE_PATHS:\n",
    "  show_inference(detection_model, image_path)\n"
   ]
  },
  {
   "cell_type": "markdown",
   "metadata": {
    "id": "DsspMPX3Cssg"
   },
   "source": [
    "## Instance Segmentation"
   ]
  },
  {
   "cell_type": "code",
   "execution_count": null,
   "metadata": {
    "id": "CzkVv_n2MxKC"
   },
   "outputs": [],
   "source": [
    "model_name = \"mask_rcnn_inception_resnet_v2_atrous_coco_2018_01_28\"\n",
    "masking_model = load_model(model_name)"
   ]
  },
  {
   "cell_type": "markdown",
   "metadata": {
    "id": "0S7aZi8ZOhVV"
   },
   "source": [
    "The instance segmentation model includes a `detection_masks` output:"
   ]
  },
  {
   "cell_type": "code",
   "execution_count": null,
   "metadata": {
    "id": "vQ2Sj2VIOZLA",
    "scrolled": true
   },
   "outputs": [],
   "source": [
    "# was.. masking_model.output_shapes\n",
    "masking_model.signatures['serving_default'].output_shapes"
   ]
  },
  {
   "cell_type": "code",
   "execution_count": null,
   "metadata": {
    "id": "AS57rZlnNL7W"
   },
   "outputs": [],
   "source": [
    "for image_path in TEST_IMAGE_PATHS:\n",
    "  show_inference(masking_model, image_path)"
   ]
  },
  {
   "cell_type": "code",
   "execution_count": 2,
   "metadata": {},
   "outputs": [
    {
     "name": "stdout",
     "output_type": "stream",
     "text": [
      "/tf/notebook\n",
      "models\tmore  obj-det-tut-v03.ipynb  obj-det-tut-v04.ipynb  requirements.txt\n"
     ]
    }
   ],
   "source": [
    "!pwd\n",
    "!pip freeze>requirements.txt\n",
    "!ls"
   ]
  },
  {
   "cell_type": "code",
   "execution_count": 5,
   "metadata": {
    "collapsed": true
   },
   "outputs": [
    {
     "name": "stdout",
     "output_type": "stream",
     "text": [
      "Requirement already satisfied: absl-py==1.0.0 in /usr/local/lib/python3.8/dist-packages (from -r requirements.txt (line 1)) (1.0.0)\n",
      "Requirement already satisfied: argon2-cffi==21.3.0 in /usr/local/lib/python3.8/dist-packages (from -r requirements.txt (line 2)) (21.3.0)\n",
      "Requirement already satisfied: argon2-cffi-bindings==21.2.0 in /usr/local/lib/python3.8/dist-packages (from -r requirements.txt (line 3)) (21.2.0)\n",
      "Requirement already satisfied: asttokens==2.0.5 in /usr/local/lib/python3.8/dist-packages (from -r requirements.txt (line 4)) (2.0.5)\n",
      "Requirement already satisfied: astunparse==1.6.3 in /usr/local/lib/python3.8/dist-packages (from -r requirements.txt (line 5)) (1.6.3)\n",
      "Requirement already satisfied: attrs==21.4.0 in /usr/local/lib/python3.8/dist-packages (from -r requirements.txt (line 6)) (21.4.0)\n",
      "Requirement already satisfied: backcall==0.2.0 in /usr/local/lib/python3.8/dist-packages (from -r requirements.txt (line 7)) (0.2.0)\n",
      "Requirement already satisfied: black==22.1.0 in /usr/local/lib/python3.8/dist-packages (from -r requirements.txt (line 8)) (22.1.0)\n",
      "Requirement already satisfied: bleach==4.1.0 in /usr/local/lib/python3.8/dist-packages (from -r requirements.txt (line 9)) (4.1.0)\n",
      "Requirement already satisfied: cachetools==5.0.0 in /usr/local/lib/python3.8/dist-packages (from -r requirements.txt (line 10)) (5.0.0)\n",
      "Requirement already satisfied: certifi==2021.10.8 in /usr/local/lib/python3.8/dist-packages (from -r requirements.txt (line 11)) (2021.10.8)\n",
      "Requirement already satisfied: cffi==1.15.0 in /usr/local/lib/python3.8/dist-packages (from -r requirements.txt (line 12)) (1.15.0)\n",
      "Requirement already satisfied: charset-normalizer==2.0.11 in /usr/local/lib/python3.8/dist-packages (from -r requirements.txt (line 13)) (2.0.11)\n",
      "Requirement already satisfied: click==8.0.3 in /usr/local/lib/python3.8/dist-packages (from -r requirements.txt (line 14)) (8.0.3)\n",
      "Requirement already satisfied: cycler==0.11.0 in /usr/local/lib/python3.8/dist-packages (from -r requirements.txt (line 15)) (0.11.0)\n",
      "Requirement already satisfied: debugpy==1.5.1 in /usr/local/lib/python3.8/dist-packages (from -r requirements.txt (line 16)) (1.5.1)\n",
      "Requirement already satisfied: decorator==5.1.1 in /usr/local/lib/python3.8/dist-packages (from -r requirements.txt (line 17)) (5.1.1)\n",
      "Requirement already satisfied: defusedxml==0.7.1 in /usr/local/lib/python3.8/dist-packages (from -r requirements.txt (line 18)) (0.7.1)\n",
      "Requirement already satisfied: entrypoints==0.3 in /usr/local/lib/python3.8/dist-packages (from -r requirements.txt (line 19)) (0.3)\n",
      "Requirement already satisfied: executing==0.8.2 in /usr/local/lib/python3.8/dist-packages (from -r requirements.txt (line 20)) (0.8.2)\n",
      "Requirement already satisfied: flatbuffers==2.0 in /usr/local/lib/python3.8/dist-packages (from -r requirements.txt (line 21)) (2.0)\n",
      "Requirement already satisfied: fonttools==4.29.1 in /usr/local/lib/python3.8/dist-packages (from -r requirements.txt (line 22)) (4.29.1)\n",
      "Requirement already satisfied: gast==0.4.0 in /usr/local/lib/python3.8/dist-packages (from -r requirements.txt (line 23)) (0.4.0)\n",
      "Requirement already satisfied: google-auth==2.6.0 in /usr/local/lib/python3.8/dist-packages (from -r requirements.txt (line 24)) (2.6.0)\n",
      "Requirement already satisfied: google-auth-oauthlib==0.4.6 in /usr/local/lib/python3.8/dist-packages (from -r requirements.txt (line 25)) (0.4.6)\n",
      "Requirement already satisfied: google-pasta==0.2.0 in /usr/local/lib/python3.8/dist-packages (from -r requirements.txt (line 26)) (0.2.0)\n",
      "Requirement already satisfied: grpcio==1.43.0 in /usr/local/lib/python3.8/dist-packages (from -r requirements.txt (line 27)) (1.43.0)\n",
      "Requirement already satisfied: h5py==3.6.0 in /usr/local/lib/python3.8/dist-packages (from -r requirements.txt (line 28)) (3.6.0)\n",
      "Requirement already satisfied: idna==3.3 in /usr/local/lib/python3.8/dist-packages (from -r requirements.txt (line 29)) (3.3)\n",
      "Requirement already satisfied: importlib-metadata==4.10.1 in /usr/local/lib/python3.8/dist-packages (from -r requirements.txt (line 30)) (4.10.1)\n",
      "Requirement already satisfied: importlib-resources==5.4.0 in /usr/local/lib/python3.8/dist-packages (from -r requirements.txt (line 31)) (5.4.0)\n",
      "Requirement already satisfied: ipykernel==5.1.1 in /usr/local/lib/python3.8/dist-packages (from -r requirements.txt (line 32)) (5.1.1)\n",
      "Requirement already satisfied: ipython==8.0.1 in /usr/local/lib/python3.8/dist-packages (from -r requirements.txt (line 33)) (8.0.1)\n",
      "Requirement already satisfied: ipython-genutils==0.2.0 in /usr/local/lib/python3.8/dist-packages (from -r requirements.txt (line 34)) (0.2.0)\n",
      "Requirement already satisfied: ipywidgets==7.6.5 in /usr/local/lib/python3.8/dist-packages (from -r requirements.txt (line 35)) (7.6.5)\n",
      "Requirement already satisfied: jedi==0.17.2 in /usr/local/lib/python3.8/dist-packages (from -r requirements.txt (line 36)) (0.17.2)\n",
      "Requirement already satisfied: Jinja2==3.0.3 in /usr/local/lib/python3.8/dist-packages (from -r requirements.txt (line 37)) (3.0.3)\n",
      "Requirement already satisfied: jsonschema==4.4.0 in /usr/local/lib/python3.8/dist-packages (from -r requirements.txt (line 38)) (4.4.0)\n",
      "Requirement already satisfied: jupyter==1.0.0 in /usr/local/lib/python3.8/dist-packages (from -r requirements.txt (line 39)) (1.0.0)\n",
      "Requirement already satisfied: jupyter-client==7.1.2 in /usr/local/lib/python3.8/dist-packages (from -r requirements.txt (line 40)) (7.1.2)\n",
      "Requirement already satisfied: jupyter-console==6.4.0 in /usr/local/lib/python3.8/dist-packages (from -r requirements.txt (line 41)) (6.4.0)\n",
      "Requirement already satisfied: jupyter-core==4.9.1 in /usr/local/lib/python3.8/dist-packages (from -r requirements.txt (line 42)) (4.9.1)\n",
      "Requirement already satisfied: jupyter-http-over-ws==0.0.8 in /usr/local/lib/python3.8/dist-packages (from -r requirements.txt (line 43)) (0.0.8)\n",
      "Requirement already satisfied: jupyterlab-pygments==0.1.2 in /usr/local/lib/python3.8/dist-packages (from -r requirements.txt (line 44)) (0.1.2)\n",
      "Requirement already satisfied: jupyterlab-widgets==1.0.2 in /usr/local/lib/python3.8/dist-packages (from -r requirements.txt (line 45)) (1.0.2)\n",
      "Collecting keras==2.7.0\n",
      "  Downloading keras-2.7.0-py2.py3-none-any.whl (1.3 MB)\n",
      "\u001b[K     |████████████████████████████████| 1.3 MB 4.9 MB/s eta 0:00:01\n",
      "\u001b[?25hRequirement already satisfied: Keras-Preprocessing==1.1.2 in /usr/local/lib/python3.8/dist-packages (from -r requirements.txt (line 47)) (1.1.2)\n",
      "Requirement already satisfied: kiwisolver==1.3.2 in /usr/local/lib/python3.8/dist-packages (from -r requirements.txt (line 48)) (1.3.2)\n",
      "Requirement already satisfied: libclang==13.0.0 in /usr/local/lib/python3.8/dist-packages (from -r requirements.txt (line 49)) (13.0.0)\n",
      "Requirement already satisfied: Markdown==3.3.6 in /usr/local/lib/python3.8/dist-packages (from -r requirements.txt (line 50)) (3.3.6)\n",
      "Requirement already satisfied: MarkupSafe==2.0.1 in /usr/local/lib/python3.8/dist-packages (from -r requirements.txt (line 51)) (2.0.1)\n",
      "Requirement already satisfied: matplotlib==3.5.1 in /usr/local/lib/python3.8/dist-packages (from -r requirements.txt (line 52)) (3.5.1)\n",
      "Requirement already satisfied: matplotlib-inline==0.1.3 in /usr/local/lib/python3.8/dist-packages (from -r requirements.txt (line 53)) (0.1.3)\n",
      "Requirement already satisfied: mistune==0.8.4 in /usr/local/lib/python3.8/dist-packages (from -r requirements.txt (line 54)) (0.8.4)\n",
      "Requirement already satisfied: mypy-extensions==0.4.3 in /usr/local/lib/python3.8/dist-packages (from -r requirements.txt (line 55)) (0.4.3)\n",
      "Requirement already satisfied: nbclient==0.5.10 in /usr/local/lib/python3.8/dist-packages (from -r requirements.txt (line 56)) (0.5.10)\n",
      "Requirement already satisfied: nbconvert==6.4.1 in /usr/local/lib/python3.8/dist-packages (from -r requirements.txt (line 57)) (6.4.1)\n",
      "Requirement already satisfied: nbformat==4.4.0 in /usr/local/lib/python3.8/dist-packages (from -r requirements.txt (line 58)) (4.4.0)\n",
      "Requirement already satisfied: nest-asyncio==1.5.4 in /usr/local/lib/python3.8/dist-packages (from -r requirements.txt (line 59)) (1.5.4)\n",
      "Requirement already satisfied: notebook==6.4.8 in /usr/local/lib/python3.8/dist-packages (from -r requirements.txt (line 60)) (6.4.8)\n"
     ]
    },
    {
     "name": "stdout",
     "output_type": "stream",
     "text": [
      "Requirement already satisfied: numpy==1.22.1 in /usr/local/lib/python3.8/dist-packages (from -r requirements.txt (line 61)) (1.22.1)\n",
      "Requirement already satisfied: oauthlib==3.2.0 in /usr/local/lib/python3.8/dist-packages (from -r requirements.txt (line 62)) (3.2.0)\n",
      "Requirement already satisfied: opt-einsum==3.3.0 in /usr/local/lib/python3.8/dist-packages (from -r requirements.txt (line 63)) (3.3.0)\n",
      "Requirement already satisfied: packaging==21.3 in /usr/local/lib/python3.8/dist-packages (from -r requirements.txt (line 64)) (21.3)\n",
      "Requirement already satisfied: pandocfilters==1.5.0 in /usr/local/lib/python3.8/dist-packages (from -r requirements.txt (line 65)) (1.5.0)\n",
      "Requirement already satisfied: parso==0.7.1 in /usr/local/lib/python3.8/dist-packages (from -r requirements.txt (line 66)) (0.7.1)\n",
      "Requirement already satisfied: pathspec==0.9.0 in /usr/local/lib/python3.8/dist-packages (from -r requirements.txt (line 67)) (0.9.0)\n",
      "Requirement already satisfied: pexpect==4.8.0 in /usr/local/lib/python3.8/dist-packages (from -r requirements.txt (line 68)) (4.8.0)\n",
      "Requirement already satisfied: pickleshare==0.7.5 in /usr/local/lib/python3.8/dist-packages (from -r requirements.txt (line 69)) (0.7.5)\n",
      "Requirement already satisfied: Pillow==9.0.0 in /usr/local/lib/python3.8/dist-packages (from -r requirements.txt (line 70)) (9.0.0)\n",
      "Requirement already satisfied: platformdirs==2.4.1 in /usr/local/lib/python3.8/dist-packages (from -r requirements.txt (line 71)) (2.4.1)\n",
      "Requirement already satisfied: prometheus-client==0.13.1 in /usr/local/lib/python3.8/dist-packages (from -r requirements.txt (line 72)) (0.13.1)\n",
      "Requirement already satisfied: prompt-toolkit==3.0.26 in /usr/local/lib/python3.8/dist-packages (from -r requirements.txt (line 73)) (3.0.26)\n",
      "Requirement already satisfied: protobuf==3.19.4 in /usr/local/lib/python3.8/dist-packages (from -r requirements.txt (line 74)) (3.19.4)\n",
      "Requirement already satisfied: ptyprocess==0.7.0 in /usr/local/lib/python3.8/dist-packages (from -r requirements.txt (line 75)) (0.7.0)\n",
      "Requirement already satisfied: pure-eval==0.2.2 in /usr/local/lib/python3.8/dist-packages (from -r requirements.txt (line 76)) (0.2.2)\n",
      "Requirement already satisfied: pyasn1==0.4.8 in /usr/local/lib/python3.8/dist-packages (from -r requirements.txt (line 77)) (0.4.8)\n",
      "Requirement already satisfied: pyasn1-modules==0.2.8 in /usr/local/lib/python3.8/dist-packages (from -r requirements.txt (line 78)) (0.2.8)\n",
      "Requirement already satisfied: pycparser==2.21 in /usr/local/lib/python3.8/dist-packages (from -r requirements.txt (line 79)) (2.21)\n",
      "Requirement already satisfied: Pygments==2.11.2 in /usr/local/lib/python3.8/dist-packages (from -r requirements.txt (line 80)) (2.11.2)\n",
      "Requirement already satisfied: pyparsing==3.0.7 in /usr/local/lib/python3.8/dist-packages (from -r requirements.txt (line 81)) (3.0.7)\n",
      "Requirement already satisfied: pyrsistent==0.18.1 in /usr/local/lib/python3.8/dist-packages (from -r requirements.txt (line 82)) (0.18.1)\n",
      "Requirement already satisfied: python-dateutil==2.8.2 in /usr/local/lib/python3.8/dist-packages (from -r requirements.txt (line 83)) (2.8.2)\n",
      "Requirement already satisfied: pyzmq==22.3.0 in /usr/local/lib/python3.8/dist-packages (from -r requirements.txt (line 84)) (22.3.0)\n",
      "Requirement already satisfied: qtconsole==5.2.2 in /usr/local/lib/python3.8/dist-packages (from -r requirements.txt (line 85)) (5.2.2)\n",
      "Requirement already satisfied: QtPy==2.0.1 in /usr/local/lib/python3.8/dist-packages (from -r requirements.txt (line 86)) (2.0.1)\n",
      "Requirement already satisfied: requests==2.27.1 in /usr/local/lib/python3.8/dist-packages (from -r requirements.txt (line 87)) (2.27.1)\n",
      "Requirement already satisfied: requests-oauthlib==1.3.1 in /usr/local/lib/python3.8/dist-packages (from -r requirements.txt (line 88)) (1.3.1)\n",
      "Requirement already satisfied: rsa==4.8 in /usr/local/lib/python3.8/dist-packages (from -r requirements.txt (line 89)) (4.8)\n",
      "Requirement already satisfied: Send2Trash==1.8.0 in /usr/local/lib/python3.8/dist-packages (from -r requirements.txt (line 90)) (1.8.0)\n",
      "Requirement already satisfied: six==1.16.0 in /usr/local/lib/python3.8/dist-packages (from -r requirements.txt (line 91)) (1.16.0)\n",
      "Requirement already satisfied: stack-data==0.1.4 in /usr/local/lib/python3.8/dist-packages (from -r requirements.txt (line 92)) (0.1.4)\n",
      "Requirement already satisfied: tensorboard==2.8.0 in /usr/local/lib/python3.8/dist-packages (from -r requirements.txt (line 93)) (2.8.0)\n",
      "Requirement already satisfied: tensorboard-data-server==0.6.1 in /usr/local/lib/python3.8/dist-packages (from -r requirements.txt (line 94)) (0.6.1)\n",
      "Requirement already satisfied: tensorboard-plugin-wit==1.8.1 in /usr/local/lib/python3.8/dist-packages (from -r requirements.txt (line 95)) (1.8.1)\n",
      "Requirement already satisfied: tensorflow-cpu==2.7.1 in /usr/local/lib/python3.8/dist-packages (from -r requirements.txt (line 96)) (2.7.1)\n",
      "Requirement already satisfied: tensorflow-estimator==2.7.0 in /usr/local/lib/python3.8/dist-packages (from -r requirements.txt (line 97)) (2.7.0)\n",
      "Requirement already satisfied: tensorflow-io-gcs-filesystem==0.23.1 in /usr/local/lib/python3.8/dist-packages (from -r requirements.txt (line 98)) (0.23.1)\n",
      "Requirement already satisfied: termcolor==1.1.0 in /usr/local/lib/python3.8/dist-packages (from -r requirements.txt (line 99)) (1.1.0)\n",
      "Requirement already satisfied: terminado==0.13.1 in /usr/local/lib/python3.8/dist-packages (from -r requirements.txt (line 100)) (0.13.1)\n",
      "Requirement already satisfied: testpath==0.5.0 in /usr/local/lib/python3.8/dist-packages (from -r requirements.txt (line 101)) (0.5.0)\n",
      "Requirement already satisfied: tomli==2.0.0 in /usr/local/lib/python3.8/dist-packages (from -r requirements.txt (line 102)) (2.0.0)\n",
      "Requirement already satisfied: tornado==6.1 in /usr/local/lib/python3.8/dist-packages (from -r requirements.txt (line 103)) (6.1)\n",
      "Requirement already satisfied: traitlets==5.1.1 in /usr/local/lib/python3.8/dist-packages (from -r requirements.txt (line 104)) (5.1.1)\n",
      "Requirement already satisfied: typing-extensions==4.0.1 in /usr/local/lib/python3.8/dist-packages (from -r requirements.txt (line 105)) (4.0.1)\n",
      "Requirement already satisfied: urllib3==1.26.8 in /usr/local/lib/python3.8/dist-packages (from -r requirements.txt (line 106)) (1.26.8)\n",
      "Requirement already satisfied: wcwidth==0.2.5 in /usr/local/lib/python3.8/dist-packages (from -r requirements.txt (line 107)) (0.2.5)\n",
      "Requirement already satisfied: webencodings==0.5.1 in /usr/local/lib/python3.8/dist-packages (from -r requirements.txt (line 108)) (0.5.1)\n",
      "Requirement already satisfied: Werkzeug==2.0.2 in /usr/local/lib/python3.8/dist-packages (from -r requirements.txt (line 109)) (2.0.2)\n",
      "Requirement already satisfied: widgetsnbextension==3.5.2 in /usr/local/lib/python3.8/dist-packages (from -r requirements.txt (line 110)) (3.5.2)\n",
      "Requirement already satisfied: wrapt==1.13.3 in /usr/local/lib/python3.8/dist-packages (from -r requirements.txt (line 111)) (1.13.3)\n",
      "Requirement already satisfied: zipp==3.7.0 in /usr/local/lib/python3.8/dist-packages (from -r requirements.txt (line 112)) (3.7.0)\n",
      "Requirement already satisfied: wheel<1.0,>=0.23.0 in /usr/lib/python3/dist-packages (from astunparse==1.6.3->-r requirements.txt (line 5)) (0.34.2)\n",
      "Requirement already satisfied: setuptools>=18.5 in /usr/local/lib/python3.8/dist-packages (from ipython==8.0.1->-r requirements.txt (line 33)) (60.7.0)\n",
      "Installing collected packages: keras\n",
      "  Attempting uninstall: keras\n",
      "    Found existing installation: keras 2.8.0\n",
      "    Uninstalling keras-2.8.0:\n",
      "      Successfully uninstalled keras-2.8.0\n",
      "Successfully installed keras-2.7.0\n",
      "\u001b[33mWARNING: You are using pip version 20.2.4; however, version 22.0.4 is available.\n",
      "You should consider upgrading via the '/usr/bin/python3 -m pip install --upgrade pip' command.\u001b[0m\n"
     ]
    }
   ],
   "source": [
    "# testing that is downgrades all packages per the requirements.txt.  !pip install --upgrade keras\n",
    "!pip install -r requirements.txt"
   ]
  },
  {
   "cell_type": "code",
   "execution_count": 4,
   "metadata": {},
   "outputs": [
    {
     "name": "stdout",
     "output_type": "stream",
     "text": [
      "Collecting keras\n",
      "  Downloading keras-2.8.0-py2.py3-none-any.whl (1.4 MB)\n",
      "\u001b[K     |████████████████████████████████| 1.4 MB 3.1 MB/s eta 0:00:01\n",
      "\u001b[?25hInstalling collected packages: keras\n",
      "  Attempting uninstall: keras\n",
      "    Found existing installation: keras 2.7.0\n",
      "    Uninstalling keras-2.7.0:\n",
      "      Successfully uninstalled keras-2.7.0\n",
      "\u001b[31mERROR: After October 2020 you may experience errors when installing or updating packages. This is because pip will change the way that it resolves dependency conflicts.\n",
      "\n",
      "We recommend you use --use-feature=2020-resolver to test your packages with the new resolver before it becomes the default.\n",
      "\n",
      "tensorflow-cpu 2.7.1 requires keras<2.8,>=2.7.0rc0, but you'll have keras 2.8.0 which is incompatible.\u001b[0m\n",
      "Successfully installed keras-2.8.0\n",
      "\u001b[33mWARNING: You are using pip version 20.2.4; however, version 22.0.4 is available.\n",
      "You should consider upgrading via the '/usr/bin/python3 -m pip install --upgrade pip' command.\u001b[0m\n"
     ]
    }
   ],
   "source": [
    "# testing that it downgrades all packages per the requirements.txt.  !pip install --upgrade keras\n"
   ]
  },
  {
   "cell_type": "code",
   "execution_count": 4,
   "metadata": {},
   "outputs": [
    {
     "name": "stdout",
     "output_type": "stream",
     "text": [
      "before:\n",
      "after::/tf/notebook/models:/tf/notebook/models/research\n"
     ]
    }
   ],
   "source": [
    "%%bash\n",
    "pip install tf_slim scipy tensorflow_io pyyaml"
   ]
  },
  {
   "cell_type": "code",
   "execution_count": 6,
   "metadata": {},
   "outputs": [
    {
     "name": "stdout",
     "output_type": "stream",
     "text": [
      "/tf/notebook/models/research\n",
      "before:\n",
      "after::/tf/notebook/models:/tf/notebook/models/research\n"
     ]
    },
    {
     "name": "stderr",
     "output_type": "stream",
     "text": [
      "Running tests under Python 3.8.10: /usr/local/bin/python\n",
      "[ RUN      ] ModelBuilderTF2Test.test_create_center_net_deepmac\n",
      "/tf/notebook/models/research/object_detection/builders/model_builder.py:1102: DeprecationWarning: The 'warn' function is deprecated, use 'warning' instead\n",
      "  logging.warn(('Building experimental DeepMAC meta-arch.'\n",
      "W0512 19:31:18.696814 140321523668800 model_builder.py:1102] Building experimental DeepMAC meta-arch. Some features may be omitted.\n",
      "INFO:tensorflow:time(__main__.ModelBuilderTF2Test.test_create_center_net_deepmac): 1.57s\n",
      "I0512 19:31:19.516815 140321523668800 test_util.py:2308] time(__main__.ModelBuilderTF2Test.test_create_center_net_deepmac): 1.57s\n",
      "[       OK ] ModelBuilderTF2Test.test_create_center_net_deepmac\n",
      "[ RUN      ] ModelBuilderTF2Test.test_create_center_net_model0 (customize_head_params=True)\n",
      "INFO:tensorflow:time(__main__.ModelBuilderTF2Test.test_create_center_net_model0 (customize_head_params=True)): 2.0s\n",
      "I0512 19:31:21.516987 140321523668800 test_util.py:2308] time(__main__.ModelBuilderTF2Test.test_create_center_net_model0 (customize_head_params=True)): 2.0s\n",
      "[       OK ] ModelBuilderTF2Test.test_create_center_net_model0 (customize_head_params=True)\n",
      "[ RUN      ] ModelBuilderTF2Test.test_create_center_net_model1 (customize_head_params=False)\n",
      "INFO:tensorflow:time(__main__.ModelBuilderTF2Test.test_create_center_net_model1 (customize_head_params=False)): 1.0s\n",
      "I0512 19:31:22.519570 140321523668800 test_util.py:2308] time(__main__.ModelBuilderTF2Test.test_create_center_net_model1 (customize_head_params=False)): 1.0s\n",
      "[       OK ] ModelBuilderTF2Test.test_create_center_net_model1 (customize_head_params=False)\n",
      "[ RUN      ] ModelBuilderTF2Test.test_create_center_net_model_from_keypoints\n",
      "INFO:tensorflow:time(__main__.ModelBuilderTF2Test.test_create_center_net_model_from_keypoints): 0.58s\n",
      "I0512 19:31:23.102491 140321523668800 test_util.py:2308] time(__main__.ModelBuilderTF2Test.test_create_center_net_model_from_keypoints): 0.58s\n",
      "[       OK ] ModelBuilderTF2Test.test_create_center_net_model_from_keypoints\n",
      "[ RUN      ] ModelBuilderTF2Test.test_create_center_net_model_mobilenet\n",
      "INFO:tensorflow:time(__main__.ModelBuilderTF2Test.test_create_center_net_model_mobilenet): 6.19s\n",
      "I0512 19:31:29.288877 140321523668800 test_util.py:2308] time(__main__.ModelBuilderTF2Test.test_create_center_net_model_mobilenet): 6.19s\n",
      "[       OK ] ModelBuilderTF2Test.test_create_center_net_model_mobilenet\n",
      "[ RUN      ] ModelBuilderTF2Test.test_create_experimental_model\n",
      "INFO:tensorflow:time(__main__.ModelBuilderTF2Test.test_create_experimental_model): 0.0s\n",
      "I0512 19:31:29.292607 140321523668800 test_util.py:2308] time(__main__.ModelBuilderTF2Test.test_create_experimental_model): 0.0s\n",
      "[       OK ] ModelBuilderTF2Test.test_create_experimental_model\n",
      "[ RUN      ] ModelBuilderTF2Test.test_create_faster_rcnn_from_config_with_crop_feature0 (True)\n",
      "INFO:tensorflow:time(__main__.ModelBuilderTF2Test.test_create_faster_rcnn_from_config_with_crop_feature0 (True)): 0.1s\n",
      "I0512 19:31:29.390011 140321523668800 test_util.py:2308] time(__main__.ModelBuilderTF2Test.test_create_faster_rcnn_from_config_with_crop_feature0 (True)): 0.1s\n",
      "[       OK ] ModelBuilderTF2Test.test_create_faster_rcnn_from_config_with_crop_feature0 (True)\n",
      "[ RUN      ] ModelBuilderTF2Test.test_create_faster_rcnn_from_config_with_crop_feature1 (False)\n",
      "INFO:tensorflow:time(__main__.ModelBuilderTF2Test.test_create_faster_rcnn_from_config_with_crop_feature1 (False)): 0.07s\n",
      "I0512 19:31:29.457254 140321523668800 test_util.py:2308] time(__main__.ModelBuilderTF2Test.test_create_faster_rcnn_from_config_with_crop_feature1 (False)): 0.07s\n",
      "[       OK ] ModelBuilderTF2Test.test_create_faster_rcnn_from_config_with_crop_feature1 (False)\n",
      "[ RUN      ] ModelBuilderTF2Test.test_create_faster_rcnn_model_from_config_with_example_miner\n",
      "INFO:tensorflow:time(__main__.ModelBuilderTF2Test.test_create_faster_rcnn_model_from_config_with_example_miner): 0.08s\n",
      "I0512 19:31:29.538978 140321523668800 test_util.py:2308] time(__main__.ModelBuilderTF2Test.test_create_faster_rcnn_model_from_config_with_example_miner): 0.08s\n",
      "[       OK ] ModelBuilderTF2Test.test_create_faster_rcnn_model_from_config_with_example_miner\n",
      "[ RUN      ] ModelBuilderTF2Test.test_create_faster_rcnn_models_from_config_faster_rcnn_with_matmul\n",
      "INFO:tensorflow:time(__main__.ModelBuilderTF2Test.test_create_faster_rcnn_models_from_config_faster_rcnn_with_matmul): 0.42s\n",
      "I0512 19:31:29.959426 140321523668800 test_util.py:2308] time(__main__.ModelBuilderTF2Test.test_create_faster_rcnn_models_from_config_faster_rcnn_with_matmul): 0.42s\n",
      "[       OK ] ModelBuilderTF2Test.test_create_faster_rcnn_models_from_config_faster_rcnn_with_matmul\n",
      "[ RUN      ] ModelBuilderTF2Test.test_create_faster_rcnn_models_from_config_faster_rcnn_without_matmul\n",
      "INFO:tensorflow:time(__main__.ModelBuilderTF2Test.test_create_faster_rcnn_models_from_config_faster_rcnn_without_matmul): 0.33s\n",
      "I0512 19:31:30.286882 140321523668800 test_util.py:2308] time(__main__.ModelBuilderTF2Test.test_create_faster_rcnn_models_from_config_faster_rcnn_without_matmul): 0.33s\n",
      "[       OK ] ModelBuilderTF2Test.test_create_faster_rcnn_models_from_config_faster_rcnn_without_matmul\n",
      "[ RUN      ] ModelBuilderTF2Test.test_create_faster_rcnn_models_from_config_mask_rcnn_with_matmul\n",
      "INFO:tensorflow:time(__main__.ModelBuilderTF2Test.test_create_faster_rcnn_models_from_config_mask_rcnn_with_matmul): 0.28s\n",
      "I0512 19:31:30.563449 140321523668800 test_util.py:2308] time(__main__.ModelBuilderTF2Test.test_create_faster_rcnn_models_from_config_mask_rcnn_with_matmul): 0.28s\n",
      "[       OK ] ModelBuilderTF2Test.test_create_faster_rcnn_models_from_config_mask_rcnn_with_matmul\n",
      "[ RUN      ] ModelBuilderTF2Test.test_create_faster_rcnn_models_from_config_mask_rcnn_without_matmul\n",
      "INFO:tensorflow:time(__main__.ModelBuilderTF2Test.test_create_faster_rcnn_models_from_config_mask_rcnn_without_matmul): 0.27s\n",
      "I0512 19:31:30.834242 140321523668800 test_util.py:2308] time(__main__.ModelBuilderTF2Test.test_create_faster_rcnn_models_from_config_mask_rcnn_without_matmul): 0.27s\n",
      "[       OK ] ModelBuilderTF2Test.test_create_faster_rcnn_models_from_config_mask_rcnn_without_matmul\n",
      "[ RUN      ] ModelBuilderTF2Test.test_create_rfcn_model_from_config\n",
      "INFO:tensorflow:time(__main__.ModelBuilderTF2Test.test_create_rfcn_model_from_config): 0.19s\n",
      "I0512 19:31:31.024898 140321523668800 test_util.py:2308] time(__main__.ModelBuilderTF2Test.test_create_rfcn_model_from_config): 0.19s\n",
      "[       OK ] ModelBuilderTF2Test.test_create_rfcn_model_from_config\n",
      "[ RUN      ] ModelBuilderTF2Test.test_create_ssd_fpn_model_from_config\n",
      "INFO:tensorflow:time(__main__.ModelBuilderTF2Test.test_create_ssd_fpn_model_from_config): 0.05s\n",
      "I0512 19:31:31.078893 140321523668800 test_util.py:2308] time(__main__.ModelBuilderTF2Test.test_create_ssd_fpn_model_from_config): 0.05s\n",
      "[       OK ] ModelBuilderTF2Test.test_create_ssd_fpn_model_from_config\n",
      "[ RUN      ] ModelBuilderTF2Test.test_create_ssd_models_from_config\n",
      "I0512 19:31:31.435933 140321523668800 ssd_efficientnet_bifpn_feature_extractor.py:145] EfficientDet EfficientNet backbone version: efficientnet-b0\n",
      "I0512 19:31:31.436213 140321523668800 ssd_efficientnet_bifpn_feature_extractor.py:147] EfficientDet BiFPN num filters: 64\n",
      "I0512 19:31:31.436338 140321523668800 ssd_efficientnet_bifpn_feature_extractor.py:148] EfficientDet BiFPN num iterations: 3\n",
      "I0512 19:31:31.440680 140321523668800 efficientnet_model.py:143] round_filter input=32 output=32\n",
      "I0512 19:31:31.471974 140321523668800 efficientnet_model.py:143] round_filter input=32 output=32\n",
      "I0512 19:31:31.472247 140321523668800 efficientnet_model.py:143] round_filter input=16 output=16\n",
      "I0512 19:31:31.584443 140321523668800 efficientnet_model.py:143] round_filter input=16 output=16\n",
      "I0512 19:31:31.584690 140321523668800 efficientnet_model.py:143] round_filter input=24 output=24\n",
      "I0512 19:31:31.874822 140321523668800 efficientnet_model.py:143] round_filter input=24 output=24\n",
      "I0512 19:31:31.875100 140321523668800 efficientnet_model.py:143] round_filter input=40 output=40\n",
      "I0512 19:31:32.203773 140321523668800 efficientnet_model.py:143] round_filter input=40 output=40\n",
      "I0512 19:31:32.204115 140321523668800 efficientnet_model.py:143] round_filter input=80 output=80\n"
     ]
    },
    {
     "name": "stderr",
     "output_type": "stream",
     "text": [
      "I0512 19:31:32.777572 140321523668800 efficientnet_model.py:143] round_filter input=80 output=80\n",
      "I0512 19:31:32.777819 140321523668800 efficientnet_model.py:143] round_filter input=112 output=112\n",
      "I0512 19:31:33.694101 140321523668800 efficientnet_model.py:143] round_filter input=112 output=112\n",
      "I0512 19:31:33.694560 140321523668800 efficientnet_model.py:143] round_filter input=192 output=192\n",
      "I0512 19:31:35.845113 140321523668800 efficientnet_model.py:143] round_filter input=192 output=192\n",
      "I0512 19:31:35.845371 140321523668800 efficientnet_model.py:143] round_filter input=320 output=320\n",
      "I0512 19:31:36.026158 140321523668800 efficientnet_model.py:143] round_filter input=1280 output=1280\n",
      "I0512 19:31:36.101779 140321523668800 efficientnet_model.py:453] Building model efficientnet with params ModelConfig(width_coefficient=1.0, depth_coefficient=1.0, resolution=224, dropout_rate=0.2, blocks=(BlockConfig(input_filters=32, output_filters=16, kernel_size=3, num_repeat=1, expand_ratio=1, strides=(1, 1), se_ratio=0.25, id_skip=True, fused_conv=False, conv_type='depthwise'), BlockConfig(input_filters=16, output_filters=24, kernel_size=3, num_repeat=2, expand_ratio=6, strides=(2, 2), se_ratio=0.25, id_skip=True, fused_conv=False, conv_type='depthwise'), BlockConfig(input_filters=24, output_filters=40, kernel_size=5, num_repeat=2, expand_ratio=6, strides=(2, 2), se_ratio=0.25, id_skip=True, fused_conv=False, conv_type='depthwise'), BlockConfig(input_filters=40, output_filters=80, kernel_size=3, num_repeat=3, expand_ratio=6, strides=(2, 2), se_ratio=0.25, id_skip=True, fused_conv=False, conv_type='depthwise'), BlockConfig(input_filters=80, output_filters=112, kernel_size=5, num_repeat=3, expand_ratio=6, strides=(1, 1), se_ratio=0.25, id_skip=True, fused_conv=False, conv_type='depthwise'), BlockConfig(input_filters=112, output_filters=192, kernel_size=5, num_repeat=4, expand_ratio=6, strides=(2, 2), se_ratio=0.25, id_skip=True, fused_conv=False, conv_type='depthwise'), BlockConfig(input_filters=192, output_filters=320, kernel_size=3, num_repeat=1, expand_ratio=6, strides=(1, 1), se_ratio=0.25, id_skip=True, fused_conv=False, conv_type='depthwise')), stem_base_filters=32, top_base_filters=1280, activation='simple_swish', batch_norm='default', bn_momentum=0.99, bn_epsilon=0.001, weight_decay=5e-06, drop_connect_rate=0.2, depth_divisor=8, min_depth=None, use_se=True, input_channels=3, num_classes=1000, model_name='efficientnet', rescale_input=False, data_format='channels_last', dtype='float32')\n",
      "I0512 19:31:36.203678 140321523668800 ssd_efficientnet_bifpn_feature_extractor.py:145] EfficientDet EfficientNet backbone version: efficientnet-b1\n",
      "I0512 19:31:36.203963 140321523668800 ssd_efficientnet_bifpn_feature_extractor.py:147] EfficientDet BiFPN num filters: 88\n",
      "I0512 19:31:36.204091 140321523668800 ssd_efficientnet_bifpn_feature_extractor.py:148] EfficientDet BiFPN num iterations: 4\n",
      "I0512 19:31:36.207280 140321523668800 efficientnet_model.py:143] round_filter input=32 output=32\n",
      "I0512 19:31:36.239020 140321523668800 efficientnet_model.py:143] round_filter input=32 output=32\n",
      "I0512 19:31:36.239264 140321523668800 efficientnet_model.py:143] round_filter input=16 output=16\n",
      "I0512 19:31:36.606548 140321523668800 efficientnet_model.py:143] round_filter input=16 output=16\n",
      "I0512 19:31:36.606989 140321523668800 efficientnet_model.py:143] round_filter input=24 output=24\n",
      "I0512 19:31:37.534896 140321523668800 efficientnet_model.py:143] round_filter input=24 output=24\n",
      "I0512 19:31:37.535524 140321523668800 efficientnet_model.py:143] round_filter input=40 output=40\n",
      "I0512 19:31:38.849985 140321523668800 efficientnet_model.py:143] round_filter input=40 output=40\n",
      "I0512 19:31:38.853104 140321523668800 efficientnet_model.py:143] round_filter input=80 output=80\n",
      "I0512 19:31:40.384536 140321523668800 efficientnet_model.py:143] round_filter input=80 output=80\n",
      "I0512 19:31:40.384951 140321523668800 efficientnet_model.py:143] round_filter input=112 output=112\n",
      "I0512 19:31:41.870908 140321523668800 efficientnet_model.py:143] round_filter input=112 output=112\n",
      "I0512 19:31:41.871336 140321523668800 efficientnet_model.py:143] round_filter input=192 output=192\n",
      "I0512 19:31:43.867561 140321523668800 efficientnet_model.py:143] round_filter input=192 output=192\n",
      "I0512 19:31:43.868034 140321523668800 efficientnet_model.py:143] round_filter input=320 output=320\n",
      "I0512 19:31:44.697726 140321523668800 efficientnet_model.py:143] round_filter input=1280 output=1280\n",
      "I0512 19:31:44.897261 140321523668800 efficientnet_model.py:453] Building model efficientnet with params ModelConfig(width_coefficient=1.0, depth_coefficient=1.1, resolution=240, dropout_rate=0.2, blocks=(BlockConfig(input_filters=32, output_filters=16, kernel_size=3, num_repeat=1, expand_ratio=1, strides=(1, 1), se_ratio=0.25, id_skip=True, fused_conv=False, conv_type='depthwise'), BlockConfig(input_filters=16, output_filters=24, kernel_size=3, num_repeat=2, expand_ratio=6, strides=(2, 2), se_ratio=0.25, id_skip=True, fused_conv=False, conv_type='depthwise'), BlockConfig(input_filters=24, output_filters=40, kernel_size=5, num_repeat=2, expand_ratio=6, strides=(2, 2), se_ratio=0.25, id_skip=True, fused_conv=False, conv_type='depthwise'), BlockConfig(input_filters=40, output_filters=80, kernel_size=3, num_repeat=3, expand_ratio=6, strides=(2, 2), se_ratio=0.25, id_skip=True, fused_conv=False, conv_type='depthwise'), BlockConfig(input_filters=80, output_filters=112, kernel_size=5, num_repeat=3, expand_ratio=6, strides=(1, 1), se_ratio=0.25, id_skip=True, fused_conv=False, conv_type='depthwise'), BlockConfig(input_filters=112, output_filters=192, kernel_size=5, num_repeat=4, expand_ratio=6, strides=(2, 2), se_ratio=0.25, id_skip=True, fused_conv=False, conv_type='depthwise'), BlockConfig(input_filters=192, output_filters=320, kernel_size=3, num_repeat=1, expand_ratio=6, strides=(1, 1), se_ratio=0.25, id_skip=True, fused_conv=False, conv_type='depthwise')), stem_base_filters=32, top_base_filters=1280, activation='simple_swish', batch_norm='default', bn_momentum=0.99, bn_epsilon=0.001, weight_decay=5e-06, drop_connect_rate=0.2, depth_divisor=8, min_depth=None, use_se=True, input_channels=3, num_classes=1000, model_name='efficientnet', rescale_input=False, data_format='channels_last', dtype='float32')\n",
      "I0512 19:31:45.174432 140321523668800 ssd_efficientnet_bifpn_feature_extractor.py:145] EfficientDet EfficientNet backbone version: efficientnet-b2\n",
      "I0512 19:31:45.174846 140321523668800 ssd_efficientnet_bifpn_feature_extractor.py:147] EfficientDet BiFPN num filters: 112\n",
      "I0512 19:31:45.175082 140321523668800 ssd_efficientnet_bifpn_feature_extractor.py:148] EfficientDet BiFPN num iterations: 5\n",
      "I0512 19:31:45.183664 140321523668800 efficientnet_model.py:143] round_filter input=32 output=32\n",
      "I0512 19:31:45.250088 140321523668800 efficientnet_model.py:143] round_filter input=32 output=32\n",
      "I0512 19:31:45.250547 140321523668800 efficientnet_model.py:143] round_filter input=16 output=16\n",
      "I0512 19:31:45.870103 140321523668800 efficientnet_model.py:143] round_filter input=16 output=16\n",
      "I0512 19:31:45.870596 140321523668800 efficientnet_model.py:143] round_filter input=24 output=24\n",
      "I0512 19:31:47.194921 140321523668800 efficientnet_model.py:143] round_filter input=24 output=24\n",
      "I0512 19:31:47.195490 140321523668800 efficientnet_model.py:143] round_filter input=40 output=48\n",
      "I0512 19:31:47.826725 140321523668800 efficientnet_model.py:143] round_filter input=40 output=48\n",
      "I0512 19:31:47.827051 140321523668800 efficientnet_model.py:143] round_filter input=80 output=88\n",
      "I0512 19:31:48.595810 140321523668800 efficientnet_model.py:143] round_filter input=80 output=88\n",
      "I0512 19:31:48.596098 140321523668800 efficientnet_model.py:143] round_filter input=112 output=120\n",
      "I0512 19:31:49.833693 140321523668800 efficientnet_model.py:143] round_filter input=112 output=120\n",
      "I0512 19:31:49.834276 140321523668800 efficientnet_model.py:143] round_filter input=192 output=208\n",
      "I0512 19:31:51.639011 140321523668800 efficientnet_model.py:143] round_filter input=192 output=208\n",
      "I0512 19:31:51.639485 140321523668800 efficientnet_model.py:143] round_filter input=320 output=352\n",
      "I0512 19:31:53.126899 140321523668800 efficientnet_model.py:143] round_filter input=1280 output=1408\n"
     ]
    },
    {
     "name": "stderr",
     "output_type": "stream",
     "text": [
      "I0512 19:31:53.311765 140321523668800 efficientnet_model.py:453] Building model efficientnet with params ModelConfig(width_coefficient=1.1, depth_coefficient=1.2, resolution=260, dropout_rate=0.3, blocks=(BlockConfig(input_filters=32, output_filters=16, kernel_size=3, num_repeat=1, expand_ratio=1, strides=(1, 1), se_ratio=0.25, id_skip=True, fused_conv=False, conv_type='depthwise'), BlockConfig(input_filters=16, output_filters=24, kernel_size=3, num_repeat=2, expand_ratio=6, strides=(2, 2), se_ratio=0.25, id_skip=True, fused_conv=False, conv_type='depthwise'), BlockConfig(input_filters=24, output_filters=40, kernel_size=5, num_repeat=2, expand_ratio=6, strides=(2, 2), se_ratio=0.25, id_skip=True, fused_conv=False, conv_type='depthwise'), BlockConfig(input_filters=40, output_filters=80, kernel_size=3, num_repeat=3, expand_ratio=6, strides=(2, 2), se_ratio=0.25, id_skip=True, fused_conv=False, conv_type='depthwise'), BlockConfig(input_filters=80, output_filters=112, kernel_size=5, num_repeat=3, expand_ratio=6, strides=(1, 1), se_ratio=0.25, id_skip=True, fused_conv=False, conv_type='depthwise'), BlockConfig(input_filters=112, output_filters=192, kernel_size=5, num_repeat=4, expand_ratio=6, strides=(2, 2), se_ratio=0.25, id_skip=True, fused_conv=False, conv_type='depthwise'), BlockConfig(input_filters=192, output_filters=320, kernel_size=3, num_repeat=1, expand_ratio=6, strides=(1, 1), se_ratio=0.25, id_skip=True, fused_conv=False, conv_type='depthwise')), stem_base_filters=32, top_base_filters=1280, activation='simple_swish', batch_norm='default', bn_momentum=0.99, bn_epsilon=0.001, weight_decay=5e-06, drop_connect_rate=0.2, depth_divisor=8, min_depth=None, use_se=True, input_channels=3, num_classes=1000, model_name='efficientnet', rescale_input=False, data_format='channels_last', dtype='float32')\n",
      "I0512 19:31:53.633710 140321523668800 ssd_efficientnet_bifpn_feature_extractor.py:145] EfficientDet EfficientNet backbone version: efficientnet-b3\n",
      "I0512 19:31:53.634145 140321523668800 ssd_efficientnet_bifpn_feature_extractor.py:147] EfficientDet BiFPN num filters: 160\n",
      "I0512 19:31:53.634466 140321523668800 ssd_efficientnet_bifpn_feature_extractor.py:148] EfficientDet BiFPN num iterations: 6\n",
      "I0512 19:31:53.643750 140321523668800 efficientnet_model.py:143] round_filter input=32 output=40\n",
      "I0512 19:31:53.723407 140321523668800 efficientnet_model.py:143] round_filter input=32 output=40\n",
      "I0512 19:31:53.724051 140321523668800 efficientnet_model.py:143] round_filter input=16 output=24\n",
      "I0512 19:31:54.069221 140321523668800 efficientnet_model.py:143] round_filter input=16 output=24\n",
      "I0512 19:31:54.069557 140321523668800 efficientnet_model.py:143] round_filter input=24 output=32\n",
      "I0512 19:31:54.601336 140321523668800 efficientnet_model.py:143] round_filter input=24 output=32\n",
      "I0512 19:31:54.601614 140321523668800 efficientnet_model.py:143] round_filter input=40 output=48\n",
      "I0512 19:31:55.372078 140321523668800 efficientnet_model.py:143] round_filter input=40 output=48\n",
      "I0512 19:31:55.372541 140321523668800 efficientnet_model.py:143] round_filter input=80 output=96\n",
      "I0512 19:31:57.671418 140321523668800 efficientnet_model.py:143] round_filter input=80 output=96\n",
      "I0512 19:31:57.671885 140321523668800 efficientnet_model.py:143] round_filter input=112 output=136\n",
      "I0512 19:31:59.972140 140321523668800 efficientnet_model.py:143] round_filter input=112 output=136\n",
      "I0512 19:31:59.972846 140321523668800 efficientnet_model.py:143] round_filter input=192 output=232\n",
      "I0512 19:32:02.679116 140321523668800 efficientnet_model.py:143] round_filter input=192 output=232\n",
      "I0512 19:32:02.680091 140321523668800 efficientnet_model.py:143] round_filter input=320 output=384\n",
      "I0512 19:32:03.870200 140321523668800 efficientnet_model.py:143] round_filter input=1280 output=1536\n",
      "I0512 19:32:04.055986 140321523668800 efficientnet_model.py:453] Building model efficientnet with params ModelConfig(width_coefficient=1.2, depth_coefficient=1.4, resolution=300, dropout_rate=0.3, blocks=(BlockConfig(input_filters=32, output_filters=16, kernel_size=3, num_repeat=1, expand_ratio=1, strides=(1, 1), se_ratio=0.25, id_skip=True, fused_conv=False, conv_type='depthwise'), BlockConfig(input_filters=16, output_filters=24, kernel_size=3, num_repeat=2, expand_ratio=6, strides=(2, 2), se_ratio=0.25, id_skip=True, fused_conv=False, conv_type='depthwise'), BlockConfig(input_filters=24, output_filters=40, kernel_size=5, num_repeat=2, expand_ratio=6, strides=(2, 2), se_ratio=0.25, id_skip=True, fused_conv=False, conv_type='depthwise'), BlockConfig(input_filters=40, output_filters=80, kernel_size=3, num_repeat=3, expand_ratio=6, strides=(2, 2), se_ratio=0.25, id_skip=True, fused_conv=False, conv_type='depthwise'), BlockConfig(input_filters=80, output_filters=112, kernel_size=5, num_repeat=3, expand_ratio=6, strides=(1, 1), se_ratio=0.25, id_skip=True, fused_conv=False, conv_type='depthwise'), BlockConfig(input_filters=112, output_filters=192, kernel_size=5, num_repeat=4, expand_ratio=6, strides=(2, 2), se_ratio=0.25, id_skip=True, fused_conv=False, conv_type='depthwise'), BlockConfig(input_filters=192, output_filters=320, kernel_size=3, num_repeat=1, expand_ratio=6, strides=(1, 1), se_ratio=0.25, id_skip=True, fused_conv=False, conv_type='depthwise')), stem_base_filters=32, top_base_filters=1280, activation='simple_swish', batch_norm='default', bn_momentum=0.99, bn_epsilon=0.001, weight_decay=5e-06, drop_connect_rate=0.2, depth_divisor=8, min_depth=None, use_se=True, input_channels=3, num_classes=1000, model_name='efficientnet', rescale_input=False, data_format='channels_last', dtype='float32')\n",
      "I0512 19:32:04.336889 140321523668800 ssd_efficientnet_bifpn_feature_extractor.py:145] EfficientDet EfficientNet backbone version: efficientnet-b4\n",
      "I0512 19:32:04.337368 140321523668800 ssd_efficientnet_bifpn_feature_extractor.py:147] EfficientDet BiFPN num filters: 224\n",
      "I0512 19:32:04.337616 140321523668800 ssd_efficientnet_bifpn_feature_extractor.py:148] EfficientDet BiFPN num iterations: 7\n",
      "I0512 19:32:04.345649 140321523668800 efficientnet_model.py:143] round_filter input=32 output=48\n",
      "I0512 19:32:04.406183 140321523668800 efficientnet_model.py:143] round_filter input=32 output=48\n",
      "I0512 19:32:04.406598 140321523668800 efficientnet_model.py:143] round_filter input=16 output=24\n",
      "I0512 19:32:04.858989 140321523668800 efficientnet_model.py:143] round_filter input=16 output=24\n",
      "I0512 19:32:04.859290 140321523668800 efficientnet_model.py:143] round_filter input=24 output=32\n",
      "I0512 19:32:05.486523 140321523668800 efficientnet_model.py:143] round_filter input=24 output=32\n",
      "I0512 19:32:05.486780 140321523668800 efficientnet_model.py:143] round_filter input=40 output=56\n",
      "I0512 19:32:06.096271 140321523668800 efficientnet_model.py:143] round_filter input=40 output=56\n",
      "I0512 19:32:06.096551 140321523668800 efficientnet_model.py:143] round_filter input=80 output=112\n",
      "I0512 19:32:07.872573 140321523668800 efficientnet_model.py:143] round_filter input=80 output=112\n",
      "I0512 19:32:07.872871 140321523668800 efficientnet_model.py:143] round_filter input=112 output=160\n",
      "I0512 19:32:09.416433 140321523668800 efficientnet_model.py:143] round_filter input=112 output=160\n",
      "I0512 19:32:09.417013 140321523668800 efficientnet_model.py:143] round_filter input=192 output=272\n",
      "I0512 19:32:12.769460 140321523668800 efficientnet_model.py:143] round_filter input=192 output=272\n",
      "I0512 19:32:12.769808 140321523668800 efficientnet_model.py:143] round_filter input=320 output=448\n",
      "I0512 19:32:13.513871 140321523668800 efficientnet_model.py:143] round_filter input=1280 output=1792\n",
      "I0512 19:32:13.682880 140321523668800 efficientnet_model.py:453] Building model efficientnet with params ModelConfig(width_coefficient=1.4, depth_coefficient=1.8, resolution=380, dropout_rate=0.4, blocks=(BlockConfig(input_filters=32, output_filters=16, kernel_size=3, num_repeat=1, expand_ratio=1, strides=(1, 1), se_ratio=0.25, id_skip=True, fused_conv=False, conv_type='depthwise'), BlockConfig(input_filters=16, output_filters=24, kernel_size=3, num_repeat=2, expand_ratio=6, strides=(2, 2), se_ratio=0.25, id_skip=True, fused_conv=False, conv_type='depthwise'), BlockConfig(input_filters=24, output_filters=40, kernel_size=5, num_repeat=2, expand_ratio=6, strides=(2, 2), se_ratio=0.25, id_skip=True, fused_conv=False, conv_type='depthwise'), BlockConfig(input_filters=40, output_filters=80, kernel_size=3, num_repeat=3, expand_ratio=6, strides=(2, 2), se_ratio=0.25, id_skip=True, fused_conv=False, conv_type='depthwise'), BlockConfig(input_filters=80, output_filters=112, kernel_size=5, num_repeat=3, expand_ratio=6, strides=(1, 1), se_ratio=0.25, id_skip=True, fused_conv=False, conv_type='depthwise'), BlockConfig(input_filters=112, output_filters=192, kernel_size=5, num_repeat=4, expand_ratio=6, strides=(2, 2), se_ratio=0.25, id_skip=True, fused_conv=False, conv_type='depthwise'), BlockConfig(input_filters=192, output_filters=320, kernel_size=3, num_repeat=1, expand_ratio=6, strides=(1, 1), se_ratio=0.25, id_skip=True, fused_conv=False, conv_type='depthwise')), stem_base_filters=32, top_base_filters=1280, activation='simple_swish', batch_norm='default', bn_momentum=0.99, bn_epsilon=0.001, weight_decay=5e-06, drop_connect_rate=0.2, depth_divisor=8, min_depth=None, use_se=True, input_channels=3, num_classes=1000, model_name='efficientnet', rescale_input=False, data_format='channels_last', dtype='float32')\n"
     ]
    },
    {
     "name": "stderr",
     "output_type": "stream",
     "text": [
      "I0512 19:32:14.004487 140321523668800 ssd_efficientnet_bifpn_feature_extractor.py:145] EfficientDet EfficientNet backbone version: efficientnet-b5\n",
      "I0512 19:32:14.005007 140321523668800 ssd_efficientnet_bifpn_feature_extractor.py:147] EfficientDet BiFPN num filters: 288\n",
      "I0512 19:32:14.005247 140321523668800 ssd_efficientnet_bifpn_feature_extractor.py:148] EfficientDet BiFPN num iterations: 7\n",
      "I0512 19:32:14.012450 140321523668800 efficientnet_model.py:143] round_filter input=32 output=48\n",
      "I0512 19:32:14.078085 140321523668800 efficientnet_model.py:143] round_filter input=32 output=48\n",
      "I0512 19:32:14.078506 140321523668800 efficientnet_model.py:143] round_filter input=16 output=24\n",
      "I0512 19:32:15.195078 140321523668800 efficientnet_model.py:143] round_filter input=16 output=24\n",
      "I0512 19:32:15.195724 140321523668800 efficientnet_model.py:143] round_filter input=24 output=40\n",
      "I0512 19:32:16.693718 140321523668800 efficientnet_model.py:143] round_filter input=24 output=40\n",
      "I0512 19:32:16.694036 140321523668800 efficientnet_model.py:143] round_filter input=40 output=64\n",
      "I0512 19:32:18.182923 140321523668800 efficientnet_model.py:143] round_filter input=40 output=64\n",
      "I0512 19:32:18.183347 140321523668800 efficientnet_model.py:143] round_filter input=80 output=128\n",
      "I0512 19:32:21.158265 140321523668800 efficientnet_model.py:143] round_filter input=80 output=128\n",
      "I0512 19:32:21.158733 140321523668800 efficientnet_model.py:143] round_filter input=112 output=176\n",
      "I0512 19:32:23.637715 140321523668800 efficientnet_model.py:143] round_filter input=112 output=176\n",
      "I0512 19:32:23.638244 140321523668800 efficientnet_model.py:143] round_filter input=192 output=304\n",
      "I0512 19:32:26.903618 140321523668800 efficientnet_model.py:143] round_filter input=192 output=304\n",
      "I0512 19:32:26.904476 140321523668800 efficientnet_model.py:143] round_filter input=320 output=512\n",
      "I0512 19:32:28.271076 140321523668800 efficientnet_model.py:143] round_filter input=1280 output=2048\n",
      "I0512 19:32:28.450931 140321523668800 efficientnet_model.py:453] Building model efficientnet with params ModelConfig(width_coefficient=1.6, depth_coefficient=2.2, resolution=456, dropout_rate=0.4, blocks=(BlockConfig(input_filters=32, output_filters=16, kernel_size=3, num_repeat=1, expand_ratio=1, strides=(1, 1), se_ratio=0.25, id_skip=True, fused_conv=False, conv_type='depthwise'), BlockConfig(input_filters=16, output_filters=24, kernel_size=3, num_repeat=2, expand_ratio=6, strides=(2, 2), se_ratio=0.25, id_skip=True, fused_conv=False, conv_type='depthwise'), BlockConfig(input_filters=24, output_filters=40, kernel_size=5, num_repeat=2, expand_ratio=6, strides=(2, 2), se_ratio=0.25, id_skip=True, fused_conv=False, conv_type='depthwise'), BlockConfig(input_filters=40, output_filters=80, kernel_size=3, num_repeat=3, expand_ratio=6, strides=(2, 2), se_ratio=0.25, id_skip=True, fused_conv=False, conv_type='depthwise'), BlockConfig(input_filters=80, output_filters=112, kernel_size=5, num_repeat=3, expand_ratio=6, strides=(1, 1), se_ratio=0.25, id_skip=True, fused_conv=False, conv_type='depthwise'), BlockConfig(input_filters=112, output_filters=192, kernel_size=5, num_repeat=4, expand_ratio=6, strides=(2, 2), se_ratio=0.25, id_skip=True, fused_conv=False, conv_type='depthwise'), BlockConfig(input_filters=192, output_filters=320, kernel_size=3, num_repeat=1, expand_ratio=6, strides=(1, 1), se_ratio=0.25, id_skip=True, fused_conv=False, conv_type='depthwise')), stem_base_filters=32, top_base_filters=1280, activation='simple_swish', batch_norm='default', bn_momentum=0.99, bn_epsilon=0.001, weight_decay=5e-06, drop_connect_rate=0.2, depth_divisor=8, min_depth=None, use_se=True, input_channels=3, num_classes=1000, model_name='efficientnet', rescale_input=False, data_format='channels_last', dtype='float32')\n",
      "I0512 19:32:28.823457 140321523668800 ssd_efficientnet_bifpn_feature_extractor.py:145] EfficientDet EfficientNet backbone version: efficientnet-b6\n",
      "I0512 19:32:28.823722 140321523668800 ssd_efficientnet_bifpn_feature_extractor.py:147] EfficientDet BiFPN num filters: 384\n",
      "I0512 19:32:28.823876 140321523668800 ssd_efficientnet_bifpn_feature_extractor.py:148] EfficientDet BiFPN num iterations: 8\n",
      "I0512 19:32:28.827478 140321523668800 efficientnet_model.py:143] round_filter input=32 output=56\n",
      "I0512 19:32:28.862344 140321523668800 efficientnet_model.py:143] round_filter input=32 output=56\n",
      "I0512 19:32:28.862590 140321523668800 efficientnet_model.py:143] round_filter input=16 output=32\n",
      "I0512 19:32:29.234130 140321523668800 efficientnet_model.py:143] round_filter input=16 output=32\n",
      "I0512 19:32:29.234419 140321523668800 efficientnet_model.py:143] round_filter input=24 output=40\n",
      "I0512 19:32:31.731667 140321523668800 efficientnet_model.py:143] round_filter input=24 output=40\n",
      "I0512 19:32:31.732181 140321523668800 efficientnet_model.py:143] round_filter input=40 output=72\n",
      "I0512 19:32:34.385821 140321523668800 efficientnet_model.py:143] round_filter input=40 output=72\n",
      "I0512 19:32:34.386313 140321523668800 efficientnet_model.py:143] round_filter input=80 output=144\n",
      "I0512 19:32:36.363605 140321523668800 efficientnet_model.py:143] round_filter input=80 output=144\n",
      "I0512 19:32:36.364211 140321523668800 efficientnet_model.py:143] round_filter input=112 output=200\n",
      "I0512 19:32:39.670141 140321523668800 efficientnet_model.py:143] round_filter input=112 output=200\n",
      "I0512 19:32:39.670401 140321523668800 efficientnet_model.py:143] round_filter input=192 output=344\n",
      "I0512 19:32:42.311020 140321523668800 efficientnet_model.py:143] round_filter input=192 output=344\n",
      "I0512 19:32:42.313013 140321523668800 efficientnet_model.py:143] round_filter input=320 output=576\n",
      "I0512 19:32:43.180987 140321523668800 efficientnet_model.py:143] round_filter input=1280 output=2304\n",
      "I0512 19:32:43.296586 140321523668800 efficientnet_model.py:453] Building model efficientnet with params ModelConfig(width_coefficient=1.8, depth_coefficient=2.6, resolution=528, dropout_rate=0.5, blocks=(BlockConfig(input_filters=32, output_filters=16, kernel_size=3, num_repeat=1, expand_ratio=1, strides=(1, 1), se_ratio=0.25, id_skip=True, fused_conv=False, conv_type='depthwise'), BlockConfig(input_filters=16, output_filters=24, kernel_size=3, num_repeat=2, expand_ratio=6, strides=(2, 2), se_ratio=0.25, id_skip=True, fused_conv=False, conv_type='depthwise'), BlockConfig(input_filters=24, output_filters=40, kernel_size=5, num_repeat=2, expand_ratio=6, strides=(2, 2), se_ratio=0.25, id_skip=True, fused_conv=False, conv_type='depthwise'), BlockConfig(input_filters=40, output_filters=80, kernel_size=3, num_repeat=3, expand_ratio=6, strides=(2, 2), se_ratio=0.25, id_skip=True, fused_conv=False, conv_type='depthwise'), BlockConfig(input_filters=80, output_filters=112, kernel_size=5, num_repeat=3, expand_ratio=6, strides=(1, 1), se_ratio=0.25, id_skip=True, fused_conv=False, conv_type='depthwise'), BlockConfig(input_filters=112, output_filters=192, kernel_size=5, num_repeat=4, expand_ratio=6, strides=(2, 2), se_ratio=0.25, id_skip=True, fused_conv=False, conv_type='depthwise'), BlockConfig(input_filters=192, output_filters=320, kernel_size=3, num_repeat=1, expand_ratio=6, strides=(1, 1), se_ratio=0.25, id_skip=True, fused_conv=False, conv_type='depthwise')), stem_base_filters=32, top_base_filters=1280, activation='simple_swish', batch_norm='default', bn_momentum=0.99, bn_epsilon=0.001, weight_decay=5e-06, drop_connect_rate=0.2, depth_divisor=8, min_depth=None, use_se=True, input_channels=3, num_classes=1000, model_name='efficientnet', rescale_input=False, data_format='channels_last', dtype='float32')\n",
      "I0512 19:32:43.679196 140321523668800 ssd_efficientnet_bifpn_feature_extractor.py:145] EfficientDet EfficientNet backbone version: efficientnet-b7\n",
      "I0512 19:32:43.679512 140321523668800 ssd_efficientnet_bifpn_feature_extractor.py:147] EfficientDet BiFPN num filters: 384\n",
      "I0512 19:32:43.679673 140321523668800 ssd_efficientnet_bifpn_feature_extractor.py:148] EfficientDet BiFPN num iterations: 8\n",
      "I0512 19:32:43.687023 140321523668800 efficientnet_model.py:143] round_filter input=32 output=64\n",
      "I0512 19:32:43.733991 140321523668800 efficientnet_model.py:143] round_filter input=32 output=64\n",
      "I0512 19:32:43.734323 140321523668800 efficientnet_model.py:143] round_filter input=16 output=32\n"
     ]
    },
    {
     "name": "stderr",
     "output_type": "stream",
     "text": [
      "I0512 19:32:44.910583 140321523668800 efficientnet_model.py:143] round_filter input=16 output=32\n",
      "I0512 19:32:44.911020 140321523668800 efficientnet_model.py:143] round_filter input=24 output=48\n",
      "I0512 19:32:47.372427 140321523668800 efficientnet_model.py:143] round_filter input=24 output=48\n",
      "I0512 19:32:47.372982 140321523668800 efficientnet_model.py:143] round_filter input=40 output=80\n",
      "I0512 19:32:51.392510 140321523668800 efficientnet_model.py:143] round_filter input=40 output=80\n",
      "I0512 19:32:51.395925 140321523668800 efficientnet_model.py:143] round_filter input=80 output=160\n",
      "I0512 19:32:55.761278 140321523668800 efficientnet_model.py:143] round_filter input=80 output=160\n",
      "I0512 19:32:55.761800 140321523668800 efficientnet_model.py:143] round_filter input=112 output=224\n",
      "I0512 19:32:58.745567 140321523668800 efficientnet_model.py:143] round_filter input=112 output=224\n",
      "I0512 19:32:58.745892 140321523668800 efficientnet_model.py:143] round_filter input=192 output=384\n",
      "I0512 19:33:02.916111 140321523668800 efficientnet_model.py:143] round_filter input=192 output=384\n",
      "I0512 19:33:02.922168 140321523668800 efficientnet_model.py:143] round_filter input=320 output=640\n",
      "I0512 19:33:04.644178 140321523668800 efficientnet_model.py:143] round_filter input=1280 output=2560\n",
      "I0512 19:33:04.780524 140321523668800 efficientnet_model.py:453] Building model efficientnet with params ModelConfig(width_coefficient=2.0, depth_coefficient=3.1, resolution=600, dropout_rate=0.5, blocks=(BlockConfig(input_filters=32, output_filters=16, kernel_size=3, num_repeat=1, expand_ratio=1, strides=(1, 1), se_ratio=0.25, id_skip=True, fused_conv=False, conv_type='depthwise'), BlockConfig(input_filters=16, output_filters=24, kernel_size=3, num_repeat=2, expand_ratio=6, strides=(2, 2), se_ratio=0.25, id_skip=True, fused_conv=False, conv_type='depthwise'), BlockConfig(input_filters=24, output_filters=40, kernel_size=5, num_repeat=2, expand_ratio=6, strides=(2, 2), se_ratio=0.25, id_skip=True, fused_conv=False, conv_type='depthwise'), BlockConfig(input_filters=40, output_filters=80, kernel_size=3, num_repeat=3, expand_ratio=6, strides=(2, 2), se_ratio=0.25, id_skip=True, fused_conv=False, conv_type='depthwise'), BlockConfig(input_filters=80, output_filters=112, kernel_size=5, num_repeat=3, expand_ratio=6, strides=(1, 1), se_ratio=0.25, id_skip=True, fused_conv=False, conv_type='depthwise'), BlockConfig(input_filters=112, output_filters=192, kernel_size=5, num_repeat=4, expand_ratio=6, strides=(2, 2), se_ratio=0.25, id_skip=True, fused_conv=False, conv_type='depthwise'), BlockConfig(input_filters=192, output_filters=320, kernel_size=3, num_repeat=1, expand_ratio=6, strides=(1, 1), se_ratio=0.25, id_skip=True, fused_conv=False, conv_type='depthwise')), stem_base_filters=32, top_base_filters=1280, activation='simple_swish', batch_norm='default', bn_momentum=0.99, bn_epsilon=0.001, weight_decay=5e-06, drop_connect_rate=0.2, depth_divisor=8, min_depth=None, use_se=True, input_channels=3, num_classes=1000, model_name='efficientnet', rescale_input=False, data_format='channels_last', dtype='float32')\n",
      "INFO:tensorflow:time(__main__.ModelBuilderTF2Test.test_create_ssd_models_from_config): 94.03s\n",
      "I0512 19:33:05.106754 140321523668800 test_util.py:2308] time(__main__.ModelBuilderTF2Test.test_create_ssd_models_from_config): 94.03s\n",
      "[       OK ] ModelBuilderTF2Test.test_create_ssd_models_from_config\n",
      "[ RUN      ] ModelBuilderTF2Test.test_invalid_faster_rcnn_batchnorm_update\n",
      "INFO:tensorflow:time(__main__.ModelBuilderTF2Test.test_invalid_faster_rcnn_batchnorm_update): 0.01s\n",
      "I0512 19:33:05.129410 140321523668800 test_util.py:2308] time(__main__.ModelBuilderTF2Test.test_invalid_faster_rcnn_batchnorm_update): 0.01s\n",
      "[       OK ] ModelBuilderTF2Test.test_invalid_faster_rcnn_batchnorm_update\n",
      "[ RUN      ] ModelBuilderTF2Test.test_invalid_first_stage_nms_iou_threshold\n",
      "INFO:tensorflow:time(__main__.ModelBuilderTF2Test.test_invalid_first_stage_nms_iou_threshold): 0.0s\n",
      "I0512 19:33:05.133814 140321523668800 test_util.py:2308] time(__main__.ModelBuilderTF2Test.test_invalid_first_stage_nms_iou_threshold): 0.0s\n",
      "[       OK ] ModelBuilderTF2Test.test_invalid_first_stage_nms_iou_threshold\n",
      "[ RUN      ] ModelBuilderTF2Test.test_invalid_model_config_proto\n",
      "INFO:tensorflow:time(__main__.ModelBuilderTF2Test.test_invalid_model_config_proto): 0.0s\n",
      "I0512 19:33:05.134827 140321523668800 test_util.py:2308] time(__main__.ModelBuilderTF2Test.test_invalid_model_config_proto): 0.0s\n",
      "[       OK ] ModelBuilderTF2Test.test_invalid_model_config_proto\n",
      "[ RUN      ] ModelBuilderTF2Test.test_invalid_second_stage_batch_size\n",
      "INFO:tensorflow:time(__main__.ModelBuilderTF2Test.test_invalid_second_stage_batch_size): 0.0s\n",
      "I0512 19:33:05.139132 140321523668800 test_util.py:2308] time(__main__.ModelBuilderTF2Test.test_invalid_second_stage_batch_size): 0.0s\n",
      "[       OK ] ModelBuilderTF2Test.test_invalid_second_stage_batch_size\n",
      "[ RUN      ] ModelBuilderTF2Test.test_session\n",
      "[  SKIPPED ] ModelBuilderTF2Test.test_session\n",
      "[ RUN      ] ModelBuilderTF2Test.test_unknown_faster_rcnn_feature_extractor\n",
      "INFO:tensorflow:time(__main__.ModelBuilderTF2Test.test_unknown_faster_rcnn_feature_extractor): 0.0s\n",
      "I0512 19:33:05.143814 140321523668800 test_util.py:2308] time(__main__.ModelBuilderTF2Test.test_unknown_faster_rcnn_feature_extractor): 0.0s\n",
      "[       OK ] ModelBuilderTF2Test.test_unknown_faster_rcnn_feature_extractor\n",
      "[ RUN      ] ModelBuilderTF2Test.test_unknown_meta_architecture\n",
      "INFO:tensorflow:time(__main__.ModelBuilderTF2Test.test_unknown_meta_architecture): 0.0s\n",
      "I0512 19:33:05.144703 140321523668800 test_util.py:2308] time(__main__.ModelBuilderTF2Test.test_unknown_meta_architecture): 0.0s\n",
      "[       OK ] ModelBuilderTF2Test.test_unknown_meta_architecture\n",
      "[ RUN      ] ModelBuilderTF2Test.test_unknown_ssd_feature_extractor\n",
      "INFO:tensorflow:time(__main__.ModelBuilderTF2Test.test_unknown_ssd_feature_extractor): 0.0s\n",
      "I0512 19:33:05.147201 140321523668800 test_util.py:2308] time(__main__.ModelBuilderTF2Test.test_unknown_ssd_feature_extractor): 0.0s\n",
      "[       OK ] ModelBuilderTF2Test.test_unknown_ssd_feature_extractor\n",
      "----------------------------------------------------------------------\n",
      "Ran 24 tests in 107.206s\n",
      "\n",
      "OK (skipped=1)\n"
     ]
    }
   ],
   "source": [
    "%%bash\n",
    "cd models/research;\n",
    "pwd;\n",
    "echo \"before:${PYTHONPATH}\";\n",
    "export PYTHONPATH=${PYTHONPATH}:/tf/notebook/models:/tf/notebook/models/research\n",
    "echo \"after:${PYTHONPATH}\";\n",
    "python object_detection/builders/model_builder_tf2_test.py"
   ]
  },
  {
   "cell_type": "markdown",
   "metadata": {},
   "source": [
    "\n",
    "# Notes\n",
    "cd /tf/notebook/models/research\n"
   ]
  },
  {
   "cell_type": "code",
   "execution_count": null,
   "metadata": {},
   "outputs": [],
   "source": []
  }
 ],
 "metadata": {
  "accelerator": "GPU",
  "colab": {
   "collapsed_sections": [],
   "last_runtime": {
    "build_target": "//learning/brain/python/client:colab_notebook",
    "kind": "private"
   },
   "name": "object_detection_tutorial.ipynb",
   "private_outputs": true,
   "provenance": [
    {
     "file_id": "/piper/depot/google3/third_party/tensorflow_models/object_detection/colab_tutorials/object_detection_tutorial.ipynb",
     "timestamp": 1594335690840
    },
    {
     "file_id": "1LNYL6Zsn9Xlil2CVNOTsgDZQSBKeOjCh",
     "timestamp": 1566498233247
    },
    {
     "file_id": "/piper/depot/google3/third_party/tensorflow_models/object_detection/object_detection_tutorial.ipynb?workspaceId=markdaoust:copybara_AFABFE845DCD573AD3D43A6BAFBE77D4_0::citc",
     "timestamp": 1566488313397
    },
    {
     "file_id": "/piper/depot/google3/third_party/py/tensorflow_docs/g3doc/en/r2/tutorials/generative/object_detection_tutorial.ipynb?workspaceId=markdaoust:copybara_AFABFE845DCD573AD3D43A6BAFBE77D4_0::citc",
     "timestamp": 1566145894046
    },
    {
     "file_id": "1nBPoWynOV0auSIy40eQcBIk9C6YRSkI8",
     "timestamp": 1566145841085
    },
    {
     "file_id": "/piper/depot/google3/third_party/tensorflow_models/object_detection/object_detection_tutorial.ipynb?workspaceId=markdaoust:copybara_AFABFE845DCD573AD3D43A6BAFBE77D4_0::citc",
     "timestamp": 1556295408037
    },
    {
     "file_id": "1layerger-51XwWOwYMY_5zHaCavCeQkO",
     "timestamp": 1556214267924
    },
    {
     "file_id": "/piper/depot/google3/third_party/tensorflow_models/object_detection/object_detection_tutorial.ipynb?workspaceId=markdaoust:copybara_AFABFE845DCD573AD3D43A6BAFBE77D4_0::citc",
     "timestamp": 1556207836484
    },
    {
     "file_id": "1w6mqQiNV3liPIX70NOgitOlDF1_4sRMw",
     "timestamp": 1556154824101
    },
    {
     "file_id": "https://github.com/tensorflow/models/blob/master/research/object_detection/object_detection_tutorial.ipynb",
     "timestamp": 1556150293326
    }
   ]
  },
  "kernelspec": {
   "display_name": "Python 3",
   "language": "python",
   "name": "python3"
  },
  "language_info": {
   "codemirror_mode": {
    "name": "ipython",
    "version": 3
   },
   "file_extension": ".py",
   "mimetype": "text/x-python",
   "name": "python",
   "nbconvert_exporter": "python",
   "pygments_lexer": "ipython3",
   "version": "3.8.10"
  }
 },
 "nbformat": 4,
 "nbformat_minor": 1
}
